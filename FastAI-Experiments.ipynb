{
 "cells": [
  {
   "cell_type": "markdown",
   "metadata": {},
   "source": [
    "# FastAI Experiments"
   ]
  },
  {
   "cell_type": "code",
   "execution_count": 86,
   "metadata": {},
   "outputs": [],
   "source": [
    "from fastai.tabular import *\n",
    "import pandas as pd\n",
    "import numpy as np\n",
    "from sklearn.model_selection import train_test_split, StratifiedShuffleSplit\n",
    "import os\n",
    "import sys\n",
    "import glob\n",
    "from sklearn.utils import shuffle"
   ]
  },
  {
   "cell_type": "markdown",
   "metadata": {},
   "source": [
    "## Download dataset if not done already"
   ]
  },
  {
   "cell_type": "code",
   "execution_count": 1,
   "metadata": {},
   "outputs": [
    {
     "name": "stdout",
     "output_type": "stream",
     "text": [
      "  % Total    % Received % Xferd  Average Speed   Time    Time     Time  Current\n",
      "                                 Dload  Upload   Total   Spent    Left  Speed\n",
      "100 17.5M  100 17.5M    0     0  3431k      0  0:00:05  0:00:05 --:--:-- 3637k\n"
     ]
    }
   ],
   "source": [
    "! curl -O https://iscxdownloads.cs.unb.ca/iscxdownloads/ISCX-Tor-NonTor-2017/TorCSV.zip"
   ]
  },
  {
   "cell_type": "markdown",
   "metadata": {},
   "source": [
    "## check for TorCSV.zip file"
   ]
  },
  {
   "cell_type": "code",
   "execution_count": 2,
   "metadata": {},
   "outputs": [
    {
     "name": "stdout",
     "output_type": "stream",
     "text": [
      "FastAI-Experiments.ipynb README.md\r\n",
      "LICENSE                  TorCSV.zip\r\n"
     ]
    }
   ],
   "source": [
    "! ls"
   ]
  },
  {
   "cell_type": "markdown",
   "metadata": {},
   "source": [
    "## unzip TorCSV.zip file"
   ]
  },
  {
   "cell_type": "code",
   "execution_count": 3,
   "metadata": {},
   "outputs": [
    {
     "name": "stdout",
     "output_type": "stream",
     "text": [
      "Archive:  TorCSV.zip\n",
      "   creating: CSV/\n",
      "   creating: CSV/Scenario-A/\n",
      "  inflating: CSV/Scenario-A/SelectedFeatures-10s-TOR-NonTOR.csv  \n",
      "  inflating: CSV/Scenario-A/SelectedFeatures-15s-TOR-NonTOR.arff  \n",
      "  inflating: CSV/Scenario-A/TimeBasedFeatures-120s-TOR-NonTOR-15.arff  \n",
      "  inflating: CSV/Scenario-A/TimeBasedFeatures-120s-TOR-NonTOR-85.arff  \n",
      "  inflating: CSV/Scenario-A/TimeBasedFeatures-120s-TOR-NonTOR.arff  \n",
      "  inflating: CSV/Scenario-A/TimeBasedFeatures-15s-TOR-NonTOR-15.arff  \n",
      "  inflating: CSV/Scenario-A/TimeBasedFeatures-15s-TOR-NonTOR-85.arff  \n",
      "  inflating: CSV/Scenario-A/TimeBasedFeatures-15s-TOR-NonTOR.arff  \n",
      "  inflating: CSV/Scenario-A/TimeBasedFeatures-30s-TORNonTOR-15.arff  \n",
      "  inflating: CSV/Scenario-A/TimeBasedFeatures-30s-TORNonTOR-85.arff  \n",
      "  inflating: CSV/Scenario-A/TimeBasedFeatures-30s-TORNonTOR.arff  \n",
      "  inflating: CSV/Scenario-A/TimeBasedFeatures-60s-TOR-NonTOR-15.arff  \n",
      "  inflating: CSV/Scenario-A/TimeBasedFeatures-60s-TOR-NonTOR-85.arff  \n",
      "  inflating: CSV/Scenario-A/TimeBasedFeatures-60s-TOR-NonTOR.arff  \n",
      "  inflating: CSV/Scenario-A/merged_5s.csv  \n",
      "   creating: CSV/Scenario-B/\n",
      "  inflating: CSV/Scenario-B/TimeBasedFeatures-10s-Layer2.csv  \n",
      "  inflating: CSV/Scenario-B/TimeBasedFeatures-120s-layer2-15.arff  \n",
      "  inflating: CSV/Scenario-B/TimeBasedFeatures-120s-layer2-85.arff  \n",
      "  inflating: CSV/Scenario-B/TimeBasedFeatures-120s-layer2.arff  \n",
      "  inflating: CSV/Scenario-B/TimeBasedFeatures-15s-Layer2-15-anothercopy.arff  \n",
      "  inflating: CSV/Scenario-B/TimeBasedFeatures-15s-Layer2-15-copy.arff  \n",
      "  inflating: CSV/Scenario-B/TimeBasedFeatures-15s-Layer2-15.arff  \n",
      "  inflating: CSV/Scenario-B/TimeBasedFeatures-15s-Layer2-85.arff  \n",
      "  inflating: CSV/Scenario-B/TimeBasedFeatures-15s-Layer2.arff  \n",
      "  inflating: CSV/Scenario-B/TimeBasedFeatures-30s-Layer2-15.arff  \n",
      "  inflating: CSV/Scenario-B/TimeBasedFeatures-30s-Layer2-85.arff  \n",
      "  inflating: CSV/Scenario-B/TimeBasedFeatures-30s-Layer2.arff  \n",
      "  inflating: CSV/Scenario-B/TimeBasedFeatures-60s-Layer2-15.arff  \n",
      "  inflating: CSV/Scenario-B/TimeBasedFeatures-60s-Layer2-85.arff  \n",
      "  inflating: CSV/Scenario-B/TimeBasedFeatures-60s-Layer2.arff  \n",
      "  inflating: CSV/Scenario-B/merged_5s.csv  \n"
     ]
    }
   ],
   "source": [
    "! unzip TorCSV.zip"
   ]
  },
  {
   "cell_type": "code",
   "execution_count": 7,
   "metadata": {},
   "outputs": [
    {
     "name": "stdout",
     "output_type": "stream",
     "text": [
      "\u001b[34mScenario-A\u001b[m\u001b[m \u001b[34mScenario-B\u001b[m\u001b[m\r\n"
     ]
    }
   ],
   "source": [
    "! ls CSV\n",
    "# you'll see CSV root folder two subfolders Scenario-A and Scenario-B inside it"
   ]
  },
  {
   "cell_type": "markdown",
   "metadata": {},
   "source": [
    "## Clean Data\n",
    "- drop columns 'Source IP' and 'Destination IP'\n",
    "    - these features do not provide packet properties that aid in traffic classification\n",
    "- drop rows with values with NaN and Infinity\n",
    "    - can't properly represent these values"
   ]
  },
  {
   "cell_type": "code",
   "execution_count": 75,
   "metadata": {},
   "outputs": [],
   "source": [
    "def loadData(csvFile):\n",
    "    pickleDump = '{}.pickle'.format(csvFile)\n",
    "    if os.path.exists(pickleDump):\n",
    "        df = pd.read_pickle(pickleDump)\n",
    "    else:\n",
    "        df = pd.read_csv(csvFile, low_memory=False)\n",
    "        # clean data\n",
    "        # Note: there's a leading space for each column name except for the first one\n",
    "        # let's strip the whitspaces from column names\n",
    "        df = df.rename(str.strip, axis='columns')\n",
    "        df.drop(columns=['Source IP', 'Destination IP'], inplace=True)\n",
    "        # drop missing values/NaN etc.\n",
    "        df.dropna(inplace=True)\n",
    "        # drop Infinity rows and NaN string from each column\n",
    "        for col in df.columns:\n",
    "            indexNames = df[df[col]=='Infinity'].index\n",
    "            if not indexNames.empty:\n",
    "                print('deleting {} rows with Infinity in column {}'.format(len(indexNames), col))\n",
    "                df.drop(indexNames, inplace=True)\n",
    "            indexNames = df[df[col]=='NaN'].index\n",
    "            if not indexNames.empty:\n",
    "                print('deleting {} rows with NaN in column {}'.format(len(indexNames), col))\n",
    "                df.drop(indexNames, inplace=True)\n",
    "        \n",
    "        # convert  Flow Bytes/s object & Flow Packets/s object into float type\n",
    "        df['Flow Bytes/s'] = df['Flow Bytes/s'].astype('float64')\n",
    "        df['Flow Packets/s'] = df['Flow Packets/s'].astype('float64')\n",
    "        print(df.tail())\n",
    "        df.to_pickle(pickleDump)\n",
    "    \n",
    "    return df"
   ]
  },
  {
   "cell_type": "markdown",
   "metadata": {},
   "source": [
    "## Experimenting with Scenario-A Dataset"
   ]
  },
  {
   "cell_type": "code",
   "execution_count": 145,
   "metadata": {},
   "outputs": [],
   "source": [
    "dataPath = 'CSV/Scenario-A'\n",
    "csvFile = os.path.join(dataPath, 'merged_5s.csv')"
   ]
  },
  {
   "cell_type": "code",
   "execution_count": 146,
   "metadata": {},
   "outputs": [],
   "source": [
    "df = loadData(csvFile)"
   ]
  },
  {
   "cell_type": "code",
   "execution_count": 147,
   "metadata": {},
   "outputs": [
    {
     "data": {
      "text/plain": [
       "Source Port           int64\n",
       "Destination Port      int64\n",
       "Protocol              int64\n",
       "Flow Duration         int64\n",
       "Flow Bytes/s        float64\n",
       "Flow Packets/s      float64\n",
       "Flow IAT Mean       float64\n",
       "Flow IAT Std        float64\n",
       "Flow IAT Max          int64\n",
       "Flow IAT Min          int64\n",
       "Fwd IAT Mean        float64\n",
       "Fwd IAT Std         float64\n",
       "Fwd IAT Max           int64\n",
       "Fwd IAT Min           int64\n",
       "Bwd IAT Mean        float64\n",
       "Bwd IAT Std         float64\n",
       "Bwd IAT Max           int64\n",
       "Bwd IAT Min           int64\n",
       "Active Mean           int64\n",
       "Active Std            int64\n",
       "Active Max            int64\n",
       "Active Min            int64\n",
       "Idle Mean             int64\n",
       "Idle Std              int64\n",
       "Idle Max              int64\n",
       "Idle Min              int64\n",
       "label                object\n",
       "dtype: object"
      ]
     },
     "execution_count": 147,
     "metadata": {},
     "output_type": "execute_result"
    }
   ],
   "source": [
    "# check datatypes of each features\n",
    "df.dtypes"
   ]
  },
  {
   "cell_type": "code",
   "execution_count": 148,
   "metadata": {},
   "outputs": [
    {
     "data": {
      "text/plain": [
       "(84187, 27)"
      ]
     },
     "execution_count": 148,
     "metadata": {},
     "output_type": "execute_result"
    }
   ],
   "source": [
    "df.shape"
   ]
  },
  {
   "cell_type": "code",
   "execution_count": 149,
   "metadata": {},
   "outputs": [
    {
     "name": "stdout",
     "output_type": "stream",
     "text": [
      "total TOR: 14507\n",
      "total nonTOR:  69680\n"
     ]
    }
   ],
   "source": [
    "# total Tor samples\n",
    "print('total TOR:', len(df[df['label'] == 'TOR'].index))\n",
    "print('total nonTOR: ', len(df[df['label'] == 'nonTOR'].index))"
   ]
  },
  {
   "cell_type": "code",
   "execution_count": 150,
   "metadata": {},
   "outputs": [],
   "source": [
    "dep_var = 'label'\n",
    "cat_names = ['Source Port', 'Destination Port', 'Protocol']\n",
    "cont_names = list(set(df.columns) - set(cat_names) - set([dep_var]))"
   ]
  },
  {
   "cell_type": "code",
   "execution_count": 151,
   "metadata": {},
   "outputs": [
    {
     "data": {
      "text/plain": [
       "['Flow IAT Max',\n",
       " 'Active Max',\n",
       " 'Flow IAT Std',\n",
       " 'Flow Packets/s',\n",
       " 'Flow Bytes/s',\n",
       " 'Active Std',\n",
       " 'Flow IAT Min',\n",
       " 'Idle Min',\n",
       " 'Idle Max',\n",
       " 'Fwd IAT Mean',\n",
       " 'Idle Std',\n",
       " 'Bwd IAT Std',\n",
       " 'Idle Mean',\n",
       " 'Active Mean',\n",
       " 'Fwd IAT Min',\n",
       " 'Flow IAT Mean',\n",
       " 'Flow Duration',\n",
       " 'Fwd IAT Std',\n",
       " 'Bwd IAT Max',\n",
       " 'Fwd IAT Max',\n",
       " 'Bwd IAT Mean',\n",
       " 'Bwd IAT Min',\n",
       " 'Active Min']"
      ]
     },
     "execution_count": 151,
     "metadata": {},
     "output_type": "execute_result"
    }
   ],
   "source": [
    "cont_names"
   ]
  },
  {
   "cell_type": "code",
   "execution_count": 154,
   "metadata": {},
   "outputs": [
    {
     "name": "stdout",
     "output_type": "stream",
     "text": [
      "StratifiedShuffleSplit(n_splits=1, random_state=0, test_size=0.2,\n",
      "            train_size=None)\n"
     ]
    }
   ],
   "source": [
    "procs = [FillMissing, Categorify, Normalize]\n",
    "sss = StratifiedShuffleSplit(n_splits = 1, test_size=0.2, random_state=0)\n",
    "print(sss)"
   ]
  },
  {
   "cell_type": "code",
   "execution_count": 155,
   "metadata": {},
   "outputs": [
    {
     "data": {
      "text/html": [
       "<table border=\"1\" class=\"dataframe\">\n",
       "  <thead>\n",
       "    <tr style=\"text-align: left;\">\n",
       "      <th>epoch</th>\n",
       "      <th>train_loss</th>\n",
       "      <th>valid_loss</th>\n",
       "      <th>accuracy</th>\n",
       "      <th>time</th>\n",
       "    </tr>\n",
       "  </thead>\n",
       "  <tbody>\n",
       "    <tr>\n",
       "      <td>0</td>\n",
       "      <td>0.011850</td>\n",
       "      <td>0.009388</td>\n",
       "      <td>0.998515</td>\n",
       "      <td>01:16</td>\n",
       "    </tr>\n",
       "    <tr>\n",
       "      <td>1</td>\n",
       "      <td>0.005683</td>\n",
       "      <td>0.006707</td>\n",
       "      <td>0.998396</td>\n",
       "      <td>01:30</td>\n",
       "    </tr>\n",
       "    <tr>\n",
       "      <td>2</td>\n",
       "      <td>0.001925</td>\n",
       "      <td>0.001732</td>\n",
       "      <td>0.999406</td>\n",
       "      <td>01:48</td>\n",
       "    </tr>\n",
       "    <tr>\n",
       "      <td>3</td>\n",
       "      <td>0.002880</td>\n",
       "      <td>0.019688</td>\n",
       "      <td>0.999347</td>\n",
       "      <td>01:54</td>\n",
       "    </tr>\n",
       "    <tr>\n",
       "      <td>4</td>\n",
       "      <td>0.003746</td>\n",
       "      <td>0.002355</td>\n",
       "      <td>0.999584</td>\n",
       "      <td>01:52</td>\n",
       "    </tr>\n",
       "    <tr>\n",
       "      <td>5</td>\n",
       "      <td>0.000140</td>\n",
       "      <td>0.000836</td>\n",
       "      <td>0.999881</td>\n",
       "      <td>01:55</td>\n",
       "    </tr>\n",
       "    <tr>\n",
       "      <td>6</td>\n",
       "      <td>0.000261</td>\n",
       "      <td>0.004255</td>\n",
       "      <td>0.999822</td>\n",
       "      <td>01:45</td>\n",
       "    </tr>\n",
       "    <tr>\n",
       "      <td>7</td>\n",
       "      <td>0.000069</td>\n",
       "      <td>0.010362</td>\n",
       "      <td>0.999703</td>\n",
       "      <td>01:34</td>\n",
       "    </tr>\n",
       "    <tr>\n",
       "      <td>8</td>\n",
       "      <td>0.000659</td>\n",
       "      <td>0.022007</td>\n",
       "      <td>0.999644</td>\n",
       "      <td>01:29</td>\n",
       "    </tr>\n",
       "    <tr>\n",
       "      <td>9</td>\n",
       "      <td>0.000436</td>\n",
       "      <td>0.019929</td>\n",
       "      <td>0.999644</td>\n",
       "      <td>01:27</td>\n",
       "    </tr>\n",
       "  </tbody>\n",
       "</table>"
      ],
      "text/plain": [
       "<IPython.core.display.HTML object>"
      ]
     },
     "metadata": {},
     "output_type": "display_data"
    },
    {
     "data": {
      "image/png": "[encoded data removed]",
      "text/plain": [
       "<Figure size 432x288 with 1 Axes>"
      ]
     },
     "metadata": {},
     "output_type": "display_data"
    }
   ],
   "source": [
    "for train_idx, test_idx in sss.split(df.index, df[dep_var]):\n",
    "    data_fold = (TabularList.from_df(df, path=dataPath, cat_names=cat_names, cont_names=cont_names, procs=procs)\n",
    "                     .split_by_idxs(train_idx, test_idx)\n",
    "                     .label_from_df(cols=dep_var)\n",
    "                     .databunch())\n",
    "    # create model and learn\n",
    "    model = tabular_learner(data_fold, layers=[50, 20], metrics=accuracy, callback_fns=ShowGraph)\n",
    "    model.fit_one_cycle(cyc_len=10) #\n",
    "    model.save('{}.model'.format(os.path.basename(csvFile)))"
   ]
  },
  {
   "cell_type": "code",
   "execution_count": 156,
   "metadata": {},
   "outputs": [
    {
     "name": "stdout",
     "output_type": "stream",
     "text": [
      "loss 0.01992872543632984: accuracy: 99.96%\n"
     ]
    }
   ],
   "source": [
    "loss, acc = model.validate()\n",
    "print('loss {}: accuracy: {:.2f}%'.format(loss, acc*100))"
   ]
  },
  {
   "cell_type": "code",
   "execution_count": 157,
   "metadata": {},
   "outputs": [
    {
     "data": {
      "image/png": "[encoded data removed]",
      "text/plain": [
       "<Figure size 432x288 with 1 Axes>"
      ]
     },
     "metadata": {
      "needs_background": "light"
     },
     "output_type": "display_data"
    }
   ],
   "source": [
    "preds, y, losses = model.get_preds(with_loss=True)\n",
    "interp = ClassificationInterpretation(model, preds, y, losses)\n",
    "interp.plot_confusion_matrix()"
   ]
  },
  {
   "cell_type": "markdown",
   "metadata": {},
   "source": [
    "## Experiment with Scenario-B Dataset"
   ]
  },
  {
   "cell_type": "code",
   "execution_count": 110,
   "metadata": {},
   "outputs": [
    {
     "name": "stdout",
     "output_type": "stream",
     "text": [
      "deleting 1 rows with Infinity in column Flow Bytes/s\n",
      "       Source Port  Destination Port  Protocol  Flow Duration   Flow Bytes/s  \\\n",
      "14503          110             47257         6        3648143    3572.228391   \n",
      "14504          110             47257         6         396893    4104.380778   \n",
      "14505          110             47257         6           1327  818387.339864   \n",
      "14506          110             47257         6        4975151    3595.870758   \n",
      "14507          110             47257         6           2172  500000.000000   \n",
      "\n",
      "       Flow Packets/s  Flow IAT Mean   Flow IAT Std  Flow IAT Max  \\\n",
      "14503       11.786819   86860.547619  124077.405598        486240   \n",
      "14504       15.117425   79378.600000  176971.627751        395955   \n",
      "14505     2260.738508     663.500000     586.191522          1078   \n",
      "14506       10.451944   97551.980392  395666.184256       2803964   \n",
      "14507     1841.620626     724.000000     990.851654          1861   \n",
      "\n",
      "       Flow IAT Min  ...  Bwd IAT Min  Active Mean  Active Std  Active Max  \\\n",
      "14503             8  ...         2441            0           0           0   \n",
      "14504            53  ...          371            0           0           0   \n",
      "14505           249  ...            0            0           0           0   \n",
      "14506            16  ...          346      1567052           0     1567052   \n",
      "14507            45  ...         1861            0           0           0   \n",
      "\n",
      "       Active Min  Idle Mean  Idle Std  Idle Max  Idle Min  label  \n",
      "14503           0          0         0         0         0   CHAT  \n",
      "14504           0          0         0         0         0   CHAT  \n",
      "14505           0          0         0         0         0   CHAT  \n",
      "14506     1567052    2803964         0   2803964   2803964   CHAT  \n",
      "14507           0          0         0         0         0   CHAT  \n",
      "\n",
      "[5 rows x 27 columns]\n"
     ]
    },
    {
     "name": "stderr",
     "output_type": "stream",
     "text": [
      "/Users/rbasnet/miniconda3/lib/python3.7/site-packages/pandas/core/ops.py:1649: FutureWarning: elementwise comparison failed; returning scalar instead, but in the future will perform elementwise comparison\n",
      "  result = method(y)\n"
     ]
    }
   ],
   "source": [
    "dataPath = 'CSV/Scenario-B'\n",
    "csvFile = os.path.join(dataPath, 'merged_5s.csv')\n",
    "df = loadData(csvFile)"
   ]
  },
  {
   "cell_type": "code",
   "execution_count": 111,
   "metadata": {},
   "outputs": [
    {
     "data": {
      "text/plain": [
       "Source Port           int64\n",
       "Destination Port      int64\n",
       "Protocol              int64\n",
       "Flow Duration         int64\n",
       "Flow Bytes/s        float64\n",
       "Flow Packets/s      float64\n",
       "Flow IAT Mean       float64\n",
       "Flow IAT Std        float64\n",
       "Flow IAT Max          int64\n",
       "Flow IAT Min          int64\n",
       "Fwd IAT Mean        float64\n",
       "Fwd IAT Std         float64\n",
       "Fwd IAT Max           int64\n",
       "Fwd IAT Min           int64\n",
       "Bwd IAT Mean        float64\n",
       "Bwd IAT Std         float64\n",
       "Bwd IAT Max           int64\n",
       "Bwd IAT Min           int64\n",
       "Active Mean           int64\n",
       "Active Std            int64\n",
       "Active Max            int64\n",
       "Active Min            int64\n",
       "Idle Mean             int64\n",
       "Idle Std              int64\n",
       "Idle Max              int64\n",
       "Idle Min              int64\n",
       "label                object\n",
       "dtype: object"
      ]
     },
     "execution_count": 111,
     "metadata": {},
     "output_type": "execute_result"
    }
   ],
   "source": [
    "df.dtypes"
   ]
  },
  {
   "cell_type": "code",
   "execution_count": 117,
   "metadata": {},
   "outputs": [
    {
     "name": "stdout",
     "output_type": "stream",
     "text": [
      "all the labels: {'FILE-TRANSFER', 'BROWSING', 'VIDEO', 'AUDIO', 'VOIP', 'CHAT', 'P2P', 'MAIL'}\n",
      "total FILE-TRANSFER = 1663\n",
      "total BROWSING = 2644\n",
      "total VIDEO = 1529\n",
      "total AUDIO = 1026\n",
      "total VOIP = 4524\n",
      "total CHAT = 485\n",
      "total P2P = 2139\n",
      "total MAIL = 497\n"
     ]
    }
   ],
   "source": [
    "# see all the labels\n",
    "labels = set(df['label'])\n",
    "print('all the labels:', labels)\n",
    "# data districution for each label\n",
    "for label in labels:\n",
    "    print('total {} = {}'.format(label, len(df[df['label'] == label].index)))\n"
   ]
  },
  {
   "cell_type": "code",
   "execution_count": 119,
   "metadata": {},
   "outputs": [
    {
     "data": {
      "text/plain": [
       "(14507, 27)"
      ]
     },
     "execution_count": 119,
     "metadata": {},
     "output_type": "execute_result"
    }
   ],
   "source": [
    "df.shape"
   ]
  },
  {
   "cell_type": "code",
   "execution_count": 140,
   "metadata": {},
   "outputs": [],
   "source": [
    "def experiment(df):\n",
    "    procs = [FillMissing, Categorify, Normalize]\n",
    "    sss = StratifiedShuffleSplit(n_splits = 1, test_size=0.2, random_state=0)\n",
    "    for train_idx, test_idx in sss.split(df.index, df[dep_var]):\n",
    "        data_fold = (TabularList.from_df(df, path=dataPath, cat_names=cat_names, cont_names=cont_names, procs=procs)\n",
    "                         .split_by_idxs(train_idx, test_idx)\n",
    "                         .label_from_df(cols=dep_var)\n",
    "                         .databunch())\n",
    "        # create model and learn\n",
    "        model = tabular_learner(data_fold, layers=[50, 20], metrics=accuracy, callback_fns=ShowGraph)\n",
    "        model.fit_one_cycle(cyc_len=10) # learn for 10 epochs\n",
    "        model.save('{}.model'.format(os.path.basename(csvFile)))\n",
    "    return model"
   ]
  },
  {
   "cell_type": "code",
   "execution_count": 141,
   "metadata": {},
   "outputs": [
    {
     "data": {
      "text/html": [
       "<table border=\"1\" class=\"dataframe\">\n",
       "  <thead>\n",
       "    <tr style=\"text-align: left;\">\n",
       "      <th>epoch</th>\n",
       "      <th>train_loss</th>\n",
       "      <th>valid_loss</th>\n",
       "      <th>accuracy</th>\n",
       "      <th>time</th>\n",
       "    </tr>\n",
       "  </thead>\n",
       "  <tbody>\n",
       "    <tr>\n",
       "      <td>0</td>\n",
       "      <td>1.578605</td>\n",
       "      <td>1.252668</td>\n",
       "      <td>0.805996</td>\n",
       "      <td>00:02</td>\n",
       "    </tr>\n",
       "    <tr>\n",
       "      <td>1</td>\n",
       "      <td>0.316604</td>\n",
       "      <td>0.112759</td>\n",
       "      <td>0.986216</td>\n",
       "      <td>00:02</td>\n",
       "    </tr>\n",
       "    <tr>\n",
       "      <td>2</td>\n",
       "      <td>0.044748</td>\n",
       "      <td>0.021649</td>\n",
       "      <td>0.995176</td>\n",
       "      <td>00:02</td>\n",
       "    </tr>\n",
       "    <tr>\n",
       "      <td>3</td>\n",
       "      <td>0.010672</td>\n",
       "      <td>0.013448</td>\n",
       "      <td>0.996899</td>\n",
       "      <td>00:02</td>\n",
       "    </tr>\n",
       "    <tr>\n",
       "      <td>4</td>\n",
       "      <td>0.006725</td>\n",
       "      <td>0.012575</td>\n",
       "      <td>0.996899</td>\n",
       "      <td>00:02</td>\n",
       "    </tr>\n",
       "    <tr>\n",
       "      <td>5</td>\n",
       "      <td>0.004656</td>\n",
       "      <td>0.014507</td>\n",
       "      <td>0.996210</td>\n",
       "      <td>00:02</td>\n",
       "    </tr>\n",
       "    <tr>\n",
       "      <td>6</td>\n",
       "      <td>0.001364</td>\n",
       "      <td>0.013485</td>\n",
       "      <td>0.996899</td>\n",
       "      <td>00:02</td>\n",
       "    </tr>\n",
       "    <tr>\n",
       "      <td>7</td>\n",
       "      <td>0.001274</td>\n",
       "      <td>0.012900</td>\n",
       "      <td>0.997243</td>\n",
       "      <td>00:02</td>\n",
       "    </tr>\n",
       "    <tr>\n",
       "      <td>8</td>\n",
       "      <td>0.001794</td>\n",
       "      <td>0.012642</td>\n",
       "      <td>0.997243</td>\n",
       "      <td>00:02</td>\n",
       "    </tr>\n",
       "    <tr>\n",
       "      <td>9</td>\n",
       "      <td>0.000670</td>\n",
       "      <td>0.012437</td>\n",
       "      <td>0.997243</td>\n",
       "      <td>00:02</td>\n",
       "    </tr>\n",
       "  </tbody>\n",
       "</table>"
      ],
      "text/plain": [
       "<IPython.core.display.HTML object>"
      ]
     },
     "metadata": {},
     "output_type": "display_data"
    },
    {
     "data": {
      "image/png": "[encoded data removed]",
      "text/plain": [
       "<Figure size 432x288 with 1 Axes>"
      ]
     },
     "metadata": {},
     "output_type": "display_data"
    }
   ],
   "source": [
    "model = experiment(df)"
   ]
  },
  {
   "cell_type": "code",
   "execution_count": 142,
   "metadata": {},
   "outputs": [
    {
     "name": "stdout",
     "output_type": "stream",
     "text": [
      "loss 0.01243656501173973: accuracy: 99.72%\n"
     ]
    }
   ],
   "source": [
    "loss, acc = model.validate()\n",
    "print('loss {}: accuracy: {:.2f}%'.format(loss, acc*100))"
   ]
  },
  {
   "cell_type": "code",
   "execution_count": 143,
   "metadata": {},
   "outputs": [],
   "source": [
    "def drawConfusionMatrix(model):\n",
    "    preds, y, losses = model.get_preds(with_loss=True)\n",
    "    interp = ClassificationInterpretation(model, preds, y, losses)\n",
    "    interp.plot_confusion_matrix()"
   ]
  },
  {
   "cell_type": "code",
   "execution_count": 144,
   "metadata": {},
   "outputs": [
    {
     "data": {
      "image/png": "[encoded data removed]",
      "text/plain": [
       "<Figure size 432x288 with 1 Axes>"
      ]
     },
     "metadata": {
      "needs_background": "light"
     },
     "output_type": "display_data"
    }
   ],
   "source": [
    "drawConfusionMatrix(model)"
   ]
  },
  {
   "cell_type": "code",
   "execution_count": null,
   "metadata": {},
   "outputs": [],
   "source": []
  }
 ],
 "metadata": {
  "kernelspec": {
   "display_name": "Python 3",
   "language": "python",
   "name": "python3"
  },
  "language_info": {
   "codemirror_mode": {
    "name": "ipython",
    "version": 3
   },
   "file_extension": ".py",
   "mimetype": "text/x-python",
   "name": "python",
   "nbconvert_exporter": "python",
   "pygments_lexer": "ipython3",
   "version": "3.7.2"
  }
 },
 "nbformat": 4,
 "nbformat_minor": 2
}
