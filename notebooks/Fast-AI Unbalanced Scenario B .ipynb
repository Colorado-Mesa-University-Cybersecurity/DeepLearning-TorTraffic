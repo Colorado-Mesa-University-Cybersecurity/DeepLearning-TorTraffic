{
 "cells": [
  {
   "cell_type": "code",
   "execution_count": 1,
   "metadata": {},
   "outputs": [
    {
     "name": "stdout",
     "output_type": "stream",
     "text": [
      "libraries loaded\n"
     ]
    }
   ],
   "source": [
    "from fastai.tabular import *\n",
    "from scipy.io.arff import loadarff\n",
    "import pandas as pd\n",
    "import numpy as np\n",
    "from sklearn.model_selection import train_test_split, StratifiedShuffleSplit\n",
    "import os\n",
    "import sys\n",
    "import glob\n",
    "import pprint\n",
    "from sklearn.utils import shuffle\n",
    "p = pprint.PrettyPrinter(indent=4, width=30)\n",
    "pretty = p.pprint\n",
    "\n",
    "print('libraries loaded')"
   ]
  },
  {
   "cell_type": "code",
   "execution_count": 2,
   "metadata": {},
   "outputs": [
    {
     "name": "stdout",
     "output_type": "stream",
     "text": [
      "relevant libraries uploaded\n",
      "b'VOIP'               1509\n",
      "b'VIDEO-STREAMING'     598\n",
      "b'FILE-TRANSFER'       480\n",
      "b'CHAT'                243\n",
      "b'BROWSING'            227\n",
      "b'EMAIL'               186\n",
      "b'P2P'                  71\n",
      "b'AUDIO-STREAMING'      46\n",
      "Name: class1, dtype: int64\n",
      "['duration', 'total_fiat', 'total_biat', 'min_fiat', 'min_biat', 'max_fiat', 'max_biat', 'mean_fiat', 'mean_biat', 'flowPktsPerSecond', 'flowBytesPerSecond', 'min_flowiat', 'max_flowiat', 'mean_flowiat', 'std_flowiat', 'min_active', 'mean_active', 'max_active', 'std_active', 'min_idle', 'mean_idle', 'max_idle', 'std_idle', 'class1']\n"
     ]
    }
   ],
   "source": [
    "print('relevant libraries uploaded')\n",
    "\n",
    "# Choose your own filepath for arff file\n",
    "filepath = 'CICDataSet-TOR/Scenario-B/TimeBasedFeatures-15s-Layer2.arff'\n",
    "raw_data = loadarff(filepath)\n",
    "\n",
    "# Converting arff file into pandas dataframe\n",
    "df_data = pd.DataFrame(raw_data[0])\n",
    "\n",
    "# Now, you can perform pandas methods if it is easy enough for you\n",
    "print(df_data['class1'].value_counts())\n",
    "column_name = list(df_data.columns)\n",
    "print(column_name)\n",
    "\n",
    "dataPath = 'CICDataSet-TOR/Scenario-B'"
   ]
  },
  {
   "cell_type": "code",
   "execution_count": 3,
   "metadata": {},
   "outputs": [
    {
     "data": {
      "text/html": [
       "<div>\n",
       "<style scoped>\n",
       "    .dataframe tbody tr th:only-of-type {\n",
       "        vertical-align: middle;\n",
       "    }\n",
       "\n",
       "    .dataframe tbody tr th {\n",
       "        vertical-align: top;\n",
       "    }\n",
       "\n",
       "    .dataframe thead th {\n",
       "        text-align: right;\n",
       "    }\n",
       "</style>\n",
       "<table border=\"1\" class=\"dataframe\">\n",
       "  <thead>\n",
       "    <tr style=\"text-align: right;\">\n",
       "      <th></th>\n",
       "      <th>duration</th>\n",
       "      <th>total_fiat</th>\n",
       "      <th>total_biat</th>\n",
       "      <th>min_fiat</th>\n",
       "      <th>min_biat</th>\n",
       "      <th>max_fiat</th>\n",
       "      <th>max_biat</th>\n",
       "      <th>mean_fiat</th>\n",
       "      <th>mean_biat</th>\n",
       "      <th>flowPktsPerSecond</th>\n",
       "      <th>...</th>\n",
       "      <th>std_flowiat</th>\n",
       "      <th>min_active</th>\n",
       "      <th>mean_active</th>\n",
       "      <th>max_active</th>\n",
       "      <th>std_active</th>\n",
       "      <th>min_idle</th>\n",
       "      <th>mean_idle</th>\n",
       "      <th>max_idle</th>\n",
       "      <th>std_idle</th>\n",
       "      <th>class1</th>\n",
       "    </tr>\n",
       "  </thead>\n",
       "  <tbody>\n",
       "    <tr>\n",
       "      <th>0</th>\n",
       "      <td>10345300.0</td>\n",
       "      <td>10345257.0</td>\n",
       "      <td>10345174.0</td>\n",
       "      <td>60.0</td>\n",
       "      <td>52.0</td>\n",
       "      <td>5871778.0</td>\n",
       "      <td>5870638.0</td>\n",
       "      <td>517262.850000</td>\n",
       "      <td>470235.181818</td>\n",
       "      <td>4.253139</td>\n",
       "      <td>...</td>\n",
       "      <td>1.022685e+06</td>\n",
       "      <td>4092108.0</td>\n",
       "      <td>4981436.0</td>\n",
       "      <td>5870764.0</td>\n",
       "      <td>1.257700e+06</td>\n",
       "      <td>3435979.0</td>\n",
       "      <td>4653308.5</td>\n",
       "      <td>5870638.0</td>\n",
       "      <td>1.721564e+06</td>\n",
       "      <td>b'CHAT'</td>\n",
       "    </tr>\n",
       "    <tr>\n",
       "      <th>1</th>\n",
       "      <td>14966353.0</td>\n",
       "      <td>14966200.0</td>\n",
       "      <td>14966053.0</td>\n",
       "      <td>7.0</td>\n",
       "      <td>0.0</td>\n",
       "      <td>635321.0</td>\n",
       "      <td>635242.0</td>\n",
       "      <td>10502.596491</td>\n",
       "      <td>5615.779737</td>\n",
       "      <td>273.413302</td>\n",
       "      <td>...</td>\n",
       "      <td>2.134758e+04</td>\n",
       "      <td>-1.0</td>\n",
       "      <td>0.0</td>\n",
       "      <td>-1.0</td>\n",
       "      <td>0.000000e+00</td>\n",
       "      <td>-1.0</td>\n",
       "      <td>0.0</td>\n",
       "      <td>-1.0</td>\n",
       "      <td>0.000000e+00</td>\n",
       "      <td>b'VIDEO-STREAMING'</td>\n",
       "    </tr>\n",
       "    <tr>\n",
       "      <th>2</th>\n",
       "      <td>272867.0</td>\n",
       "      <td>233627.0</td>\n",
       "      <td>272820.0</td>\n",
       "      <td>20303.0</td>\n",
       "      <td>19353.0</td>\n",
       "      <td>213324.0</td>\n",
       "      <td>253467.0</td>\n",
       "      <td>116813.500000</td>\n",
       "      <td>136410.000000</td>\n",
       "      <td>21.988734</td>\n",
       "      <td>...</td>\n",
       "      <td>9.018174e+04</td>\n",
       "      <td>-1.0</td>\n",
       "      <td>0.0</td>\n",
       "      <td>-1.0</td>\n",
       "      <td>0.000000e+00</td>\n",
       "      <td>-1.0</td>\n",
       "      <td>0.0</td>\n",
       "      <td>-1.0</td>\n",
       "      <td>0.000000e+00</td>\n",
       "      <td>b'CHAT'</td>\n",
       "    </tr>\n",
       "    <tr>\n",
       "      <th>3</th>\n",
       "      <td>14999391.0</td>\n",
       "      <td>14998887.0</td>\n",
       "      <td>14999391.0</td>\n",
       "      <td>0.0</td>\n",
       "      <td>0.0</td>\n",
       "      <td>149034.0</td>\n",
       "      <td>146556.0</td>\n",
       "      <td>9062.771601</td>\n",
       "      <td>4758.690038</td>\n",
       "      <td>320.613017</td>\n",
       "      <td>...</td>\n",
       "      <td>9.995782e+03</td>\n",
       "      <td>-1.0</td>\n",
       "      <td>0.0</td>\n",
       "      <td>-1.0</td>\n",
       "      <td>0.000000e+00</td>\n",
       "      <td>-1.0</td>\n",
       "      <td>0.0</td>\n",
       "      <td>-1.0</td>\n",
       "      <td>0.000000e+00</td>\n",
       "      <td>b'VIDEO-STREAMING'</td>\n",
       "    </tr>\n",
       "    <tr>\n",
       "      <th>4</th>\n",
       "      <td>7190597.0</td>\n",
       "      <td>7189947.0</td>\n",
       "      <td>7190597.0</td>\n",
       "      <td>116.0</td>\n",
       "      <td>492.0</td>\n",
       "      <td>6555090.0</td>\n",
       "      <td>6594711.0</td>\n",
       "      <td>898743.375000</td>\n",
       "      <td>898824.625000</td>\n",
       "      <td>2.503269</td>\n",
       "      <td>...</td>\n",
       "      <td>1.582350e+06</td>\n",
       "      <td>7051063.0</td>\n",
       "      <td>7051063.0</td>\n",
       "      <td>7051063.0</td>\n",
       "      <td>0.000000e+00</td>\n",
       "      <td>6555090.0</td>\n",
       "      <td>6555090.0</td>\n",
       "      <td>6555090.0</td>\n",
       "      <td>0.000000e+00</td>\n",
       "      <td>b'CHAT'</td>\n",
       "    </tr>\n",
       "    <tr>\n",
       "      <th>...</th>\n",
       "      <td>...</td>\n",
       "      <td>...</td>\n",
       "      <td>...</td>\n",
       "      <td>...</td>\n",
       "      <td>...</td>\n",
       "      <td>...</td>\n",
       "      <td>...</td>\n",
       "      <td>...</td>\n",
       "      <td>...</td>\n",
       "      <td>...</td>\n",
       "      <td>...</td>\n",
       "      <td>...</td>\n",
       "      <td>...</td>\n",
       "      <td>...</td>\n",
       "      <td>...</td>\n",
       "      <td>...</td>\n",
       "      <td>...</td>\n",
       "      <td>...</td>\n",
       "      <td>...</td>\n",
       "      <td>...</td>\n",
       "      <td>...</td>\n",
       "    </tr>\n",
       "    <tr>\n",
       "      <th>3355</th>\n",
       "      <td>14976412.0</td>\n",
       "      <td>14951944.0</td>\n",
       "      <td>14976224.0</td>\n",
       "      <td>0.0</td>\n",
       "      <td>169.0</td>\n",
       "      <td>116860.0</td>\n",
       "      <td>116865.0</td>\n",
       "      <td>42237.129944</td>\n",
       "      <td>32416.069264</td>\n",
       "      <td>54.619224</td>\n",
       "      <td>...</td>\n",
       "      <td>2.221594e+04</td>\n",
       "      <td>-1.0</td>\n",
       "      <td>0.0</td>\n",
       "      <td>-1.0</td>\n",
       "      <td>0.000000e+00</td>\n",
       "      <td>-1.0</td>\n",
       "      <td>0.0</td>\n",
       "      <td>-1.0</td>\n",
       "      <td>0.000000e+00</td>\n",
       "      <td>b'VOIP'</td>\n",
       "    </tr>\n",
       "    <tr>\n",
       "      <th>3356</th>\n",
       "      <td>14985734.0</td>\n",
       "      <td>14985523.0</td>\n",
       "      <td>14985547.0</td>\n",
       "      <td>264.0</td>\n",
       "      <td>247.0</td>\n",
       "      <td>92345.0</td>\n",
       "      <td>92048.0</td>\n",
       "      <td>45273.483384</td>\n",
       "      <td>33903.952489</td>\n",
       "      <td>51.715852</td>\n",
       "      <td>...</td>\n",
       "      <td>2.154300e+04</td>\n",
       "      <td>-1.0</td>\n",
       "      <td>0.0</td>\n",
       "      <td>-1.0</td>\n",
       "      <td>0.000000e+00</td>\n",
       "      <td>-1.0</td>\n",
       "      <td>0.0</td>\n",
       "      <td>-1.0</td>\n",
       "      <td>0.000000e+00</td>\n",
       "      <td>b'VOIP'</td>\n",
       "    </tr>\n",
       "    <tr>\n",
       "      <th>3357</th>\n",
       "      <td>14962345.0</td>\n",
       "      <td>14949820.0</td>\n",
       "      <td>14962345.0</td>\n",
       "      <td>558.0</td>\n",
       "      <td>136.0</td>\n",
       "      <td>92602.0</td>\n",
       "      <td>85917.0</td>\n",
       "      <td>45029.578313</td>\n",
       "      <td>34005.329545</td>\n",
       "      <td>51.729859</td>\n",
       "      <td>...</td>\n",
       "      <td>2.151883e+04</td>\n",
       "      <td>-1.0</td>\n",
       "      <td>0.0</td>\n",
       "      <td>-1.0</td>\n",
       "      <td>0.000000e+00</td>\n",
       "      <td>-1.0</td>\n",
       "      <td>0.0</td>\n",
       "      <td>-1.0</td>\n",
       "      <td>0.000000e+00</td>\n",
       "      <td>b'VOIP'</td>\n",
       "    </tr>\n",
       "    <tr>\n",
       "      <th>3358</th>\n",
       "      <td>14956327.0</td>\n",
       "      <td>14950876.0</td>\n",
       "      <td>14956327.0</td>\n",
       "      <td>376.0</td>\n",
       "      <td>160.0</td>\n",
       "      <td>95703.0</td>\n",
       "      <td>101039.0</td>\n",
       "      <td>43716.011696</td>\n",
       "      <td>34069.082005</td>\n",
       "      <td>52.352426</td>\n",
       "      <td>...</td>\n",
       "      <td>2.139296e+04</td>\n",
       "      <td>-1.0</td>\n",
       "      <td>0.0</td>\n",
       "      <td>-1.0</td>\n",
       "      <td>0.000000e+00</td>\n",
       "      <td>-1.0</td>\n",
       "      <td>0.0</td>\n",
       "      <td>-1.0</td>\n",
       "      <td>0.000000e+00</td>\n",
       "      <td>b'VOIP'</td>\n",
       "    </tr>\n",
       "    <tr>\n",
       "      <th>3359</th>\n",
       "      <td>3037641.0</td>\n",
       "      <td>3037509.0</td>\n",
       "      <td>3037330.0</td>\n",
       "      <td>166.0</td>\n",
       "      <td>325.0</td>\n",
       "      <td>583397.0</td>\n",
       "      <td>583407.0</td>\n",
       "      <td>70639.744186</td>\n",
       "      <td>59555.490196</td>\n",
       "      <td>31.603471</td>\n",
       "      <td>...</td>\n",
       "      <td>7.277184e+04</td>\n",
       "      <td>-1.0</td>\n",
       "      <td>0.0</td>\n",
       "      <td>-1.0</td>\n",
       "      <td>0.000000e+00</td>\n",
       "      <td>-1.0</td>\n",
       "      <td>0.0</td>\n",
       "      <td>-1.0</td>\n",
       "      <td>0.000000e+00</td>\n",
       "      <td>b'VOIP'</td>\n",
       "    </tr>\n",
       "  </tbody>\n",
       "</table>\n",
       "<p>3360 rows × 24 columns</p>\n",
       "</div>"
      ],
      "text/plain": [
       "        duration  total_fiat  total_biat  min_fiat  min_biat   max_fiat  \\\n",
       "0     10345300.0  10345257.0  10345174.0      60.0      52.0  5871778.0   \n",
       "1     14966353.0  14966200.0  14966053.0       7.0       0.0   635321.0   \n",
       "2       272867.0    233627.0    272820.0   20303.0   19353.0   213324.0   \n",
       "3     14999391.0  14998887.0  14999391.0       0.0       0.0   149034.0   \n",
       "4      7190597.0   7189947.0   7190597.0     116.0     492.0  6555090.0   \n",
       "...          ...         ...         ...       ...       ...        ...   \n",
       "3355  14976412.0  14951944.0  14976224.0       0.0     169.0   116860.0   \n",
       "3356  14985734.0  14985523.0  14985547.0     264.0     247.0    92345.0   \n",
       "3357  14962345.0  14949820.0  14962345.0     558.0     136.0    92602.0   \n",
       "3358  14956327.0  14950876.0  14956327.0     376.0     160.0    95703.0   \n",
       "3359   3037641.0   3037509.0   3037330.0     166.0     325.0   583397.0   \n",
       "\n",
       "       max_biat      mean_fiat      mean_biat  flowPktsPerSecond  ...  \\\n",
       "0     5870638.0  517262.850000  470235.181818           4.253139  ...   \n",
       "1      635242.0   10502.596491    5615.779737         273.413302  ...   \n",
       "2      253467.0  116813.500000  136410.000000          21.988734  ...   \n",
       "3      146556.0    9062.771601    4758.690038         320.613017  ...   \n",
       "4     6594711.0  898743.375000  898824.625000           2.503269  ...   \n",
       "...         ...            ...            ...                ...  ...   \n",
       "3355   116865.0   42237.129944   32416.069264          54.619224  ...   \n",
       "3356    92048.0   45273.483384   33903.952489          51.715852  ...   \n",
       "3357    85917.0   45029.578313   34005.329545          51.729859  ...   \n",
       "3358   101039.0   43716.011696   34069.082005          52.352426  ...   \n",
       "3359   583407.0   70639.744186   59555.490196          31.603471  ...   \n",
       "\n",
       "       std_flowiat  min_active  mean_active  max_active    std_active  \\\n",
       "0     1.022685e+06   4092108.0    4981436.0   5870764.0  1.257700e+06   \n",
       "1     2.134758e+04        -1.0          0.0        -1.0  0.000000e+00   \n",
       "2     9.018174e+04        -1.0          0.0        -1.0  0.000000e+00   \n",
       "3     9.995782e+03        -1.0          0.0        -1.0  0.000000e+00   \n",
       "4     1.582350e+06   7051063.0    7051063.0   7051063.0  0.000000e+00   \n",
       "...            ...         ...          ...         ...           ...   \n",
       "3355  2.221594e+04        -1.0          0.0        -1.0  0.000000e+00   \n",
       "3356  2.154300e+04        -1.0          0.0        -1.0  0.000000e+00   \n",
       "3357  2.151883e+04        -1.0          0.0        -1.0  0.000000e+00   \n",
       "3358  2.139296e+04        -1.0          0.0        -1.0  0.000000e+00   \n",
       "3359  7.277184e+04        -1.0          0.0        -1.0  0.000000e+00   \n",
       "\n",
       "       min_idle  mean_idle   max_idle      std_idle              class1  \n",
       "0     3435979.0  4653308.5  5870638.0  1.721564e+06             b'CHAT'  \n",
       "1          -1.0        0.0       -1.0  0.000000e+00  b'VIDEO-STREAMING'  \n",
       "2          -1.0        0.0       -1.0  0.000000e+00             b'CHAT'  \n",
       "3          -1.0        0.0       -1.0  0.000000e+00  b'VIDEO-STREAMING'  \n",
       "4     6555090.0  6555090.0  6555090.0  0.000000e+00             b'CHAT'  \n",
       "...         ...        ...        ...           ...                 ...  \n",
       "3355       -1.0        0.0       -1.0  0.000000e+00             b'VOIP'  \n",
       "3356       -1.0        0.0       -1.0  0.000000e+00             b'VOIP'  \n",
       "3357       -1.0        0.0       -1.0  0.000000e+00             b'VOIP'  \n",
       "3358       -1.0        0.0       -1.0  0.000000e+00             b'VOIP'  \n",
       "3359       -1.0        0.0       -1.0  0.000000e+00             b'VOIP'  \n",
       "\n",
       "[3360 rows x 24 columns]"
      ]
     },
     "execution_count": 3,
     "metadata": {},
     "output_type": "execute_result"
    }
   ],
   "source": [
    "df_data"
   ]
  },
  {
   "cell_type": "code",
   "execution_count": 4,
   "metadata": {},
   "outputs": [
    {
     "data": {
      "text/plain": [
       "duration              float64\n",
       "total_fiat            float64\n",
       "total_biat            float64\n",
       "min_fiat              float64\n",
       "min_biat              float64\n",
       "max_fiat              float64\n",
       "max_biat              float64\n",
       "mean_fiat             float64\n",
       "mean_biat             float64\n",
       "flowPktsPerSecond     float64\n",
       "flowBytesPerSecond    float64\n",
       "min_flowiat           float64\n",
       "max_flowiat           float64\n",
       "mean_flowiat          float64\n",
       "std_flowiat           float64\n",
       "min_active            float64\n",
       "mean_active           float64\n",
       "max_active            float64\n",
       "std_active            float64\n",
       "min_idle              float64\n",
       "mean_idle             float64\n",
       "max_idle              float64\n",
       "std_idle              float64\n",
       "class1                 object\n",
       "dtype: object"
      ]
     },
     "execution_count": 4,
     "metadata": {},
     "output_type": "execute_result"
    }
   ],
   "source": [
    "# total Tor samples\n",
    "df_data['class1'].value_counts()\n",
    "df_data.dtypes"
   ]
  },
  {
   "cell_type": "code",
   "execution_count": 10,
   "metadata": {},
   "outputs": [],
   "source": [
    "df_dep_var = 'class1'\n",
    "#df_cat_names = ['duration', 'total_fiat', 'total_biat']\n",
    "cont_names = list(set(df_data.columns) - set([df_dep_var]))"
   ]
  },
  {
   "cell_type": "code",
   "execution_count": 11,
   "metadata": {},
   "outputs": [
    {
     "data": {
      "text/plain": [
       "['total_biat',\n",
       " 'min_idle',\n",
       " 'max_flowiat',\n",
       " 'mean_idle',\n",
       " 'max_active',\n",
       " 'max_fiat',\n",
       " 'mean_fiat',\n",
       " 'max_biat',\n",
       " 'min_flowiat',\n",
       " 'mean_flowiat',\n",
       " 'std_active',\n",
       " 'min_biat',\n",
       " 'std_flowiat',\n",
       " 'min_active',\n",
       " 'min_fiat',\n",
       " 'mean_active',\n",
       " 'max_idle',\n",
       " 'std_idle',\n",
       " 'duration',\n",
       " 'mean_biat',\n",
       " 'flowBytesPerSecond',\n",
       " 'total_fiat',\n",
       " 'flowPktsPerSecond']"
      ]
     },
     "execution_count": 11,
     "metadata": {},
     "output_type": "execute_result"
    }
   ],
   "source": [
    "cont_names"
   ]
  },
  {
   "cell_type": "code",
   "execution_count": 6,
   "metadata": {},
   "outputs": [
    {
     "name": "stdout",
     "output_type": "stream",
     "text": [
      "StratifiedShuffleSplit(n_splits=2, random_state=0, test_size=0.5,\n",
      "            train_size=None)\n"
     ]
    }
   ],
   "source": [
    "procs = [FillMissing, Categorify, Normalize]\n",
    "sss = StratifiedShuffleSplit(n_splits = 2, test_size=0.5, random_state=0)\n",
    "print(sss)"
   ]
  },
  {
   "cell_type": "code",
   "execution_count": 19,
   "metadata": {},
   "outputs": [
    {
     "data": {
      "text/html": [
       "<table border=\"1\" class=\"dataframe\">\n",
       "  <thead>\n",
       "    <tr style=\"text-align: left;\">\n",
       "      <th>epoch</th>\n",
       "      <th>train_loss</th>\n",
       "      <th>valid_loss</th>\n",
       "      <th>accuracy</th>\n",
       "      <th>time</th>\n",
       "    </tr>\n",
       "  </thead>\n",
       "  <tbody>\n",
       "    <tr>\n",
       "      <td>0</td>\n",
       "      <td>0.720718</td>\n",
       "      <td>0.680326</td>\n",
       "      <td>0.007468</td>\n",
       "      <td>00:00</td>\n",
       "    </tr>\n",
       "    <tr>\n",
       "      <td>1</td>\n",
       "      <td>0.674276</td>\n",
       "      <td>0.631263</td>\n",
       "      <td>0.004113</td>\n",
       "      <td>00:00</td>\n",
       "    </tr>\n",
       "    <tr>\n",
       "      <td>2</td>\n",
       "      <td>0.606932</td>\n",
       "      <td>0.636398</td>\n",
       "      <td>0.113718</td>\n",
       "      <td>00:00</td>\n",
       "    </tr>\n",
       "    <tr>\n",
       "      <td>3</td>\n",
       "      <td>0.532973</td>\n",
       "      <td>0.449568</td>\n",
       "      <td>0.098431</td>\n",
       "      <td>00:00</td>\n",
       "    </tr>\n",
       "    <tr>\n",
       "      <td>4</td>\n",
       "      <td>0.465488</td>\n",
       "      <td>0.521532</td>\n",
       "      <td>0.013799</td>\n",
       "      <td>00:00</td>\n",
       "    </tr>\n",
       "    <tr>\n",
       "      <td>5</td>\n",
       "      <td>0.407174</td>\n",
       "      <td>0.447811</td>\n",
       "      <td>0.000000</td>\n",
       "      <td>00:00</td>\n",
       "    </tr>\n",
       "    <tr>\n",
       "      <td>6</td>\n",
       "      <td>0.363691</td>\n",
       "      <td>0.370444</td>\n",
       "      <td>0.000000</td>\n",
       "      <td>00:00</td>\n",
       "    </tr>\n",
       "    <tr>\n",
       "      <td>7</td>\n",
       "      <td>0.333964</td>\n",
       "      <td>0.402378</td>\n",
       "      <td>0.000000</td>\n",
       "      <td>00:00</td>\n",
       "    </tr>\n",
       "    <tr>\n",
       "      <td>8</td>\n",
       "      <td>0.313967</td>\n",
       "      <td>0.375437</td>\n",
       "      <td>0.000000</td>\n",
       "      <td>00:00</td>\n",
       "    </tr>\n",
       "    <tr>\n",
       "      <td>9</td>\n",
       "      <td>0.301398</td>\n",
       "      <td>0.391595</td>\n",
       "      <td>0.000000</td>\n",
       "      <td>00:00</td>\n",
       "    </tr>\n",
       "  </tbody>\n",
       "</table>"
      ],
      "text/plain": [
       "<IPython.core.display.HTML object>"
      ]
     },
     "metadata": {},
     "output_type": "display_data"
    },
    {
     "data": {
      "image/png": "[encoded data removed]",
      "text/plain": [
       "<Figure size 432x288 with 1 Axes>"
      ]
     },
     "metadata": {},
     "output_type": "display_data"
    },
    {
     "data": {
      "text/html": [
       "<table border=\"1\" class=\"dataframe\">\n",
       "  <thead>\n",
       "    <tr style=\"text-align: left;\">\n",
       "      <th>epoch</th>\n",
       "      <th>train_loss</th>\n",
       "      <th>valid_loss</th>\n",
       "      <th>accuracy</th>\n",
       "      <th>time</th>\n",
       "    </tr>\n",
       "  </thead>\n",
       "  <tbody>\n",
       "    <tr>\n",
       "      <td>0</td>\n",
       "      <td>0.726284</td>\n",
       "      <td>0.714424</td>\n",
       "      <td>0.046374</td>\n",
       "      <td>00:00</td>\n",
       "    </tr>\n",
       "    <tr>\n",
       "      <td>1</td>\n",
       "      <td>0.685392</td>\n",
       "      <td>0.641872</td>\n",
       "      <td>0.003842</td>\n",
       "      <td>00:00</td>\n",
       "    </tr>\n",
       "    <tr>\n",
       "      <td>2</td>\n",
       "      <td>0.618944</td>\n",
       "      <td>0.613587</td>\n",
       "      <td>0.072186</td>\n",
       "      <td>00:00</td>\n",
       "    </tr>\n",
       "    <tr>\n",
       "      <td>3</td>\n",
       "      <td>0.542451</td>\n",
       "      <td>0.498992</td>\n",
       "      <td>0.077841</td>\n",
       "      <td>00:00</td>\n",
       "    </tr>\n",
       "    <tr>\n",
       "      <td>4</td>\n",
       "      <td>0.467953</td>\n",
       "      <td>0.399570</td>\n",
       "      <td>0.042641</td>\n",
       "      <td>00:00</td>\n",
       "    </tr>\n",
       "    <tr>\n",
       "      <td>5</td>\n",
       "      <td>0.405097</td>\n",
       "      <td>0.404292</td>\n",
       "      <td>0.001596</td>\n",
       "      <td>00:00</td>\n",
       "    </tr>\n",
       "    <tr>\n",
       "      <td>6</td>\n",
       "      <td>0.359013</td>\n",
       "      <td>0.336372</td>\n",
       "      <td>0.001596</td>\n",
       "      <td>00:00</td>\n",
       "    </tr>\n",
       "    <tr>\n",
       "      <td>7</td>\n",
       "      <td>0.328554</td>\n",
       "      <td>0.346254</td>\n",
       "      <td>0.000000</td>\n",
       "      <td>00:00</td>\n",
       "    </tr>\n",
       "    <tr>\n",
       "      <td>8</td>\n",
       "      <td>0.308468</td>\n",
       "      <td>0.358011</td>\n",
       "      <td>0.001596</td>\n",
       "      <td>00:00</td>\n",
       "    </tr>\n",
       "    <tr>\n",
       "      <td>9</td>\n",
       "      <td>0.296538</td>\n",
       "      <td>0.360833</td>\n",
       "      <td>0.001596</td>\n",
       "      <td>00:00</td>\n",
       "    </tr>\n",
       "  </tbody>\n",
       "</table>"
      ],
      "text/plain": [
       "<IPython.core.display.HTML object>"
      ]
     },
     "metadata": {},
     "output_type": "display_data"
    },
    {
     "data": {
      "image/png": "[encoded data removed]",
      "text/plain": [
       "<Figure size 432x288 with 1 Axes>"
      ]
     },
     "metadata": {},
     "output_type": "display_data"
    }
   ],
   "source": [
    "for train_idx, test_idx in sss.split(df_data.index, df_data[df_dep_var]):\n",
    "    data_fold = (TabularList.from_df(df_data, path=dataPath, cont_names=cont_names, procs=procs)\n",
    "                     .split_by_idxs(train_idx, test_idx)\n",
    "                     .label_from_df(cols=df_dep_var)\n",
    "                     .databunch())\n",
    "    # create model and learn\n",
    "    model = tabular_learner(data_fold, layers=[50, 20], metrics=accuracy, callback_fns=ShowGraph)\n",
    "    model.fit_one_cycle(cyc_len=10) #\n",
    "    model.save('{}.model'.format(os.path.basename(filepath)))"
   ]
  },
  {
   "cell_type": "code",
   "execution_count": 20,
   "metadata": {},
   "outputs": [
    {
     "data": {
      "text/html": [],
      "text/plain": [
       "<IPython.core.display.HTML object>"
      ]
     },
     "metadata": {},
     "output_type": "display_data"
    },
    {
     "name": "stdout",
     "output_type": "stream",
     "text": [
      "loss 0.3608328700065613: accuracy: 0.16%\n"
     ]
    }
   ],
   "source": [
    "loss, acc = model.validate()\n",
    "print('loss {}: accuracy: {:.2f}%'.format(loss, acc*100))"
   ]
  },
  {
   "cell_type": "code",
   "execution_count": 25,
   "metadata": {},
   "outputs": [
    {
     "data": {
      "text/html": [],
      "text/plain": [
       "<IPython.core.display.HTML object>"
      ]
     },
     "metadata": {},
     "output_type": "display_data"
    },
    {
     "data": {
      "image/png": "[encoded data removed]",
      "text/plain": [
       "<Figure size 432x288 with 1 Axes>"
      ]
     },
     "metadata": {
      "needs_background": "light"
     },
     "output_type": "display_data"
    }
   ],
   "source": [
    "preds, y, losses = model.get_preds(with_loss=True)\n",
    "interp = ClassificationInterpretation(model, preds, y, losses)\n",
    "interp.plot_confusion_matrix()"
   ]
  },
  {
   "cell_type": "code",
   "execution_count": 21,
   "metadata": {},
   "outputs": [
    {
     "name": "stdout",
     "output_type": "stream",
     "text": [
      "relevant libraries uploaded\n",
      "b'VOIP'               237\n",
      "b'VIDEO-STREAMING'     83\n",
      "b'FILE-TRANSFER'       76\n",
      "b'BROWSING'            37\n",
      "b'CHAT'                30\n",
      "b'EMAIL'               27\n",
      "b'P2P'                 10\n",
      "b'AUDIO-STREAMING'      4\n",
      "Name: class1, dtype: int64\n",
      "['duration', 'total_fiat', 'total_biat', 'min_fiat', 'min_biat', 'max_fiat', 'max_biat', 'mean_fiat', 'mean_biat', 'flowPktsPerSecond', 'flowBytesPerSecond', 'min_flowiat', 'max_flowiat', 'mean_flowiat', 'std_flowiat', 'min_active', 'mean_active', 'max_active', 'std_active', 'min_idle', 'mean_idle', 'max_idle', 'std_idle', 'class1']\n"
     ]
    }
   ],
   "source": [
    "print('relevant libraries uploaded')\n",
    "\n",
    "# Choose your own filepath for arff file\n",
    "filepath = 'CICDataSet-TOR/Scenario-B/TimeBasedFeatures-15s-Layer2-15.arff'\n",
    "raw_data = loadarff(filepath)\n",
    "\n",
    "# Converting arff file into pandas dataframe\n",
    "df_data = pd.DataFrame(raw_data[0])\n",
    "\n",
    "# Now, you can perform pandas methods if it is easy enough for you\n",
    "print(df_data['class1'].value_counts())\n",
    "column_name = list(df_data.columns)\n",
    "print(column_name)\n"
   ]
  },
  {
   "cell_type": "code",
   "execution_count": 22,
   "metadata": {},
   "outputs": [],
   "source": [
    "df_dep_var = 'class1'\n",
    "cont_names = list(set(df_data.columns) - set([df_dep_var]))"
   ]
  },
  {
   "cell_type": "code",
   "execution_count": 23,
   "metadata": {},
   "outputs": [
    {
     "data": {
      "text/html": [
       "<table border=\"1\" class=\"dataframe\">\n",
       "  <thead>\n",
       "    <tr style=\"text-align: left;\">\n",
       "      <th>epoch</th>\n",
       "      <th>train_loss</th>\n",
       "      <th>valid_loss</th>\n",
       "      <th>accuracy</th>\n",
       "      <th>time</th>\n",
       "    </tr>\n",
       "  </thead>\n",
       "  <tbody>\n",
       "    <tr>\n",
       "      <td>0</td>\n",
       "      <td>0.716506</td>\n",
       "      <td>0.710394</td>\n",
       "      <td>0.000000</td>\n",
       "      <td>00:00</td>\n",
       "    </tr>\n",
       "    <tr>\n",
       "      <td>1</td>\n",
       "      <td>0.711502</td>\n",
       "      <td>0.710715</td>\n",
       "      <td>0.028680</td>\n",
       "      <td>00:00</td>\n",
       "    </tr>\n",
       "    <tr>\n",
       "      <td>2</td>\n",
       "      <td>0.702235</td>\n",
       "      <td>0.709528</td>\n",
       "      <td>0.023268</td>\n",
       "      <td>00:00</td>\n",
       "    </tr>\n",
       "    <tr>\n",
       "      <td>3</td>\n",
       "      <td>0.691975</td>\n",
       "      <td>0.702624</td>\n",
       "      <td>0.009921</td>\n",
       "      <td>00:00</td>\n",
       "    </tr>\n",
       "    <tr>\n",
       "      <td>4</td>\n",
       "      <td>0.678390</td>\n",
       "      <td>0.699320</td>\n",
       "      <td>0.003247</td>\n",
       "      <td>00:00</td>\n",
       "    </tr>\n",
       "    <tr>\n",
       "      <td>5</td>\n",
       "      <td>0.668483</td>\n",
       "      <td>0.704211</td>\n",
       "      <td>0.005772</td>\n",
       "      <td>00:00</td>\n",
       "    </tr>\n",
       "    <tr>\n",
       "      <td>6</td>\n",
       "      <td>0.657948</td>\n",
       "      <td>0.706548</td>\n",
       "      <td>0.005772</td>\n",
       "      <td>00:00</td>\n",
       "    </tr>\n",
       "    <tr>\n",
       "      <td>7</td>\n",
       "      <td>0.648343</td>\n",
       "      <td>0.708619</td>\n",
       "      <td>0.005772</td>\n",
       "      <td>00:00</td>\n",
       "    </tr>\n",
       "    <tr>\n",
       "      <td>8</td>\n",
       "      <td>0.639800</td>\n",
       "      <td>0.712392</td>\n",
       "      <td>0.005772</td>\n",
       "      <td>00:00</td>\n",
       "    </tr>\n",
       "    <tr>\n",
       "      <td>9</td>\n",
       "      <td>0.632933</td>\n",
       "      <td>0.718554</td>\n",
       "      <td>0.005772</td>\n",
       "      <td>00:00</td>\n",
       "    </tr>\n",
       "  </tbody>\n",
       "</table>"
      ],
      "text/plain": [
       "<IPython.core.display.HTML object>"
      ]
     },
     "metadata": {},
     "output_type": "display_data"
    },
    {
     "data": {
      "image/png": "[encoded data removed]",
      "text/plain": [
       "<Figure size 432x288 with 1 Axes>"
      ]
     },
     "metadata": {},
     "output_type": "display_data"
    },
    {
     "data": {
      "text/html": [
       "<table border=\"1\" class=\"dataframe\">\n",
       "  <thead>\n",
       "    <tr style=\"text-align: left;\">\n",
       "      <th>epoch</th>\n",
       "      <th>train_loss</th>\n",
       "      <th>valid_loss</th>\n",
       "      <th>accuracy</th>\n",
       "      <th>time</th>\n",
       "    </tr>\n",
       "  </thead>\n",
       "  <tbody>\n",
       "    <tr>\n",
       "      <td>0</td>\n",
       "      <td>0.760774</td>\n",
       "      <td>0.725020</td>\n",
       "      <td>0.000000</td>\n",
       "      <td>00:00</td>\n",
       "    </tr>\n",
       "    <tr>\n",
       "      <td>1</td>\n",
       "      <td>0.755104</td>\n",
       "      <td>0.722923</td>\n",
       "      <td>0.000000</td>\n",
       "      <td>00:00</td>\n",
       "    </tr>\n",
       "    <tr>\n",
       "      <td>2</td>\n",
       "      <td>0.742287</td>\n",
       "      <td>0.717620</td>\n",
       "      <td>0.000000</td>\n",
       "      <td>00:00</td>\n",
       "    </tr>\n",
       "    <tr>\n",
       "      <td>3</td>\n",
       "      <td>0.729964</td>\n",
       "      <td>0.708797</td>\n",
       "      <td>0.000000</td>\n",
       "      <td>00:00</td>\n",
       "    </tr>\n",
       "    <tr>\n",
       "      <td>4</td>\n",
       "      <td>0.714924</td>\n",
       "      <td>0.698830</td>\n",
       "      <td>0.000000</td>\n",
       "      <td>00:00</td>\n",
       "    </tr>\n",
       "    <tr>\n",
       "      <td>5</td>\n",
       "      <td>0.700926</td>\n",
       "      <td>0.692105</td>\n",
       "      <td>0.000000</td>\n",
       "      <td>00:00</td>\n",
       "    </tr>\n",
       "    <tr>\n",
       "      <td>6</td>\n",
       "      <td>0.689147</td>\n",
       "      <td>0.688000</td>\n",
       "      <td>0.000000</td>\n",
       "      <td>00:00</td>\n",
       "    </tr>\n",
       "    <tr>\n",
       "      <td>7</td>\n",
       "      <td>0.677625</td>\n",
       "      <td>0.685875</td>\n",
       "      <td>0.000000</td>\n",
       "      <td>00:00</td>\n",
       "    </tr>\n",
       "    <tr>\n",
       "      <td>8</td>\n",
       "      <td>0.667761</td>\n",
       "      <td>0.684396</td>\n",
       "      <td>0.000000</td>\n",
       "      <td>00:00</td>\n",
       "    </tr>\n",
       "    <tr>\n",
       "      <td>9</td>\n",
       "      <td>0.659232</td>\n",
       "      <td>0.689207</td>\n",
       "      <td>0.000000</td>\n",
       "      <td>00:00</td>\n",
       "    </tr>\n",
       "  </tbody>\n",
       "</table>"
      ],
      "text/plain": [
       "<IPython.core.display.HTML object>"
      ]
     },
     "metadata": {},
     "output_type": "display_data"
    },
    {
     "data": {
      "image/png": "[encoded data removed]",
      "text/plain": [
       "<Figure size 432x288 with 1 Axes>"
      ]
     },
     "metadata": {},
     "output_type": "display_data"
    }
   ],
   "source": [
    "for train_idx, test_idx in sss.split(df_data.index, df_data[df_dep_var]):\n",
    "    data_fold = (TabularList.from_df(df_data, path=dataPath, cont_names=cont_names, procs=procs)\n",
    "                     .split_by_idxs(train_idx, test_idx)\n",
    "                     .label_from_df(cols=df_dep_var)\n",
    "                     .databunch())\n",
    "    # create model and learn\n",
    "    model = tabular_learner(data_fold, layers=[50, 20], metrics=accuracy, callback_fns=ShowGraph)\n",
    "    model.fit_one_cycle(cyc_len=10) #\n",
    "    model.save('{}.model'.format(os.path.basename(filepath)))"
   ]
  },
  {
   "cell_type": "code",
   "execution_count": 24,
   "metadata": {},
   "outputs": [
    {
     "data": {
      "text/html": [],
      "text/plain": [
       "<IPython.core.display.HTML object>"
      ]
     },
     "metadata": {},
     "output_type": "display_data"
    },
    {
     "name": "stdout",
     "output_type": "stream",
     "text": [
      "loss 0.6892073154449463: accuracy: 0.00%\n"
     ]
    }
   ],
   "source": [
    "loss, acc = model.validate()\n",
    "print('loss {}: accuracy: {:.2f}%'.format(loss, acc*100))"
   ]
  },
  {
   "cell_type": "code",
   "execution_count": 26,
   "metadata": {},
   "outputs": [
    {
     "data": {
      "text/html": [],
      "text/plain": [
       "<IPython.core.display.HTML object>"
      ]
     },
     "metadata": {},
     "output_type": "display_data"
    },
    {
     "data": {
      "image/png": "[encoded data removed]",
      "text/plain": [
       "<Figure size 432x288 with 1 Axes>"
      ]
     },
     "metadata": {
      "needs_background": "light"
     },
     "output_type": "display_data"
    }
   ],
   "source": [
    "preds, y, losses = model.get_preds(with_loss=True)\n",
    "interp = ClassificationInterpretation(model, preds, y, losses)\n",
    "interp.plot_confusion_matrix()"
   ]
  },
  {
   "cell_type": "code",
   "execution_count": 28,
   "metadata": {},
   "outputs": [
    {
     "name": "stdout",
     "output_type": "stream",
     "text": [
      "relevant libraries uploaded\n",
      "b'VOIP'               1272\n",
      "b'VIDEO-STREAMING'     515\n",
      "b'FILE-TRANSFER'       404\n",
      "b'CHAT'                213\n",
      "b'BROWSING'            190\n",
      "b'EMAIL'               159\n",
      "b'P2P'                  61\n",
      "b'AUDIO-STREAMING'      42\n",
      "Name: class1, dtype: int64\n",
      "['duration', 'total_fiat', 'total_biat', 'min_fiat', 'min_biat', 'max_fiat', 'max_biat', 'mean_fiat', 'mean_biat', 'flowPktsPerSecond', 'flowBytesPerSecond', 'min_flowiat', 'max_flowiat', 'mean_flowiat', 'std_flowiat', 'min_active', 'mean_active', 'max_active', 'std_active', 'min_idle', 'mean_idle', 'max_idle', 'std_idle', 'class1']\n"
     ]
    }
   ],
   "source": [
    "print('relevant libraries uploaded')\n",
    "\n",
    "# Choose your own filepath for arff file\n",
    "filepath = 'CICDataSet-TOR/Scenario-B/TimeBasedFeatures-15s-Layer2-85.arff'\n",
    "raw_data = loadarff(filepath)\n",
    "\n",
    "# Converting arff file into pandas dataframe\n",
    "df_data = pd.DataFrame(raw_data[0])\n",
    "\n",
    "# Now, you can perform pandas methods if it is easy enough for you\n",
    "print(df_data['class1'].value_counts())\n",
    "column_name = list(df_data.columns)\n",
    "print(column_name)\n"
   ]
  },
  {
   "cell_type": "code",
   "execution_count": 29,
   "metadata": {},
   "outputs": [],
   "source": [
    "df_dep_var = 'class1'\n",
    "cont_names = list(set(df_data.columns) - set([df_dep_var]))"
   ]
  },
  {
   "cell_type": "code",
   "execution_count": 30,
   "metadata": {},
   "outputs": [
    {
     "data": {
      "text/html": [
       "<table border=\"1\" class=\"dataframe\">\n",
       "  <thead>\n",
       "    <tr style=\"text-align: left;\">\n",
       "      <th>epoch</th>\n",
       "      <th>train_loss</th>\n",
       "      <th>valid_loss</th>\n",
       "      <th>accuracy</th>\n",
       "      <th>time</th>\n",
       "    </tr>\n",
       "  </thead>\n",
       "  <tbody>\n",
       "    <tr>\n",
       "      <td>0</td>\n",
       "      <td>0.715610</td>\n",
       "      <td>0.686591</td>\n",
       "      <td>0.156704</td>\n",
       "      <td>00:00</td>\n",
       "    </tr>\n",
       "    <tr>\n",
       "      <td>1</td>\n",
       "      <td>0.671351</td>\n",
       "      <td>0.643435</td>\n",
       "      <td>0.126496</td>\n",
       "      <td>00:00</td>\n",
       "    </tr>\n",
       "    <tr>\n",
       "      <td>2</td>\n",
       "      <td>0.613572</td>\n",
       "      <td>0.607776</td>\n",
       "      <td>0.102559</td>\n",
       "      <td>00:00</td>\n",
       "    </tr>\n",
       "    <tr>\n",
       "      <td>3</td>\n",
       "      <td>0.555624</td>\n",
       "      <td>0.602497</td>\n",
       "      <td>0.107716</td>\n",
       "      <td>00:00</td>\n",
       "    </tr>\n",
       "    <tr>\n",
       "      <td>4</td>\n",
       "      <td>0.502118</td>\n",
       "      <td>0.543594</td>\n",
       "      <td>0.083142</td>\n",
       "      <td>00:00</td>\n",
       "    </tr>\n",
       "    <tr>\n",
       "      <td>5</td>\n",
       "      <td>0.450631</td>\n",
       "      <td>0.489821</td>\n",
       "      <td>0.102368</td>\n",
       "      <td>00:00</td>\n",
       "    </tr>\n",
       "    <tr>\n",
       "      <td>6</td>\n",
       "      <td>0.406670</td>\n",
       "      <td>0.470490</td>\n",
       "      <td>0.102400</td>\n",
       "      <td>00:00</td>\n",
       "    </tr>\n",
       "    <tr>\n",
       "      <td>7</td>\n",
       "      <td>0.372497</td>\n",
       "      <td>0.451340</td>\n",
       "      <td>0.065031</td>\n",
       "      <td>00:00</td>\n",
       "    </tr>\n",
       "    <tr>\n",
       "      <td>8</td>\n",
       "      <td>0.349517</td>\n",
       "      <td>0.441484</td>\n",
       "      <td>0.042526</td>\n",
       "      <td>00:00</td>\n",
       "    </tr>\n",
       "    <tr>\n",
       "      <td>9</td>\n",
       "      <td>0.332701</td>\n",
       "      <td>0.454694</td>\n",
       "      <td>0.054367</td>\n",
       "      <td>00:00</td>\n",
       "    </tr>\n",
       "  </tbody>\n",
       "</table>"
      ],
      "text/plain": [
       "<IPython.core.display.HTML object>"
      ]
     },
     "metadata": {},
     "output_type": "display_data"
    },
    {
     "data": {
      "image/png": "[encoded data removed]",
      "text/plain": [
       "<Figure size 432x288 with 1 Axes>"
      ]
     },
     "metadata": {},
     "output_type": "display_data"
    },
    {
     "data": {
      "text/html": [
       "<table border=\"1\" class=\"dataframe\">\n",
       "  <thead>\n",
       "    <tr style=\"text-align: left;\">\n",
       "      <th>epoch</th>\n",
       "      <th>train_loss</th>\n",
       "      <th>valid_loss</th>\n",
       "      <th>accuracy</th>\n",
       "      <th>time</th>\n",
       "    </tr>\n",
       "  </thead>\n",
       "  <tbody>\n",
       "    <tr>\n",
       "      <td>0</td>\n",
       "      <td>0.699488</td>\n",
       "      <td>0.687541</td>\n",
       "      <td>0.000000</td>\n",
       "      <td>00:00</td>\n",
       "    </tr>\n",
       "    <tr>\n",
       "      <td>1</td>\n",
       "      <td>0.665493</td>\n",
       "      <td>0.656538</td>\n",
       "      <td>0.119525</td>\n",
       "      <td>00:00</td>\n",
       "    </tr>\n",
       "    <tr>\n",
       "      <td>2</td>\n",
       "      <td>0.611547</td>\n",
       "      <td>0.585642</td>\n",
       "      <td>0.125000</td>\n",
       "      <td>00:00</td>\n",
       "    </tr>\n",
       "    <tr>\n",
       "      <td>3</td>\n",
       "      <td>0.549006</td>\n",
       "      <td>0.463757</td>\n",
       "      <td>0.088044</td>\n",
       "      <td>00:00</td>\n",
       "    </tr>\n",
       "    <tr>\n",
       "      <td>4</td>\n",
       "      <td>0.490324</td>\n",
       "      <td>0.443265</td>\n",
       "      <td>0.109371</td>\n",
       "      <td>00:00</td>\n",
       "    </tr>\n",
       "    <tr>\n",
       "      <td>5</td>\n",
       "      <td>0.437226</td>\n",
       "      <td>0.446850</td>\n",
       "      <td>0.088076</td>\n",
       "      <td>00:00</td>\n",
       "    </tr>\n",
       "    <tr>\n",
       "      <td>6</td>\n",
       "      <td>0.391115</td>\n",
       "      <td>0.436255</td>\n",
       "      <td>0.036510</td>\n",
       "      <td>00:00</td>\n",
       "    </tr>\n",
       "    <tr>\n",
       "      <td>7</td>\n",
       "      <td>0.358612</td>\n",
       "      <td>0.356260</td>\n",
       "      <td>0.033422</td>\n",
       "      <td>00:00</td>\n",
       "    </tr>\n",
       "    <tr>\n",
       "      <td>8</td>\n",
       "      <td>0.335503</td>\n",
       "      <td>0.370199</td>\n",
       "      <td>0.020595</td>\n",
       "      <td>00:00</td>\n",
       "    </tr>\n",
       "    <tr>\n",
       "      <td>9</td>\n",
       "      <td>0.319047</td>\n",
       "      <td>0.383180</td>\n",
       "      <td>0.021931</td>\n",
       "      <td>00:00</td>\n",
       "    </tr>\n",
       "  </tbody>\n",
       "</table>"
      ],
      "text/plain": [
       "<IPython.core.display.HTML object>"
      ]
     },
     "metadata": {},
     "output_type": "display_data"
    },
    {
     "data": {
      "image/png": "[encoded data removed]",
      "text/plain": [
       "<Figure size 432x288 with 1 Axes>"
      ]
     },
     "metadata": {},
     "output_type": "display_data"
    }
   ],
   "source": [
    "for train_idx, test_idx in sss.split(df_data.index, df_data[df_dep_var]):\n",
    "    data_fold = (TabularList.from_df(df_data, path=dataPath, cont_names=cont_names, procs=procs)\n",
    "                     .split_by_idxs(train_idx, test_idx)\n",
    "                     .label_from_df(cols=df_dep_var)\n",
    "                     .databunch())\n",
    "    # create model and learn\n",
    "    model = tabular_learner(data_fold, layers=[50, 20], metrics=accuracy, callback_fns=ShowGraph)\n",
    "    model.fit_one_cycle(cyc_len=10) #\n",
    "    model.save('{}.model'.format(os.path.basename(filepath)))"
   ]
  },
  {
   "cell_type": "code",
   "execution_count": 31,
   "metadata": {},
   "outputs": [
    {
     "data": {
      "text/html": [],
      "text/plain": [
       "<IPython.core.display.HTML object>"
      ]
     },
     "metadata": {},
     "output_type": "display_data"
    },
    {
     "name": "stdout",
     "output_type": "stream",
     "text": [
      "loss 0.38318032026290894: accuracy: 2.19%\n"
     ]
    }
   ],
   "source": [
    "loss, acc = model.validate()\n",
    "print('loss {}: accuracy: {:.2f}%'.format(loss, acc*100))"
   ]
  },
  {
   "cell_type": "code",
   "execution_count": 32,
   "metadata": {},
   "outputs": [
    {
     "data": {
      "text/html": [],
      "text/plain": [
       "<IPython.core.display.HTML object>"
      ]
     },
     "metadata": {},
     "output_type": "display_data"
    },
    {
     "data": {
      "image/png": "[encoded data removed]",
      "text/plain": [
       "<Figure size 432x288 with 1 Axes>"
      ]
     },
     "metadata": {
      "needs_background": "light"
     },
     "output_type": "display_data"
    }
   ],
   "source": [
    "preds, y, losses = model.get_preds(with_loss=True)\n",
    "interp = ClassificationInterpretation(model, preds, y, losses)\n",
    "interp.plot_confusion_matrix()"
   ]
  },
  {
   "cell_type": "code",
   "execution_count": 33,
   "metadata": {},
   "outputs": [
    {
     "name": "stdout",
     "output_type": "stream",
     "text": [
      "relevant libraries uploaded\n",
      "b'VOIP'               758\n",
      "b'VIDEO-STREAMING'    345\n",
      "b'FILE-TRANSFER'      246\n",
      "b'CHAT'               147\n",
      "b'BROWSING'           133\n",
      "b'EMAIL'              104\n",
      "b'P2P'                 38\n",
      "b'AUDIO-STREAMING'     32\n",
      "Name: class1, dtype: int64\n",
      "['duration', 'total_fiat', 'total_biat', 'min_fiat', 'min_biat', 'max_fiat', 'max_biat', 'mean_fiat', 'mean_biat', 'flowPktsPerSecond', 'flowBytesPerSecond', 'min_flowiat', 'max_flowiat', 'mean_flowiat', 'std_flowiat', 'min_active', 'mean_active', 'max_active', 'std_active', 'min_idle', 'mean_idle', 'max_idle', 'std_idle', 'class1']\n"
     ]
    }
   ],
   "source": [
    "print('relevant libraries uploaded')\n",
    "\n",
    "# Choose your own filepath for arff file\n",
    "filepath = 'CICDataSet-TOR/Scenario-B/TimeBasedFeatures-30s-Layer2.arff'\n",
    "raw_data = loadarff(filepath)\n",
    "\n",
    "# Converting arff file into pandas dataframe\n",
    "df_data = pd.DataFrame(raw_data[0])\n",
    "\n",
    "# Now, you can perform pandas methods if it is easy enough for you\n",
    "print(df_data['class1'].value_counts())\n",
    "column_name = list(df_data.columns)\n",
    "print(column_name)\n"
   ]
  },
  {
   "cell_type": "code",
   "execution_count": 34,
   "metadata": {},
   "outputs": [],
   "source": [
    "df_dep_var = 'class1'\n",
    "cont_names = list(set(df_data.columns) - set([df_dep_var]))"
   ]
  },
  {
   "cell_type": "code",
   "execution_count": 35,
   "metadata": {},
   "outputs": [
    {
     "data": {
      "text/html": [
       "<table border=\"1\" class=\"dataframe\">\n",
       "  <thead>\n",
       "    <tr style=\"text-align: left;\">\n",
       "      <th>epoch</th>\n",
       "      <th>train_loss</th>\n",
       "      <th>valid_loss</th>\n",
       "      <th>accuracy</th>\n",
       "      <th>time</th>\n",
       "    </tr>\n",
       "  </thead>\n",
       "  <tbody>\n",
       "    <tr>\n",
       "      <td>0</td>\n",
       "      <td>0.725824</td>\n",
       "      <td>0.729691</td>\n",
       "      <td>0.014261</td>\n",
       "      <td>00:00</td>\n",
       "    </tr>\n",
       "    <tr>\n",
       "      <td>1</td>\n",
       "      <td>0.694192</td>\n",
       "      <td>0.730327</td>\n",
       "      <td>0.004989</td>\n",
       "      <td>00:00</td>\n",
       "    </tr>\n",
       "    <tr>\n",
       "      <td>2</td>\n",
       "      <td>0.654359</td>\n",
       "      <td>0.705255</td>\n",
       "      <td>0.030337</td>\n",
       "      <td>00:00</td>\n",
       "    </tr>\n",
       "    <tr>\n",
       "      <td>3</td>\n",
       "      <td>0.613870</td>\n",
       "      <td>0.705704</td>\n",
       "      <td>0.001310</td>\n",
       "      <td>00:00</td>\n",
       "    </tr>\n",
       "    <tr>\n",
       "      <td>4</td>\n",
       "      <td>0.576684</td>\n",
       "      <td>0.705480</td>\n",
       "      <td>0.001361</td>\n",
       "      <td>00:00</td>\n",
       "    </tr>\n",
       "    <tr>\n",
       "      <td>5</td>\n",
       "      <td>0.543075</td>\n",
       "      <td>0.685836</td>\n",
       "      <td>0.001361</td>\n",
       "      <td>00:00</td>\n",
       "    </tr>\n",
       "    <tr>\n",
       "      <td>6</td>\n",
       "      <td>0.513639</td>\n",
       "      <td>0.703866</td>\n",
       "      <td>0.003225</td>\n",
       "      <td>00:00</td>\n",
       "    </tr>\n",
       "    <tr>\n",
       "      <td>7</td>\n",
       "      <td>0.490051</td>\n",
       "      <td>0.652577</td>\n",
       "      <td>0.006601</td>\n",
       "      <td>00:00</td>\n",
       "    </tr>\n",
       "    <tr>\n",
       "      <td>8</td>\n",
       "      <td>0.470441</td>\n",
       "      <td>0.649729</td>\n",
       "      <td>0.023080</td>\n",
       "      <td>00:00</td>\n",
       "    </tr>\n",
       "    <tr>\n",
       "      <td>9</td>\n",
       "      <td>0.456212</td>\n",
       "      <td>0.642092</td>\n",
       "      <td>0.024743</td>\n",
       "      <td>00:00</td>\n",
       "    </tr>\n",
       "  </tbody>\n",
       "</table>"
      ],
      "text/plain": [
       "<IPython.core.display.HTML object>"
      ]
     },
     "metadata": {},
     "output_type": "display_data"
    },
    {
     "data": {
      "image/png": "[encoded data removed]",
      "text/plain": [
       "<Figure size 432x288 with 1 Axes>"
      ]
     },
     "metadata": {},
     "output_type": "display_data"
    },
    {
     "data": {
      "text/html": [
       "<table border=\"1\" class=\"dataframe\">\n",
       "  <thead>\n",
       "    <tr style=\"text-align: left;\">\n",
       "      <th>epoch</th>\n",
       "      <th>train_loss</th>\n",
       "      <th>valid_loss</th>\n",
       "      <th>accuracy</th>\n",
       "      <th>time</th>\n",
       "    </tr>\n",
       "  </thead>\n",
       "  <tbody>\n",
       "    <tr>\n",
       "      <td>0</td>\n",
       "      <td>0.718207</td>\n",
       "      <td>0.683101</td>\n",
       "      <td>0.028976</td>\n",
       "      <td>00:00</td>\n",
       "    </tr>\n",
       "    <tr>\n",
       "      <td>1</td>\n",
       "      <td>0.686676</td>\n",
       "      <td>0.645267</td>\n",
       "      <td>0.000000</td>\n",
       "      <td>00:00</td>\n",
       "    </tr>\n",
       "    <tr>\n",
       "      <td>2</td>\n",
       "      <td>0.648536</td>\n",
       "      <td>0.629927</td>\n",
       "      <td>0.000000</td>\n",
       "      <td>00:00</td>\n",
       "    </tr>\n",
       "    <tr>\n",
       "      <td>3</td>\n",
       "      <td>0.607620</td>\n",
       "      <td>0.598057</td>\n",
       "      <td>0.000000</td>\n",
       "      <td>00:00</td>\n",
       "    </tr>\n",
       "    <tr>\n",
       "      <td>4</td>\n",
       "      <td>0.570629</td>\n",
       "      <td>0.610541</td>\n",
       "      <td>0.000000</td>\n",
       "      <td>00:00</td>\n",
       "    </tr>\n",
       "    <tr>\n",
       "      <td>5</td>\n",
       "      <td>0.539324</td>\n",
       "      <td>0.637162</td>\n",
       "      <td>0.000000</td>\n",
       "      <td>00:00</td>\n",
       "    </tr>\n",
       "    <tr>\n",
       "      <td>6</td>\n",
       "      <td>0.510133</td>\n",
       "      <td>0.531158</td>\n",
       "      <td>0.000000</td>\n",
       "      <td>00:00</td>\n",
       "    </tr>\n",
       "    <tr>\n",
       "      <td>7</td>\n",
       "      <td>0.485760</td>\n",
       "      <td>0.523449</td>\n",
       "      <td>0.000000</td>\n",
       "      <td>00:00</td>\n",
       "    </tr>\n",
       "    <tr>\n",
       "      <td>8</td>\n",
       "      <td>0.466018</td>\n",
       "      <td>0.518539</td>\n",
       "      <td>0.000000</td>\n",
       "      <td>00:00</td>\n",
       "    </tr>\n",
       "    <tr>\n",
       "      <td>9</td>\n",
       "      <td>0.449295</td>\n",
       "      <td>0.517777</td>\n",
       "      <td>0.000000</td>\n",
       "      <td>00:00</td>\n",
       "    </tr>\n",
       "  </tbody>\n",
       "</table>"
      ],
      "text/plain": [
       "<IPython.core.display.HTML object>"
      ]
     },
     "metadata": {},
     "output_type": "display_data"
    },
    {
     "data": {
      "image/png": "[encoded data removed]",
      "text/plain": [
       "<Figure size 432x288 with 1 Axes>"
      ]
     },
     "metadata": {},
     "output_type": "display_data"
    }
   ],
   "source": [
    "for train_idx, test_idx in sss.split(df_data.index, df_data[df_dep_var]):\n",
    "    data_fold = (TabularList.from_df(df_data, path=dataPath, cont_names=cont_names, procs=procs)\n",
    "                     .split_by_idxs(train_idx, test_idx)\n",
    "                     .label_from_df(cols=df_dep_var)\n",
    "                     .databunch())\n",
    "    # create model and learn\n",
    "    model = tabular_learner(data_fold, layers=[50, 20], metrics=accuracy, callback_fns=ShowGraph)\n",
    "    model.fit_one_cycle(cyc_len=10) #\n",
    "    model.save('{}.model'.format(os.path.basename(filepath)))"
   ]
  },
  {
   "cell_type": "code",
   "execution_count": 36,
   "metadata": {},
   "outputs": [
    {
     "data": {
      "text/html": [],
      "text/plain": [
       "<IPython.core.display.HTML object>"
      ]
     },
     "metadata": {},
     "output_type": "display_data"
    },
    {
     "name": "stdout",
     "output_type": "stream",
     "text": [
      "loss 0.5177773833274841: accuracy: 0.00%\n"
     ]
    }
   ],
   "source": [
    "loss, acc = model.validate()\n",
    "print('loss {}: accuracy: {:.2f}%'.format(loss, acc*100))"
   ]
  },
  {
   "cell_type": "code",
   "execution_count": 37,
   "metadata": {},
   "outputs": [
    {
     "data": {
      "text/html": [],
      "text/plain": [
       "<IPython.core.display.HTML object>"
      ]
     },
     "metadata": {},
     "output_type": "display_data"
    },
    {
     "data": {
      "image/png": "[encoded data removed]",
      "text/plain": [
       "<Figure size 432x288 with 1 Axes>"
      ]
     },
     "metadata": {
      "needs_background": "light"
     },
     "output_type": "display_data"
    }
   ],
   "source": [
    "preds, y, losses = model.get_preds(with_loss=True)\n",
    "interp = ClassificationInterpretation(model, preds, y, losses)\n",
    "interp.plot_confusion_matrix()"
   ]
  },
  {
   "cell_type": "code",
   "execution_count": 38,
   "metadata": {},
   "outputs": [
    {
     "name": "stdout",
     "output_type": "stream",
     "text": [
      "relevant libraries uploaded\n",
      "b'VOIP'               105\n",
      "b'VIDEO-STREAMING'     63\n",
      "b'FILE-TRANSFER'       37\n",
      "b'CHAT'                28\n",
      "b'EMAIL'               15\n",
      "b'BROWSING'            14\n",
      "b'AUDIO-STREAMING'      5\n",
      "b'P2P'                  4\n",
      "Name: class1, dtype: int64\n",
      "['duration', 'total_fiat', 'total_biat', 'min_fiat', 'min_biat', 'max_fiat', 'max_biat', 'mean_fiat', 'mean_biat', 'flowPktsPerSecond', 'flowBytesPerSecond', 'min_flowiat', 'max_flowiat', 'mean_flowiat', 'std_flowiat', 'min_active', 'mean_active', 'max_active', 'std_active', 'min_idle', 'mean_idle', 'max_idle', 'std_idle', 'class1']\n"
     ]
    }
   ],
   "source": [
    "print('relevant libraries uploaded')\n",
    "\n",
    "# Choose your own filepath for arff file\n",
    "filepath = 'CICDataSet-TOR/Scenario-B/TimeBasedFeatures-30s-Layer2-15.arff'\n",
    "raw_data = loadarff(filepath)\n",
    "\n",
    "# Converting arff file into pandas dataframe\n",
    "df_data = pd.DataFrame(raw_data[0])\n",
    "\n",
    "# Now, you can perform pandas methods if it is easy enough for you\n",
    "print(df_data['class1'].value_counts())\n",
    "column_name = list(df_data.columns)\n",
    "print(column_name)\n"
   ]
  },
  {
   "cell_type": "code",
   "execution_count": 40,
   "metadata": {},
   "outputs": [],
   "source": [
    "df_dep_var = 'class1'\n",
    "cont_names = list(set(df_data.columns) - set([df_dep_var]))"
   ]
  },
  {
   "cell_type": "code",
   "execution_count": 41,
   "metadata": {},
   "outputs": [
    {
     "data": {
      "text/html": [
       "<table border=\"1\" class=\"dataframe\">\n",
       "  <thead>\n",
       "    <tr style=\"text-align: left;\">\n",
       "      <th>epoch</th>\n",
       "      <th>train_loss</th>\n",
       "      <th>valid_loss</th>\n",
       "      <th>accuracy</th>\n",
       "      <th>time</th>\n",
       "    </tr>\n",
       "  </thead>\n",
       "  <tbody>\n",
       "    <tr>\n",
       "      <td>0</td>\n",
       "      <td>0.733662</td>\n",
       "      <td>0.696435</td>\n",
       "      <td>0.000000</td>\n",
       "      <td>00:00</td>\n",
       "    </tr>\n",
       "    <tr>\n",
       "      <td>1</td>\n",
       "      <td>0.732301</td>\n",
       "      <td>0.695312</td>\n",
       "      <td>0.000000</td>\n",
       "      <td>00:00</td>\n",
       "    </tr>\n",
       "    <tr>\n",
       "      <td>2</td>\n",
       "      <td>0.728313</td>\n",
       "      <td>0.693540</td>\n",
       "      <td>0.000000</td>\n",
       "      <td>00:00</td>\n",
       "    </tr>\n",
       "    <tr>\n",
       "      <td>3</td>\n",
       "      <td>0.720385</td>\n",
       "      <td>0.690551</td>\n",
       "      <td>0.000000</td>\n",
       "      <td>00:00</td>\n",
       "    </tr>\n",
       "    <tr>\n",
       "      <td>4</td>\n",
       "      <td>0.711332</td>\n",
       "      <td>0.689321</td>\n",
       "      <td>0.003008</td>\n",
       "      <td>00:00</td>\n",
       "    </tr>\n",
       "    <tr>\n",
       "      <td>5</td>\n",
       "      <td>0.701908</td>\n",
       "      <td>0.688211</td>\n",
       "      <td>0.006016</td>\n",
       "      <td>00:00</td>\n",
       "    </tr>\n",
       "    <tr>\n",
       "      <td>6</td>\n",
       "      <td>0.693680</td>\n",
       "      <td>0.687189</td>\n",
       "      <td>0.006016</td>\n",
       "      <td>00:00</td>\n",
       "    </tr>\n",
       "    <tr>\n",
       "      <td>7</td>\n",
       "      <td>0.686655</td>\n",
       "      <td>0.686514</td>\n",
       "      <td>0.006016</td>\n",
       "      <td>00:00</td>\n",
       "    </tr>\n",
       "    <tr>\n",
       "      <td>8</td>\n",
       "      <td>0.679902</td>\n",
       "      <td>0.686637</td>\n",
       "      <td>0.006016</td>\n",
       "      <td>00:00</td>\n",
       "    </tr>\n",
       "    <tr>\n",
       "      <td>9</td>\n",
       "      <td>0.674901</td>\n",
       "      <td>0.686759</td>\n",
       "      <td>0.006016</td>\n",
       "      <td>00:00</td>\n",
       "    </tr>\n",
       "  </tbody>\n",
       "</table>"
      ],
      "text/plain": [
       "<IPython.core.display.HTML object>"
      ]
     },
     "metadata": {},
     "output_type": "display_data"
    },
    {
     "data": {
      "image/png": "[encoded data removed]",
      "text/plain": [
       "<Figure size 432x288 with 1 Axes>"
      ]
     },
     "metadata": {},
     "output_type": "display_data"
    },
    {
     "data": {
      "text/html": [
       "<table border=\"1\" class=\"dataframe\">\n",
       "  <thead>\n",
       "    <tr style=\"text-align: left;\">\n",
       "      <th>epoch</th>\n",
       "      <th>train_loss</th>\n",
       "      <th>valid_loss</th>\n",
       "      <th>accuracy</th>\n",
       "      <th>time</th>\n",
       "    </tr>\n",
       "  </thead>\n",
       "  <tbody>\n",
       "    <tr>\n",
       "      <td>0</td>\n",
       "      <td>0.711760</td>\n",
       "      <td>0.691939</td>\n",
       "      <td>0.000000</td>\n",
       "      <td>00:00</td>\n",
       "    </tr>\n",
       "    <tr>\n",
       "      <td>1</td>\n",
       "      <td>0.712744</td>\n",
       "      <td>0.689206</td>\n",
       "      <td>0.000000</td>\n",
       "      <td>00:00</td>\n",
       "    </tr>\n",
       "    <tr>\n",
       "      <td>2</td>\n",
       "      <td>0.707969</td>\n",
       "      <td>0.685159</td>\n",
       "      <td>0.000000</td>\n",
       "      <td>00:00</td>\n",
       "    </tr>\n",
       "    <tr>\n",
       "      <td>3</td>\n",
       "      <td>0.700616</td>\n",
       "      <td>0.680029</td>\n",
       "      <td>0.000000</td>\n",
       "      <td>00:00</td>\n",
       "    </tr>\n",
       "    <tr>\n",
       "      <td>4</td>\n",
       "      <td>0.692311</td>\n",
       "      <td>0.674554</td>\n",
       "      <td>0.000000</td>\n",
       "      <td>00:00</td>\n",
       "    </tr>\n",
       "    <tr>\n",
       "      <td>5</td>\n",
       "      <td>0.685350</td>\n",
       "      <td>0.669178</td>\n",
       "      <td>0.000000</td>\n",
       "      <td>00:00</td>\n",
       "    </tr>\n",
       "    <tr>\n",
       "      <td>6</td>\n",
       "      <td>0.678580</td>\n",
       "      <td>0.664431</td>\n",
       "      <td>0.000000</td>\n",
       "      <td>00:00</td>\n",
       "    </tr>\n",
       "    <tr>\n",
       "      <td>7</td>\n",
       "      <td>0.672082</td>\n",
       "      <td>0.660679</td>\n",
       "      <td>0.000000</td>\n",
       "      <td>00:00</td>\n",
       "    </tr>\n",
       "    <tr>\n",
       "      <td>8</td>\n",
       "      <td>0.667477</td>\n",
       "      <td>0.657751</td>\n",
       "      <td>0.000000</td>\n",
       "      <td>00:00</td>\n",
       "    </tr>\n",
       "    <tr>\n",
       "      <td>9</td>\n",
       "      <td>0.662532</td>\n",
       "      <td>0.655722</td>\n",
       "      <td>0.000000</td>\n",
       "      <td>00:00</td>\n",
       "    </tr>\n",
       "  </tbody>\n",
       "</table>"
      ],
      "text/plain": [
       "<IPython.core.display.HTML object>"
      ]
     },
     "metadata": {},
     "output_type": "display_data"
    },
    {
     "data": {
      "image/png": "[encoded data removed]",
      "text/plain": [
       "<Figure size 432x288 with 1 Axes>"
      ]
     },
     "metadata": {},
     "output_type": "display_data"
    }
   ],
   "source": [
    "for train_idx, test_idx in sss.split(df_data.index, df_data[df_dep_var]):\n",
    "    data_fold = (TabularList.from_df(df_data, path=dataPath, cont_names=cont_names, procs=procs)\n",
    "                     .split_by_idxs(train_idx, test_idx)\n",
    "                     .label_from_df(cols=df_dep_var)\n",
    "                     .databunch())\n",
    "    # create model and learn\n",
    "    model = tabular_learner(data_fold, layers=[50, 20], metrics=accuracy, callback_fns=ShowGraph)\n",
    "    model.fit_one_cycle(cyc_len=10) #\n",
    "    model.save('{}.model'.format(os.path.basename(filepath)))"
   ]
  },
  {
   "cell_type": "code",
   "execution_count": 42,
   "metadata": {},
   "outputs": [
    {
     "data": {
      "text/html": [],
      "text/plain": [
       "<IPython.core.display.HTML object>"
      ]
     },
     "metadata": {},
     "output_type": "display_data"
    },
    {
     "name": "stdout",
     "output_type": "stream",
     "text": [
      "loss 0.6557215452194214: accuracy: 0.00%\n"
     ]
    }
   ],
   "source": [
    "loss, acc = model.validate()\n",
    "print('loss {}: accuracy: {:.2f}%'.format(loss, acc*100))"
   ]
  },
  {
   "cell_type": "code",
   "execution_count": 43,
   "metadata": {},
   "outputs": [
    {
     "data": {
      "text/html": [],
      "text/plain": [
       "<IPython.core.display.HTML object>"
      ]
     },
     "metadata": {},
     "output_type": "display_data"
    },
    {
     "data": {
      "image/png": "[encoded data removed]",
      "text/plain": [
       "<Figure size 432x288 with 1 Axes>"
      ]
     },
     "metadata": {
      "needs_background": "light"
     },
     "output_type": "display_data"
    }
   ],
   "source": [
    "preds, y, losses = model.get_preds(with_loss=True)\n",
    "interp = ClassificationInterpretation(model, preds, y, losses)\n",
    "interp.plot_confusion_matrix()"
   ]
  },
  {
   "cell_type": "code",
   "execution_count": 44,
   "metadata": {},
   "outputs": [
    {
     "name": "stdout",
     "output_type": "stream",
     "text": [
      "relevant libraries uploaded\n",
      "b'VOIP'               653\n",
      "b'VIDEO-STREAMING'    282\n",
      "b'FILE-TRANSFER'      209\n",
      "b'CHAT'               119\n",
      "b'BROWSING'           119\n",
      "b'EMAIL'               89\n",
      "b'P2P'                 34\n",
      "b'AUDIO-STREAMING'     27\n",
      "Name: class1, dtype: int64\n",
      "['duration', 'total_fiat', 'total_biat', 'min_fiat', 'min_biat', 'max_fiat', 'max_biat', 'mean_fiat', 'mean_biat', 'flowPktsPerSecond', 'flowBytesPerSecond', 'min_flowiat', 'max_flowiat', 'mean_flowiat', 'std_flowiat', 'min_active', 'mean_active', 'max_active', 'std_active', 'min_idle', 'mean_idle', 'max_idle', 'std_idle', 'class1']\n"
     ]
    }
   ],
   "source": [
    "print('relevant libraries uploaded')\n",
    "\n",
    "# Choose your own filepath for arff file\n",
    "filepath = 'CICDataSet-TOR/Scenario-B/TimeBasedFeatures-30s-Layer2-85.arff'\n",
    "raw_data = loadarff(filepath)\n",
    "\n",
    "# Converting arff file into pandas dataframe\n",
    "df_data = pd.DataFrame(raw_data[0])\n",
    "\n",
    "# Now, you can perform pandas methods if it is easy enough for you\n",
    "print(df_data['class1'].value_counts())\n",
    "column_name = list(df_data.columns)\n",
    "print(column_name)\n"
   ]
  },
  {
   "cell_type": "code",
   "execution_count": 45,
   "metadata": {},
   "outputs": [],
   "source": [
    "df_dep_var = 'class1'\n",
    "cont_names = list(set(df_data.columns) - set([df_dep_var]))"
   ]
  },
  {
   "cell_type": "code",
   "execution_count": 46,
   "metadata": {},
   "outputs": [
    {
     "data": {
      "text/html": [
       "<table border=\"1\" class=\"dataframe\">\n",
       "  <thead>\n",
       "    <tr style=\"text-align: left;\">\n",
       "      <th>epoch</th>\n",
       "      <th>train_loss</th>\n",
       "      <th>valid_loss</th>\n",
       "      <th>accuracy</th>\n",
       "      <th>time</th>\n",
       "    </tr>\n",
       "  </thead>\n",
       "  <tbody>\n",
       "    <tr>\n",
       "      <td>0</td>\n",
       "      <td>0.700095</td>\n",
       "      <td>0.682839</td>\n",
       "      <td>0.116247</td>\n",
       "      <td>00:00</td>\n",
       "    </tr>\n",
       "    <tr>\n",
       "      <td>1</td>\n",
       "      <td>0.684299</td>\n",
       "      <td>0.658696</td>\n",
       "      <td>0.131142</td>\n",
       "      <td>00:00</td>\n",
       "    </tr>\n",
       "    <tr>\n",
       "      <td>2</td>\n",
       "      <td>0.658089</td>\n",
       "      <td>0.620860</td>\n",
       "      <td>0.075421</td>\n",
       "      <td>00:00</td>\n",
       "    </tr>\n",
       "    <tr>\n",
       "      <td>3</td>\n",
       "      <td>0.625402</td>\n",
       "      <td>0.584593</td>\n",
       "      <td>0.017446</td>\n",
       "      <td>00:00</td>\n",
       "    </tr>\n",
       "    <tr>\n",
       "      <td>4</td>\n",
       "      <td>0.595750</td>\n",
       "      <td>0.559180</td>\n",
       "      <td>0.005934</td>\n",
       "      <td>00:00</td>\n",
       "    </tr>\n",
       "    <tr>\n",
       "      <td>5</td>\n",
       "      <td>0.567910</td>\n",
       "      <td>0.582850</td>\n",
       "      <td>0.006705</td>\n",
       "      <td>00:00</td>\n",
       "    </tr>\n",
       "    <tr>\n",
       "      <td>6</td>\n",
       "      <td>0.543617</td>\n",
       "      <td>0.594014</td>\n",
       "      <td>0.011809</td>\n",
       "      <td>00:00</td>\n",
       "    </tr>\n",
       "    <tr>\n",
       "      <td>7</td>\n",
       "      <td>0.523239</td>\n",
       "      <td>0.575739</td>\n",
       "      <td>0.015962</td>\n",
       "      <td>00:00</td>\n",
       "    </tr>\n",
       "    <tr>\n",
       "      <td>8</td>\n",
       "      <td>0.507356</td>\n",
       "      <td>0.573012</td>\n",
       "      <td>0.015428</td>\n",
       "      <td>00:00</td>\n",
       "    </tr>\n",
       "    <tr>\n",
       "      <td>9</td>\n",
       "      <td>0.494194</td>\n",
       "      <td>0.575652</td>\n",
       "      <td>0.015784</td>\n",
       "      <td>00:00</td>\n",
       "    </tr>\n",
       "  </tbody>\n",
       "</table>"
      ],
      "text/plain": [
       "<IPython.core.display.HTML object>"
      ]
     },
     "metadata": {},
     "output_type": "display_data"
    },
    {
     "data": {
      "image/png": "[encoded data removed]",
      "text/plain": [
       "<Figure size 432x288 with 1 Axes>"
      ]
     },
     "metadata": {},
     "output_type": "display_data"
    },
    {
     "data": {
      "text/html": [
       "<table border=\"1\" class=\"dataframe\">\n",
       "  <thead>\n",
       "    <tr style=\"text-align: left;\">\n",
       "      <th>epoch</th>\n",
       "      <th>train_loss</th>\n",
       "      <th>valid_loss</th>\n",
       "      <th>accuracy</th>\n",
       "      <th>time</th>\n",
       "    </tr>\n",
       "  </thead>\n",
       "  <tbody>\n",
       "    <tr>\n",
       "      <td>0</td>\n",
       "      <td>0.730576</td>\n",
       "      <td>0.715385</td>\n",
       "      <td>0.040173</td>\n",
       "      <td>00:00</td>\n",
       "    </tr>\n",
       "    <tr>\n",
       "      <td>1</td>\n",
       "      <td>0.715653</td>\n",
       "      <td>0.705291</td>\n",
       "      <td>0.059993</td>\n",
       "      <td>00:00</td>\n",
       "    </tr>\n",
       "    <tr>\n",
       "      <td>2</td>\n",
       "      <td>0.690599</td>\n",
       "      <td>0.672405</td>\n",
       "      <td>0.021362</td>\n",
       "      <td>00:00</td>\n",
       "    </tr>\n",
       "    <tr>\n",
       "      <td>3</td>\n",
       "      <td>0.656649</td>\n",
       "      <td>0.635739</td>\n",
       "      <td>0.026703</td>\n",
       "      <td>00:00</td>\n",
       "    </tr>\n",
       "    <tr>\n",
       "      <td>4</td>\n",
       "      <td>0.620970</td>\n",
       "      <td>0.611776</td>\n",
       "      <td>0.060764</td>\n",
       "      <td>00:00</td>\n",
       "    </tr>\n",
       "    <tr>\n",
       "      <td>5</td>\n",
       "      <td>0.589477</td>\n",
       "      <td>0.686006</td>\n",
       "      <td>0.401080</td>\n",
       "      <td>00:00</td>\n",
       "    </tr>\n",
       "    <tr>\n",
       "      <td>6</td>\n",
       "      <td>0.560492</td>\n",
       "      <td>0.572839</td>\n",
       "      <td>0.067766</td>\n",
       "      <td>00:00</td>\n",
       "    </tr>\n",
       "    <tr>\n",
       "      <td>7</td>\n",
       "      <td>0.536133</td>\n",
       "      <td>0.602106</td>\n",
       "      <td>0.053465</td>\n",
       "      <td>00:00</td>\n",
       "    </tr>\n",
       "    <tr>\n",
       "      <td>8</td>\n",
       "      <td>0.517377</td>\n",
       "      <td>0.601059</td>\n",
       "      <td>0.064325</td>\n",
       "      <td>00:00</td>\n",
       "    </tr>\n",
       "    <tr>\n",
       "      <td>9</td>\n",
       "      <td>0.502291</td>\n",
       "      <td>0.604562</td>\n",
       "      <td>0.063257</td>\n",
       "      <td>00:00</td>\n",
       "    </tr>\n",
       "  </tbody>\n",
       "</table>"
      ],
      "text/plain": [
       "<IPython.core.display.HTML object>"
      ]
     },
     "metadata": {},
     "output_type": "display_data"
    },
    {
     "data": {
      "image/png": "[encoded data removed]",
      "text/plain": [
       "<Figure size 432x288 with 1 Axes>"
      ]
     },
     "metadata": {},
     "output_type": "display_data"
    }
   ],
   "source": [
    "for train_idx, test_idx in sss.split(df_data.index, df_data[df_dep_var]):\n",
    "    data_fold = (TabularList.from_df(df_data, path=dataPath, cont_names=cont_names, procs=procs)\n",
    "                     .split_by_idxs(train_idx, test_idx)\n",
    "                     .label_from_df(cols=df_dep_var)\n",
    "                     .databunch())\n",
    "    # create model and learn\n",
    "    model = tabular_learner(data_fold, layers=[50, 20], metrics=accuracy, callback_fns=ShowGraph)\n",
    "    model.fit_one_cycle(cyc_len=10) #\n",
    "    model.save('{}.model'.format(os.path.basename(filepath)))"
   ]
  },
  {
   "cell_type": "code",
   "execution_count": 47,
   "metadata": {},
   "outputs": [
    {
     "data": {
      "text/html": [],
      "text/plain": [
       "<IPython.core.display.HTML object>"
      ]
     },
     "metadata": {},
     "output_type": "display_data"
    },
    {
     "name": "stdout",
     "output_type": "stream",
     "text": [
      "loss 0.6045621633529663: accuracy: 6.33%\n"
     ]
    }
   ],
   "source": [
    "loss, acc = model.validate()\n",
    "print('loss {}: accuracy: {:.2f}%'.format(loss, acc*100))"
   ]
  },
  {
   "cell_type": "code",
   "execution_count": 48,
   "metadata": {},
   "outputs": [
    {
     "data": {
      "text/html": [],
      "text/plain": [
       "<IPython.core.display.HTML object>"
      ]
     },
     "metadata": {},
     "output_type": "display_data"
    },
    {
     "data": {
      "image/png": "[encoded data removed]",
      "text/plain": [
       "<Figure size 432x288 with 1 Axes>"
      ]
     },
     "metadata": {
      "needs_background": "light"
     },
     "output_type": "display_data"
    }
   ],
   "source": [
    "preds, y, losses = model.get_preds(with_loss=True)\n",
    "interp = ClassificationInterpretation(model, preds, y, losses)\n",
    "interp.plot_confusion_matrix()"
   ]
  },
  {
   "cell_type": "code",
   "execution_count": 49,
   "metadata": {},
   "outputs": [
    {
     "name": "stdout",
     "output_type": "stream",
     "text": [
      "relevant libraries uploaded\n",
      "b'VOIP'               381\n",
      "b'VIDEO-STREAMING'    177\n",
      "b'FILE-TRANSFER'      125\n",
      "b'CHAT'                84\n",
      "b'BROWSING'            73\n",
      "b'EMAIL'               54\n",
      "b'AUDIO-STREAMING'     22\n",
      "b'P2P'                 20\n",
      "Name: class1, dtype: int64\n",
      "['duration', 'total_fiat', 'total_biat', 'min_fiat', 'min_biat', 'max_fiat', 'max_biat', 'mean_fiat', 'mean_biat', 'flowPktsPerSecond', 'flowBytesPerSecond', 'min_flowiat', 'max_flowiat', 'mean_flowiat', 'std_flowiat', 'min_active', 'mean_active', 'max_active', 'std_active', 'min_idle', 'mean_idle', 'max_idle', 'std_idle', 'class1']\n"
     ]
    }
   ],
   "source": [
    "print('relevant libraries uploaded')\n",
    "\n",
    "# Choose your own filepath for arff file\n",
    "filepath = 'CICDataSet-TOR/Scenario-B/TimeBasedFeatures-60s-Layer2.arff'\n",
    "raw_data = loadarff(filepath)\n",
    "\n",
    "# Converting arff file into pandas dataframe\n",
    "df_data = pd.DataFrame(raw_data[0])\n",
    "\n",
    "# Now, you can perform pandas methods if it is easy enough for you\n",
    "print(df_data['class1'].value_counts())\n",
    "column_name = list(df_data.columns)\n",
    "print(column_name)\n"
   ]
  },
  {
   "cell_type": "code",
   "execution_count": 50,
   "metadata": {},
   "outputs": [],
   "source": [
    "df_dep_var = 'class1'\n",
    "cont_names = list(set(df_data.columns) - set([df_dep_var]))"
   ]
  },
  {
   "cell_type": "code",
   "execution_count": 51,
   "metadata": {},
   "outputs": [
    {
     "data": {
      "text/html": [
       "<table border=\"1\" class=\"dataframe\">\n",
       "  <thead>\n",
       "    <tr style=\"text-align: left;\">\n",
       "      <th>epoch</th>\n",
       "      <th>train_loss</th>\n",
       "      <th>valid_loss</th>\n",
       "      <th>accuracy</th>\n",
       "      <th>time</th>\n",
       "    </tr>\n",
       "  </thead>\n",
       "  <tbody>\n",
       "    <tr>\n",
       "      <td>0</td>\n",
       "      <td>0.714792</td>\n",
       "      <td>0.713885</td>\n",
       "      <td>0.000000</td>\n",
       "      <td>00:00</td>\n",
       "    </tr>\n",
       "    <tr>\n",
       "      <td>1</td>\n",
       "      <td>0.699717</td>\n",
       "      <td>0.709711</td>\n",
       "      <td>0.000000</td>\n",
       "      <td>00:00</td>\n",
       "    </tr>\n",
       "    <tr>\n",
       "      <td>2</td>\n",
       "      <td>0.679183</td>\n",
       "      <td>0.689036</td>\n",
       "      <td>0.000000</td>\n",
       "      <td>00:00</td>\n",
       "    </tr>\n",
       "    <tr>\n",
       "      <td>3</td>\n",
       "      <td>0.657024</td>\n",
       "      <td>0.675493</td>\n",
       "      <td>0.000000</td>\n",
       "      <td>00:00</td>\n",
       "    </tr>\n",
       "    <tr>\n",
       "      <td>4</td>\n",
       "      <td>0.634658</td>\n",
       "      <td>0.674576</td>\n",
       "      <td>0.000000</td>\n",
       "      <td>00:00</td>\n",
       "    </tr>\n",
       "    <tr>\n",
       "      <td>5</td>\n",
       "      <td>0.614563</td>\n",
       "      <td>0.682230</td>\n",
       "      <td>0.000000</td>\n",
       "      <td>00:00</td>\n",
       "    </tr>\n",
       "    <tr>\n",
       "      <td>6</td>\n",
       "      <td>0.596880</td>\n",
       "      <td>0.696537</td>\n",
       "      <td>0.000000</td>\n",
       "      <td>00:00</td>\n",
       "    </tr>\n",
       "    <tr>\n",
       "      <td>7</td>\n",
       "      <td>0.581935</td>\n",
       "      <td>0.708241</td>\n",
       "      <td>0.000000</td>\n",
       "      <td>00:00</td>\n",
       "    </tr>\n",
       "    <tr>\n",
       "      <td>8</td>\n",
       "      <td>0.570117</td>\n",
       "      <td>0.713320</td>\n",
       "      <td>0.000000</td>\n",
       "      <td>00:00</td>\n",
       "    </tr>\n",
       "    <tr>\n",
       "      <td>9</td>\n",
       "      <td>0.559434</td>\n",
       "      <td>0.723075</td>\n",
       "      <td>0.000000</td>\n",
       "      <td>00:00</td>\n",
       "    </tr>\n",
       "  </tbody>\n",
       "</table>"
      ],
      "text/plain": [
       "<IPython.core.display.HTML object>"
      ]
     },
     "metadata": {},
     "output_type": "display_data"
    },
    {
     "data": {
      "image/png": "[encoded data removed]",
      "text/plain": [
       "<Figure size 432x288 with 1 Axes>"
      ]
     },
     "metadata": {},
     "output_type": "display_data"
    },
    {
     "data": {
      "text/html": [
       "<table border=\"1\" class=\"dataframe\">\n",
       "  <thead>\n",
       "    <tr style=\"text-align: left;\">\n",
       "      <th>epoch</th>\n",
       "      <th>train_loss</th>\n",
       "      <th>valid_loss</th>\n",
       "      <th>accuracy</th>\n",
       "      <th>time</th>\n",
       "    </tr>\n",
       "  </thead>\n",
       "  <tbody>\n",
       "    <tr>\n",
       "      <td>0</td>\n",
       "      <td>0.715312</td>\n",
       "      <td>0.696437</td>\n",
       "      <td>0.001263</td>\n",
       "      <td>00:00</td>\n",
       "    </tr>\n",
       "    <tr>\n",
       "      <td>1</td>\n",
       "      <td>0.701312</td>\n",
       "      <td>0.693445</td>\n",
       "      <td>0.000000</td>\n",
       "      <td>00:00</td>\n",
       "    </tr>\n",
       "    <tr>\n",
       "      <td>2</td>\n",
       "      <td>0.683853</td>\n",
       "      <td>0.672153</td>\n",
       "      <td>0.000000</td>\n",
       "      <td>00:00</td>\n",
       "    </tr>\n",
       "    <tr>\n",
       "      <td>3</td>\n",
       "      <td>0.660714</td>\n",
       "      <td>0.651784</td>\n",
       "      <td>0.000000</td>\n",
       "      <td>00:00</td>\n",
       "    </tr>\n",
       "    <tr>\n",
       "      <td>4</td>\n",
       "      <td>0.638613</td>\n",
       "      <td>0.662995</td>\n",
       "      <td>0.000874</td>\n",
       "      <td>00:02</td>\n",
       "    </tr>\n",
       "    <tr>\n",
       "      <td>5</td>\n",
       "      <td>0.617260</td>\n",
       "      <td>0.661201</td>\n",
       "      <td>0.003497</td>\n",
       "      <td>00:00</td>\n",
       "    </tr>\n",
       "    <tr>\n",
       "      <td>6</td>\n",
       "      <td>0.597579</td>\n",
       "      <td>0.689817</td>\n",
       "      <td>0.003497</td>\n",
       "      <td>00:00</td>\n",
       "    </tr>\n",
       "    <tr>\n",
       "      <td>7</td>\n",
       "      <td>0.580966</td>\n",
       "      <td>0.739659</td>\n",
       "      <td>0.003497</td>\n",
       "      <td>00:00</td>\n",
       "    </tr>\n",
       "    <tr>\n",
       "      <td>8</td>\n",
       "      <td>0.567632</td>\n",
       "      <td>0.758310</td>\n",
       "      <td>0.003497</td>\n",
       "      <td>00:00</td>\n",
       "    </tr>\n",
       "    <tr>\n",
       "      <td>9</td>\n",
       "      <td>0.557092</td>\n",
       "      <td>0.771626</td>\n",
       "      <td>0.003497</td>\n",
       "      <td>00:00</td>\n",
       "    </tr>\n",
       "  </tbody>\n",
       "</table>"
      ],
      "text/plain": [
       "<IPython.core.display.HTML object>"
      ]
     },
     "metadata": {},
     "output_type": "display_data"
    },
    {
     "data": {
      "image/png": "[encoded data removed]",
      "text/plain": [
       "<Figure size 432x288 with 1 Axes>"
      ]
     },
     "metadata": {},
     "output_type": "display_data"
    }
   ],
   "source": [
    "for train_idx, test_idx in sss.split(df_data.index, df_data[df_dep_var]):\n",
    "    data_fold = (TabularList.from_df(df_data, path=dataPath, cont_names=cont_names, procs=procs)\n",
    "                     .split_by_idxs(train_idx, test_idx)\n",
    "                     .label_from_df(cols=df_dep_var)\n",
    "                     .databunch())\n",
    "    # create model and learn\n",
    "    model = tabular_learner(data_fold, layers=[50, 20], metrics=accuracy, callback_fns=ShowGraph)\n",
    "    model.fit_one_cycle(cyc_len=10) #\n",
    "    model.save('{}.model'.format(os.path.basename(filepath)))"
   ]
  },
  {
   "cell_type": "code",
   "execution_count": 54,
   "metadata": {},
   "outputs": [
    {
     "data": {
      "text/html": [],
      "text/plain": [
       "<IPython.core.display.HTML object>"
      ]
     },
     "metadata": {},
     "output_type": "display_data"
    },
    {
     "name": "stdout",
     "output_type": "stream",
     "text": [
      "loss 0.6773143410682678: accuracy: 0.43%\n"
     ]
    }
   ],
   "source": [
    "loss, acc = model.validate()\n",
    "print('loss {}: accuracy: {:.2f}%'.format(loss, acc*100))"
   ]
  },
  {
   "cell_type": "code",
   "execution_count": 55,
   "metadata": {},
   "outputs": [
    {
     "data": {
      "text/html": [],
      "text/plain": [
       "<IPython.core.display.HTML object>"
      ]
     },
     "metadata": {},
     "output_type": "display_data"
    },
    {
     "data": {
      "image/png": "[encoded data removed]",
      "text/plain": [
       "<Figure size 432x288 with 1 Axes>"
      ]
     },
     "metadata": {
      "needs_background": "light"
     },
     "output_type": "display_data"
    }
   ],
   "source": [
    "preds, y, losses = model.get_preds(with_loss=True)\n",
    "interp = ClassificationInterpretation(model, preds, y, losses)\n",
    "interp.plot_confusion_matrix()"
   ]
  },
  {
   "cell_type": "code",
   "execution_count": 58,
   "metadata": {},
   "outputs": [
    {
     "name": "stdout",
     "output_type": "stream",
     "text": [
      "relevant libraries uploaded\n",
      "b'VOIP'               50\n",
      "b'VIDEO-STREAMING'    19\n",
      "b'BROWSING'           15\n",
      "b'FILE-TRANSFER'      14\n",
      "b'CHAT'               11\n",
      "b'EMAIL'               7\n",
      "b'AUDIO-STREAMING'     3\n",
      "b'P2P'                 1\n",
      "Name: class1, dtype: int64\n",
      "['duration', 'total_fiat', 'total_biat', 'min_fiat', 'min_biat', 'max_fiat', 'max_biat', 'mean_fiat', 'mean_biat', 'flowPktsPerSecond', 'flowBytesPerSecond', 'min_flowiat', 'max_flowiat', 'mean_flowiat', 'std_flowiat', 'min_active', 'mean_active', 'max_active', 'std_active', 'min_idle', 'mean_idle', 'max_idle', 'std_idle', 'class1']\n"
     ]
    }
   ],
   "source": [
    "print('relevant libraries uploaded')\n",
    "\n",
    "# Choose your own filepath for arff file\n",
    "filepath = 'CICDataSet-TOR/Scenario-B/TimeBasedFeatures-60s-Layer2-15.arff'\n",
    "raw_data = loadarff(filepath)\n",
    "\n",
    "# Converting arff file into pandas dataframe\n",
    "df_data = pd.DataFrame(raw_data[0])\n",
    "\n",
    "# Now, you can perform pandas methods if it is easy enough for you\n",
    "print(df_data['class1'].value_counts())\n",
    "column_name = list(df_data.columns)\n",
    "print(column_name)\n"
   ]
  },
  {
   "cell_type": "code",
   "execution_count": 61,
   "metadata": {},
   "outputs": [
    {
     "data": {
      "text/html": [
       "<div>\n",
       "<style scoped>\n",
       "    .dataframe tbody tr th:only-of-type {\n",
       "        vertical-align: middle;\n",
       "    }\n",
       "\n",
       "    .dataframe tbody tr th {\n",
       "        vertical-align: top;\n",
       "    }\n",
       "\n",
       "    .dataframe thead th {\n",
       "        text-align: right;\n",
       "    }\n",
       "</style>\n",
       "<table border=\"1\" class=\"dataframe\">\n",
       "  <thead>\n",
       "    <tr style=\"text-align: right;\">\n",
       "      <th></th>\n",
       "      <th>duration</th>\n",
       "      <th>total_fiat</th>\n",
       "      <th>total_biat</th>\n",
       "      <th>min_fiat</th>\n",
       "      <th>min_biat</th>\n",
       "      <th>max_fiat</th>\n",
       "      <th>max_biat</th>\n",
       "      <th>mean_fiat</th>\n",
       "      <th>mean_biat</th>\n",
       "      <th>flowPktsPerSecond</th>\n",
       "      <th>...</th>\n",
       "      <th>std_flowiat</th>\n",
       "      <th>min_active</th>\n",
       "      <th>mean_active</th>\n",
       "      <th>max_active</th>\n",
       "      <th>std_active</th>\n",
       "      <th>min_idle</th>\n",
       "      <th>mean_idle</th>\n",
       "      <th>max_idle</th>\n",
       "      <th>std_idle</th>\n",
       "      <th>class1</th>\n",
       "    </tr>\n",
       "  </thead>\n",
       "  <tbody>\n",
       "    <tr>\n",
       "      <th>0</th>\n",
       "      <td>59990105.0</td>\n",
       "      <td>59990029.0</td>\n",
       "      <td>59964416.0</td>\n",
       "      <td>0.0</td>\n",
       "      <td>0.0</td>\n",
       "      <td>210165.0</td>\n",
       "      <td>208601.0</td>\n",
       "      <td>6.234674e+03</td>\n",
       "      <td>8.468354e+03</td>\n",
       "      <td>278.462590</td>\n",
       "      <td>...</td>\n",
       "      <td>1.358003e+04</td>\n",
       "      <td>-1.0</td>\n",
       "      <td>0.000000e+00</td>\n",
       "      <td>-1.0</td>\n",
       "      <td>0.000000e+00</td>\n",
       "      <td>-1.0</td>\n",
       "      <td>0.000000e+00</td>\n",
       "      <td>-1.0</td>\n",
       "      <td>0.000000e+00</td>\n",
       "      <td>b'FILE-TRANSFER'</td>\n",
       "    </tr>\n",
       "    <tr>\n",
       "      <th>1</th>\n",
       "      <td>59964705.0</td>\n",
       "      <td>59879987.0</td>\n",
       "      <td>59925440.0</td>\n",
       "      <td>0.0</td>\n",
       "      <td>0.0</td>\n",
       "      <td>349456.0</td>\n",
       "      <td>349209.0</td>\n",
       "      <td>5.810206e+03</td>\n",
       "      <td>7.852895e+03</td>\n",
       "      <td>299.159314</td>\n",
       "      <td>...</td>\n",
       "      <td>1.314781e+04</td>\n",
       "      <td>-1.0</td>\n",
       "      <td>0.000000e+00</td>\n",
       "      <td>-1.0</td>\n",
       "      <td>0.000000e+00</td>\n",
       "      <td>-1.0</td>\n",
       "      <td>0.000000e+00</td>\n",
       "      <td>-1.0</td>\n",
       "      <td>0.000000e+00</td>\n",
       "      <td>b'FILE-TRANSFER'</td>\n",
       "    </tr>\n",
       "    <tr>\n",
       "      <th>2</th>\n",
       "      <td>32362503.0</td>\n",
       "      <td>32362503.0</td>\n",
       "      <td>32362136.0</td>\n",
       "      <td>0.0</td>\n",
       "      <td>0.0</td>\n",
       "      <td>15128637.0</td>\n",
       "      <td>15128408.0</td>\n",
       "      <td>2.171980e+04</td>\n",
       "      <td>1.141924e+04</td>\n",
       "      <td>133.673221</td>\n",
       "      <td>...</td>\n",
       "      <td>2.335672e+05</td>\n",
       "      <td>2885151.0</td>\n",
       "      <td>1.580000e+07</td>\n",
       "      <td>28619351.0</td>\n",
       "      <td>1.820000e+07</td>\n",
       "      <td>2080569.0</td>\n",
       "      <td>8.604488e+06</td>\n",
       "      <td>15128408.0</td>\n",
       "      <td>9.226215e+06</td>\n",
       "      <td>b'AUDIO-STREAMING'</td>\n",
       "    </tr>\n",
       "    <tr>\n",
       "      <th>3</th>\n",
       "      <td>29637594.0</td>\n",
       "      <td>29636549.0</td>\n",
       "      <td>29637594.0</td>\n",
       "      <td>29636549.0</td>\n",
       "      <td>29637594.0</td>\n",
       "      <td>29636549.0</td>\n",
       "      <td>29637594.0</td>\n",
       "      <td>2.960000e+07</td>\n",
       "      <td>2.960000e+07</td>\n",
       "      <td>0.134964</td>\n",
       "      <td>...</td>\n",
       "      <td>1.710000e+07</td>\n",
       "      <td>29636591.0</td>\n",
       "      <td>2.960000e+07</td>\n",
       "      <td>29636591.0</td>\n",
       "      <td>0.000000e+00</td>\n",
       "      <td>29636549.0</td>\n",
       "      <td>2.960000e+07</td>\n",
       "      <td>29636549.0</td>\n",
       "      <td>0.000000e+00</td>\n",
       "      <td>b'AUDIO-STREAMING'</td>\n",
       "    </tr>\n",
       "    <tr>\n",
       "      <th>4</th>\n",
       "      <td>6153793.0</td>\n",
       "      <td>6153793.0</td>\n",
       "      <td>6152777.0</td>\n",
       "      <td>6153793.0</td>\n",
       "      <td>6152777.0</td>\n",
       "      <td>6153793.0</td>\n",
       "      <td>6152777.0</td>\n",
       "      <td>6.153793e+06</td>\n",
       "      <td>6.152777e+06</td>\n",
       "      <td>0.650006</td>\n",
       "      <td>...</td>\n",
       "      <td>3.552014e+06</td>\n",
       "      <td>6153737.0</td>\n",
       "      <td>6.153737e+06</td>\n",
       "      <td>6153737.0</td>\n",
       "      <td>0.000000e+00</td>\n",
       "      <td>6152777.0</td>\n",
       "      <td>6.152777e+06</td>\n",
       "      <td>6152777.0</td>\n",
       "      <td>0.000000e+00</td>\n",
       "      <td>b'AUDIO-STREAMING'</td>\n",
       "    </tr>\n",
       "    <tr>\n",
       "      <th>...</th>\n",
       "      <td>...</td>\n",
       "      <td>...</td>\n",
       "      <td>...</td>\n",
       "      <td>...</td>\n",
       "      <td>...</td>\n",
       "      <td>...</td>\n",
       "      <td>...</td>\n",
       "      <td>...</td>\n",
       "      <td>...</td>\n",
       "      <td>...</td>\n",
       "      <td>...</td>\n",
       "      <td>...</td>\n",
       "      <td>...</td>\n",
       "      <td>...</td>\n",
       "      <td>...</td>\n",
       "      <td>...</td>\n",
       "      <td>...</td>\n",
       "      <td>...</td>\n",
       "      <td>...</td>\n",
       "      <td>...</td>\n",
       "      <td>...</td>\n",
       "    </tr>\n",
       "    <tr>\n",
       "      <th>115</th>\n",
       "      <td>59978002.0</td>\n",
       "      <td>59978002.0</td>\n",
       "      <td>59977714.0</td>\n",
       "      <td>0.0</td>\n",
       "      <td>0.0</td>\n",
       "      <td>14266113.0</td>\n",
       "      <td>14304335.0</td>\n",
       "      <td>4.346232e+04</td>\n",
       "      <td>2.307723e+04</td>\n",
       "      <td>66.374335</td>\n",
       "      <td>...</td>\n",
       "      <td>3.255822e+05</td>\n",
       "      <td>1605913.0</td>\n",
       "      <td>9.574805e+06</td>\n",
       "      <td>17189788.0</td>\n",
       "      <td>4.976143e+06</td>\n",
       "      <td>1039823.0</td>\n",
       "      <td>7.191396e+06</td>\n",
       "      <td>14266113.0</td>\n",
       "      <td>4.678613e+06</td>\n",
       "      <td>b'VIDEO-STREAMING'</td>\n",
       "    </tr>\n",
       "    <tr>\n",
       "      <th>116</th>\n",
       "      <td>39005789.0</td>\n",
       "      <td>39004631.0</td>\n",
       "      <td>39005789.0</td>\n",
       "      <td>1.0</td>\n",
       "      <td>0.0</td>\n",
       "      <td>19043328.0</td>\n",
       "      <td>19043324.0</td>\n",
       "      <td>1.781033e+05</td>\n",
       "      <td>9.607337e+04</td>\n",
       "      <td>16.074537</td>\n",
       "      <td>...</td>\n",
       "      <td>8.823084e+05</td>\n",
       "      <td>7948182.0</td>\n",
       "      <td>1.280000e+07</td>\n",
       "      <td>19043328.0</td>\n",
       "      <td>5.664308e+06</td>\n",
       "      <td>7496854.0</td>\n",
       "      <td>1.160000e+07</td>\n",
       "      <td>19043067.0</td>\n",
       "      <td>6.436156e+06</td>\n",
       "      <td>b'VIDEO-STREAMING'</td>\n",
       "    </tr>\n",
       "    <tr>\n",
       "      <th>117</th>\n",
       "      <td>59999443.0</td>\n",
       "      <td>59999443.0</td>\n",
       "      <td>59999203.0</td>\n",
       "      <td>0.0</td>\n",
       "      <td>0.0</td>\n",
       "      <td>9696463.0</td>\n",
       "      <td>9696404.0</td>\n",
       "      <td>2.223849e+04</td>\n",
       "      <td>1.188574e+04</td>\n",
       "      <td>129.134532</td>\n",
       "      <td>...</td>\n",
       "      <td>1.741080e+05</td>\n",
       "      <td>8178834.0</td>\n",
       "      <td>1.150000e+07</td>\n",
       "      <td>16194118.0</td>\n",
       "      <td>2.927630e+06</td>\n",
       "      <td>2143405.0</td>\n",
       "      <td>6.208250e+06</td>\n",
       "      <td>9696256.0</td>\n",
       "      <td>3.087087e+06</td>\n",
       "      <td>b'VIDEO-STREAMING'</td>\n",
       "    </tr>\n",
       "    <tr>\n",
       "      <th>118</th>\n",
       "      <td>52454484.0</td>\n",
       "      <td>52454484.0</td>\n",
       "      <td>52415985.0</td>\n",
       "      <td>623.0</td>\n",
       "      <td>704.0</td>\n",
       "      <td>18077682.0</td>\n",
       "      <td>18077819.0</td>\n",
       "      <td>2.017480e+06</td>\n",
       "      <td>1.807448e+06</td>\n",
       "      <td>1.086656</td>\n",
       "      <td>...</td>\n",
       "      <td>3.231882e+06</td>\n",
       "      <td>1399544.0</td>\n",
       "      <td>7.302913e+06</td>\n",
       "      <td>18397756.0</td>\n",
       "      <td>6.956533e+06</td>\n",
       "      <td>1077460.0</td>\n",
       "      <td>6.934669e+06</td>\n",
       "      <td>18077571.0</td>\n",
       "      <td>6.897008e+06</td>\n",
       "      <td>b'VIDEO-STREAMING'</td>\n",
       "    </tr>\n",
       "    <tr>\n",
       "      <th>119</th>\n",
       "      <td>44721957.0</td>\n",
       "      <td>44721957.0</td>\n",
       "      <td>44685042.0</td>\n",
       "      <td>0.0</td>\n",
       "      <td>0.0</td>\n",
       "      <td>20639186.0</td>\n",
       "      <td>20639348.0</td>\n",
       "      <td>4.615269e+04</td>\n",
       "      <td>2.468787e+04</td>\n",
       "      <td>62.184220</td>\n",
       "      <td>...</td>\n",
       "      <td>4.236657e+05</td>\n",
       "      <td>6475759.0</td>\n",
       "      <td>1.100000e+07</td>\n",
       "      <td>21008481.0</td>\n",
       "      <td>6.851598e+06</td>\n",
       "      <td>2944669.0</td>\n",
       "      <td>8.675644e+06</td>\n",
       "      <td>20639045.0</td>\n",
       "      <td>8.108685e+06</td>\n",
       "      <td>b'VIDEO-STREAMING'</td>\n",
       "    </tr>\n",
       "  </tbody>\n",
       "</table>\n",
       "<p>120 rows × 24 columns</p>\n",
       "</div>"
      ],
      "text/plain": [
       "       duration  total_fiat  total_biat    min_fiat    min_biat    max_fiat  \\\n",
       "0    59990105.0  59990029.0  59964416.0         0.0         0.0    210165.0   \n",
       "1    59964705.0  59879987.0  59925440.0         0.0         0.0    349456.0   \n",
       "2    32362503.0  32362503.0  32362136.0         0.0         0.0  15128637.0   \n",
       "3    29637594.0  29636549.0  29637594.0  29636549.0  29637594.0  29636549.0   \n",
       "4     6153793.0   6153793.0   6152777.0   6153793.0   6152777.0   6153793.0   \n",
       "..          ...         ...         ...         ...         ...         ...   \n",
       "115  59978002.0  59978002.0  59977714.0         0.0         0.0  14266113.0   \n",
       "116  39005789.0  39004631.0  39005789.0         1.0         0.0  19043328.0   \n",
       "117  59999443.0  59999443.0  59999203.0         0.0         0.0   9696463.0   \n",
       "118  52454484.0  52454484.0  52415985.0       623.0       704.0  18077682.0   \n",
       "119  44721957.0  44721957.0  44685042.0         0.0         0.0  20639186.0   \n",
       "\n",
       "       max_biat     mean_fiat     mean_biat  flowPktsPerSecond  ...  \\\n",
       "0      208601.0  6.234674e+03  8.468354e+03         278.462590  ...   \n",
       "1      349209.0  5.810206e+03  7.852895e+03         299.159314  ...   \n",
       "2    15128408.0  2.171980e+04  1.141924e+04         133.673221  ...   \n",
       "3    29637594.0  2.960000e+07  2.960000e+07           0.134964  ...   \n",
       "4     6152777.0  6.153793e+06  6.152777e+06           0.650006  ...   \n",
       "..          ...           ...           ...                ...  ...   \n",
       "115  14304335.0  4.346232e+04  2.307723e+04          66.374335  ...   \n",
       "116  19043324.0  1.781033e+05  9.607337e+04          16.074537  ...   \n",
       "117   9696404.0  2.223849e+04  1.188574e+04         129.134532  ...   \n",
       "118  18077819.0  2.017480e+06  1.807448e+06           1.086656  ...   \n",
       "119  20639348.0  4.615269e+04  2.468787e+04          62.184220  ...   \n",
       "\n",
       "      std_flowiat  min_active   mean_active  max_active    std_active  \\\n",
       "0    1.358003e+04        -1.0  0.000000e+00        -1.0  0.000000e+00   \n",
       "1    1.314781e+04        -1.0  0.000000e+00        -1.0  0.000000e+00   \n",
       "2    2.335672e+05   2885151.0  1.580000e+07  28619351.0  1.820000e+07   \n",
       "3    1.710000e+07  29636591.0  2.960000e+07  29636591.0  0.000000e+00   \n",
       "4    3.552014e+06   6153737.0  6.153737e+06   6153737.0  0.000000e+00   \n",
       "..            ...         ...           ...         ...           ...   \n",
       "115  3.255822e+05   1605913.0  9.574805e+06  17189788.0  4.976143e+06   \n",
       "116  8.823084e+05   7948182.0  1.280000e+07  19043328.0  5.664308e+06   \n",
       "117  1.741080e+05   8178834.0  1.150000e+07  16194118.0  2.927630e+06   \n",
       "118  3.231882e+06   1399544.0  7.302913e+06  18397756.0  6.956533e+06   \n",
       "119  4.236657e+05   6475759.0  1.100000e+07  21008481.0  6.851598e+06   \n",
       "\n",
       "       min_idle     mean_idle    max_idle      std_idle              class1  \n",
       "0          -1.0  0.000000e+00        -1.0  0.000000e+00    b'FILE-TRANSFER'  \n",
       "1          -1.0  0.000000e+00        -1.0  0.000000e+00    b'FILE-TRANSFER'  \n",
       "2     2080569.0  8.604488e+06  15128408.0  9.226215e+06  b'AUDIO-STREAMING'  \n",
       "3    29636549.0  2.960000e+07  29636549.0  0.000000e+00  b'AUDIO-STREAMING'  \n",
       "4     6152777.0  6.152777e+06   6152777.0  0.000000e+00  b'AUDIO-STREAMING'  \n",
       "..          ...           ...         ...           ...                 ...  \n",
       "115   1039823.0  7.191396e+06  14266113.0  4.678613e+06  b'VIDEO-STREAMING'  \n",
       "116   7496854.0  1.160000e+07  19043067.0  6.436156e+06  b'VIDEO-STREAMING'  \n",
       "117   2143405.0  6.208250e+06   9696256.0  3.087087e+06  b'VIDEO-STREAMING'  \n",
       "118   1077460.0  6.934669e+06  18077571.0  6.897008e+06  b'VIDEO-STREAMING'  \n",
       "119   2944669.0  8.675644e+06  20639045.0  8.108685e+06  b'VIDEO-STREAMING'  \n",
       "\n",
       "[120 rows x 24 columns]"
      ]
     },
     "execution_count": 61,
     "metadata": {},
     "output_type": "execute_result"
    }
   ],
   "source": [
    "df_data"
   ]
  },
  {
   "cell_type": "code",
   "execution_count": 59,
   "metadata": {},
   "outputs": [],
   "source": [
    "df_dep_var = 'class1'\n",
    "cont_names = list(set(df_data.columns) - set([df_dep_var]))"
   ]
  },
  {
   "cell_type": "code",
   "execution_count": 60,
   "metadata": {},
   "outputs": [
    {
     "ename": "ValueError",
     "evalue": "The least populated class in y has only 1 member, which is too few. The minimum number of groups for any class cannot be less than 2.",
     "output_type": "error",
     "traceback": [
      "\u001b[0;31m---------------------------------------------------------------------------\u001b[0m",
      "\u001b[0;31mValueError\u001b[0m                                Traceback (most recent call last)",
      "\u001b[0;32m<ipython-input-60-6b4c8181a348>\u001b[0m in \u001b[0;36m<module>\u001b[0;34m\u001b[0m\n\u001b[0;32m----> 1\u001b[0;31m \u001b[0;32mfor\u001b[0m \u001b[0mtrain_idx\u001b[0m\u001b[0;34m,\u001b[0m \u001b[0mtest_idx\u001b[0m \u001b[0;32min\u001b[0m \u001b[0msss\u001b[0m\u001b[0;34m.\u001b[0m\u001b[0msplit\u001b[0m\u001b[0;34m(\u001b[0m\u001b[0mdf_data\u001b[0m\u001b[0;34m.\u001b[0m\u001b[0mindex\u001b[0m\u001b[0;34m,\u001b[0m \u001b[0mdf_data\u001b[0m\u001b[0;34m[\u001b[0m\u001b[0mdf_dep_var\u001b[0m\u001b[0;34m]\u001b[0m\u001b[0;34m)\u001b[0m\u001b[0;34m:\u001b[0m\u001b[0;34m\u001b[0m\u001b[0;34m\u001b[0m\u001b[0m\n\u001b[0m\u001b[1;32m      2\u001b[0m     data_fold = (TabularList.from_df(df_data, path=dataPath, cont_names=cont_names, procs=procs)\n\u001b[1;32m      3\u001b[0m                      \u001b[0;34m.\u001b[0m\u001b[0msplit_by_idxs\u001b[0m\u001b[0;34m(\u001b[0m\u001b[0mtrain_idx\u001b[0m\u001b[0;34m,\u001b[0m \u001b[0mtest_idx\u001b[0m\u001b[0;34m)\u001b[0m\u001b[0;34m\u001b[0m\u001b[0;34m\u001b[0m\u001b[0m\n\u001b[1;32m      4\u001b[0m                      \u001b[0;34m.\u001b[0m\u001b[0mlabel_from_df\u001b[0m\u001b[0;34m(\u001b[0m\u001b[0mcols\u001b[0m\u001b[0;34m=\u001b[0m\u001b[0mdf_dep_var\u001b[0m\u001b[0;34m)\u001b[0m\u001b[0;34m\u001b[0m\u001b[0;34m\u001b[0m\u001b[0m\n\u001b[1;32m      5\u001b[0m                      .databunch())\n",
      "\u001b[0;32m~/miniconda3/lib/python3.7/site-packages/sklearn/model_selection/_split.py\u001b[0m in \u001b[0;36msplit\u001b[0;34m(self, X, y, groups)\u001b[0m\n\u001b[1;32m   1339\u001b[0m         \"\"\"\n\u001b[1;32m   1340\u001b[0m         \u001b[0mX\u001b[0m\u001b[0;34m,\u001b[0m \u001b[0my\u001b[0m\u001b[0;34m,\u001b[0m \u001b[0mgroups\u001b[0m \u001b[0;34m=\u001b[0m \u001b[0mindexable\u001b[0m\u001b[0;34m(\u001b[0m\u001b[0mX\u001b[0m\u001b[0;34m,\u001b[0m \u001b[0my\u001b[0m\u001b[0;34m,\u001b[0m \u001b[0mgroups\u001b[0m\u001b[0;34m)\u001b[0m\u001b[0;34m\u001b[0m\u001b[0;34m\u001b[0m\u001b[0m\n\u001b[0;32m-> 1341\u001b[0;31m         \u001b[0;32mfor\u001b[0m \u001b[0mtrain\u001b[0m\u001b[0;34m,\u001b[0m \u001b[0mtest\u001b[0m \u001b[0;32min\u001b[0m \u001b[0mself\u001b[0m\u001b[0;34m.\u001b[0m\u001b[0m_iter_indices\u001b[0m\u001b[0;34m(\u001b[0m\u001b[0mX\u001b[0m\u001b[0;34m,\u001b[0m \u001b[0my\u001b[0m\u001b[0;34m,\u001b[0m \u001b[0mgroups\u001b[0m\u001b[0;34m)\u001b[0m\u001b[0;34m:\u001b[0m\u001b[0;34m\u001b[0m\u001b[0;34m\u001b[0m\u001b[0m\n\u001b[0m\u001b[1;32m   1342\u001b[0m             \u001b[0;32myield\u001b[0m \u001b[0mtrain\u001b[0m\u001b[0;34m,\u001b[0m \u001b[0mtest\u001b[0m\u001b[0;34m\u001b[0m\u001b[0;34m\u001b[0m\u001b[0m\n\u001b[1;32m   1343\u001b[0m \u001b[0;34m\u001b[0m\u001b[0m\n",
      "\u001b[0;32m~/miniconda3/lib/python3.7/site-packages/sklearn/model_selection/_split.py\u001b[0m in \u001b[0;36m_iter_indices\u001b[0;34m(self, X, y, groups)\u001b[0m\n\u001b[1;32m   1666\u001b[0m         \u001b[0mclass_counts\u001b[0m \u001b[0;34m=\u001b[0m \u001b[0mnp\u001b[0m\u001b[0;34m.\u001b[0m\u001b[0mbincount\u001b[0m\u001b[0;34m(\u001b[0m\u001b[0my_indices\u001b[0m\u001b[0;34m)\u001b[0m\u001b[0;34m\u001b[0m\u001b[0;34m\u001b[0m\u001b[0m\n\u001b[1;32m   1667\u001b[0m         \u001b[0;32mif\u001b[0m \u001b[0mnp\u001b[0m\u001b[0;34m.\u001b[0m\u001b[0mmin\u001b[0m\u001b[0;34m(\u001b[0m\u001b[0mclass_counts\u001b[0m\u001b[0;34m)\u001b[0m \u001b[0;34m<\u001b[0m \u001b[0;36m2\u001b[0m\u001b[0;34m:\u001b[0m\u001b[0;34m\u001b[0m\u001b[0;34m\u001b[0m\u001b[0m\n\u001b[0;32m-> 1668\u001b[0;31m             raise ValueError(\"The least populated class in y has only 1\"\n\u001b[0m\u001b[1;32m   1669\u001b[0m                              \u001b[0;34m\" member, which is too few. The minimum\"\u001b[0m\u001b[0;34m\u001b[0m\u001b[0;34m\u001b[0m\u001b[0m\n\u001b[1;32m   1670\u001b[0m                              \u001b[0;34m\" number of groups for any class cannot\"\u001b[0m\u001b[0;34m\u001b[0m\u001b[0;34m\u001b[0m\u001b[0m\n",
      "\u001b[0;31mValueError\u001b[0m: The least populated class in y has only 1 member, which is too few. The minimum number of groups for any class cannot be less than 2."
     ]
    }
   ],
   "source": [
    "for train_idx, test_idx in sss.split(df_data.index, df_data[df_dep_var]):\n",
    "    data_fold = (TabularList.from_df(df_data, path=dataPath, cont_names=cont_names, procs=procs)\n",
    "                     .split_by_idxs(train_idx, test_idx)\n",
    "                     .label_from_df(cols=df_dep_var)\n",
    "                     .databunch())\n",
    "    # create model and learn\n",
    "    model = tabular_learner(data_fold, layers=[50, 20], metrics=accuracy, callback_fns=ShowGraph)\n",
    "    model.fit_one_cycle(cyc_len=10) #\n",
    "    model.save('{}.model'.format(os.path.basename(filepath)))"
   ]
  },
  {
   "cell_type": "code",
   "execution_count": 56,
   "metadata": {},
   "outputs": [
    {
     "data": {
      "text/html": [],
      "text/plain": [
       "<IPython.core.display.HTML object>"
      ]
     },
     "metadata": {},
     "output_type": "display_data"
    },
    {
     "name": "stdout",
     "output_type": "stream",
     "text": [
      "loss 0.6773143410682678: accuracy: 0.43%\n"
     ]
    }
   ],
   "source": [
    "loss, acc = model.validate()\n",
    "print('loss {}: accuracy: {:.2f}%'.format(loss, acc*100))"
   ]
  },
  {
   "cell_type": "code",
   "execution_count": 57,
   "metadata": {},
   "outputs": [
    {
     "data": {
      "text/html": [],
      "text/plain": [
       "<IPython.core.display.HTML object>"
      ]
     },
     "metadata": {},
     "output_type": "display_data"
    },
    {
     "data": {
      "image/png": "[encoded data removed]",
      "text/plain": [
       "<Figure size 432x288 with 1 Axes>"
      ]
     },
     "metadata": {
      "needs_background": "light"
     },
     "output_type": "display_data"
    }
   ],
   "source": [
    "preds, y, losses = model.get_preds(with_loss=True)\n",
    "interp = ClassificationInterpretation(model, preds, y, losses)\n",
    "interp.plot_confusion_matrix()"
   ]
  },
  {
   "cell_type": "code",
   "execution_count": 3,
   "metadata": {},
   "outputs": [
    {
     "name": "stdout",
     "output_type": "stream",
     "text": [
      "relevant libraries uploaded\n",
      "b'VOIP'               325\n",
      "b'VIDEO-STREAMING'    147\n",
      "b'FILE-TRANSFER'      107\n",
      "b'CHAT'                71\n",
      "b'BROWSING'            64\n",
      "b'EMAIL'               44\n",
      "b'AUDIO-STREAMING'     20\n",
      "b'P2P'                 17\n",
      "Name: class1, dtype: int64\n",
      "['duration', 'total_fiat', 'total_biat', 'min_fiat', 'min_biat', 'max_fiat', 'max_biat', 'mean_fiat', 'mean_biat', 'flowPktsPerSecond', 'flowBytesPerSecond', 'min_flowiat', 'max_flowiat', 'mean_flowiat', 'std_flowiat', 'min_active', 'mean_active', 'max_active', 'std_active', 'min_idle', 'mean_idle', 'max_idle', 'std_idle', 'class1']\n"
     ]
    }
   ],
   "source": [
    "print('relevant libraries uploaded')\n",
    "\n",
    "# Choose your own filepath for arff file\n",
    "filepath = 'CICDataSet-TOR/Scenario-B/TimeBasedFeatures-60s-Layer2-85.arff'\n",
    "raw_data = loadarff(filepath)\n",
    "\n",
    "# Converting arff file into pandas dataframe\n",
    "df_data = pd.DataFrame(raw_data[0])\n",
    "\n",
    "# Now, you can perform pandas methods if it is easy enough for you\n",
    "print(df_data['class1'].value_counts())\n",
    "column_name = list(df_data.columns)\n",
    "print(column_name)\n"
   ]
  },
  {
   "cell_type": "code",
   "execution_count": 4,
   "metadata": {},
   "outputs": [],
   "source": [
    "df_dep_var = 'class1'\n",
    "cont_names = list(set(df_data.columns) - set([df_dep_var]))"
   ]
  },
  {
   "cell_type": "code",
   "execution_count": 7,
   "metadata": {},
   "outputs": [
    {
     "data": {
      "text/html": [
       "<table border=\"1\" class=\"dataframe\">\n",
       "  <thead>\n",
       "    <tr style=\"text-align: left;\">\n",
       "      <th>epoch</th>\n",
       "      <th>train_loss</th>\n",
       "      <th>valid_loss</th>\n",
       "      <th>accuracy</th>\n",
       "      <th>time</th>\n",
       "    </tr>\n",
       "  </thead>\n",
       "  <tbody>\n",
       "    <tr>\n",
       "      <td>0</td>\n",
       "      <td>0.715801</td>\n",
       "      <td>0.739383</td>\n",
       "      <td>0.000000</td>\n",
       "      <td>00:00</td>\n",
       "    </tr>\n",
       "    <tr>\n",
       "      <td>1</td>\n",
       "      <td>0.706107</td>\n",
       "      <td>0.752800</td>\n",
       "      <td>0.000000</td>\n",
       "      <td>00:00</td>\n",
       "    </tr>\n",
       "    <tr>\n",
       "      <td>2</td>\n",
       "      <td>0.691255</td>\n",
       "      <td>0.757141</td>\n",
       "      <td>0.002398</td>\n",
       "      <td>00:00</td>\n",
       "    </tr>\n",
       "    <tr>\n",
       "      <td>3</td>\n",
       "      <td>0.671871</td>\n",
       "      <td>0.764562</td>\n",
       "      <td>0.005482</td>\n",
       "      <td>00:00</td>\n",
       "    </tr>\n",
       "    <tr>\n",
       "      <td>4</td>\n",
       "      <td>0.652851</td>\n",
       "      <td>0.750677</td>\n",
       "      <td>0.006852</td>\n",
       "      <td>00:00</td>\n",
       "    </tr>\n",
       "    <tr>\n",
       "      <td>5</td>\n",
       "      <td>0.635747</td>\n",
       "      <td>0.757861</td>\n",
       "      <td>0.009936</td>\n",
       "      <td>00:00</td>\n",
       "    </tr>\n",
       "    <tr>\n",
       "      <td>6</td>\n",
       "      <td>0.618893</td>\n",
       "      <td>0.744531</td>\n",
       "      <td>0.012334</td>\n",
       "      <td>00:00</td>\n",
       "    </tr>\n",
       "    <tr>\n",
       "      <td>7</td>\n",
       "      <td>0.605309</td>\n",
       "      <td>0.731633</td>\n",
       "      <td>0.009936</td>\n",
       "      <td>00:00</td>\n",
       "    </tr>\n",
       "    <tr>\n",
       "      <td>8</td>\n",
       "      <td>0.593953</td>\n",
       "      <td>0.733552</td>\n",
       "      <td>0.011992</td>\n",
       "      <td>00:00</td>\n",
       "    </tr>\n",
       "    <tr>\n",
       "      <td>9</td>\n",
       "      <td>0.585360</td>\n",
       "      <td>0.735190</td>\n",
       "      <td>0.011992</td>\n",
       "      <td>00:00</td>\n",
       "    </tr>\n",
       "  </tbody>\n",
       "</table>"
      ],
      "text/plain": [
       "<IPython.core.display.HTML object>"
      ]
     },
     "metadata": {},
     "output_type": "display_data"
    },
    {
     "data": {
      "image/png": "[encoded data removed]",
      "text/plain": [
       "<Figure size 432x288 with 1 Axes>"
      ]
     },
     "metadata": {},
     "output_type": "display_data"
    },
    {
     "data": {
      "text/html": [
       "<table border=\"1\" class=\"dataframe\">\n",
       "  <thead>\n",
       "    <tr style=\"text-align: left;\">\n",
       "      <th>epoch</th>\n",
       "      <th>train_loss</th>\n",
       "      <th>valid_loss</th>\n",
       "      <th>accuracy</th>\n",
       "      <th>time</th>\n",
       "    </tr>\n",
       "  </thead>\n",
       "  <tbody>\n",
       "    <tr>\n",
       "      <td>0</td>\n",
       "      <td>0.736821</td>\n",
       "      <td>0.720026</td>\n",
       "      <td>0.000000</td>\n",
       "      <td>00:00</td>\n",
       "    </tr>\n",
       "    <tr>\n",
       "      <td>1</td>\n",
       "      <td>0.726456</td>\n",
       "      <td>0.729825</td>\n",
       "      <td>0.009022</td>\n",
       "      <td>00:00</td>\n",
       "    </tr>\n",
       "    <tr>\n",
       "      <td>2</td>\n",
       "      <td>0.709294</td>\n",
       "      <td>0.726893</td>\n",
       "      <td>0.007880</td>\n",
       "      <td>00:00</td>\n",
       "    </tr>\n",
       "    <tr>\n",
       "      <td>3</td>\n",
       "      <td>0.689546</td>\n",
       "      <td>0.712623</td>\n",
       "      <td>0.006167</td>\n",
       "      <td>00:00</td>\n",
       "    </tr>\n",
       "    <tr>\n",
       "      <td>4</td>\n",
       "      <td>0.669567</td>\n",
       "      <td>0.695829</td>\n",
       "      <td>0.001370</td>\n",
       "      <td>00:00</td>\n",
       "    </tr>\n",
       "    <tr>\n",
       "      <td>5</td>\n",
       "      <td>0.650732</td>\n",
       "      <td>0.694726</td>\n",
       "      <td>0.000000</td>\n",
       "      <td>00:00</td>\n",
       "    </tr>\n",
       "    <tr>\n",
       "      <td>6</td>\n",
       "      <td>0.632919</td>\n",
       "      <td>0.702171</td>\n",
       "      <td>0.001370</td>\n",
       "      <td>00:00</td>\n",
       "    </tr>\n",
       "    <tr>\n",
       "      <td>7</td>\n",
       "      <td>0.617340</td>\n",
       "      <td>0.711315</td>\n",
       "      <td>0.001370</td>\n",
       "      <td>00:00</td>\n",
       "    </tr>\n",
       "    <tr>\n",
       "      <td>8</td>\n",
       "      <td>0.604712</td>\n",
       "      <td>0.723174</td>\n",
       "      <td>0.001142</td>\n",
       "      <td>00:00</td>\n",
       "    </tr>\n",
       "    <tr>\n",
       "      <td>9</td>\n",
       "      <td>0.594033</td>\n",
       "      <td>0.721325</td>\n",
       "      <td>0.001142</td>\n",
       "      <td>00:00</td>\n",
       "    </tr>\n",
       "  </tbody>\n",
       "</table>"
      ],
      "text/plain": [
       "<IPython.core.display.HTML object>"
      ]
     },
     "metadata": {},
     "output_type": "display_data"
    },
    {
     "data": {
      "image/png": "[encoded data removed]",
      "text/plain": [
       "<Figure size 432x288 with 1 Axes>"
      ]
     },
     "metadata": {},
     "output_type": "display_data"
    }
   ],
   "source": [
    "for train_idx, test_idx in sss.split(df_data.index, df_data[df_dep_var]):\n",
    "    data_fold = (TabularList.from_df(df_data, path=dataPath, cont_names=cont_names, procs=procs)\n",
    "                     .split_by_idxs(train_idx, test_idx)\n",
    "                     .label_from_df(cols=df_dep_var)\n",
    "                     .databunch())\n",
    "    # create model and learn\n",
    "    model = tabular_learner(data_fold, layers=[50, 20], metrics=accuracy, callback_fns=ShowGraph)\n",
    "    model.fit_one_cycle(cyc_len=10) #\n",
    "    model.save('{}.model'.format(os.path.basename(filepath)))"
   ]
  },
  {
   "cell_type": "code",
   "execution_count": 8,
   "metadata": {},
   "outputs": [
    {
     "data": {
      "text/html": [],
      "text/plain": [
       "<IPython.core.display.HTML object>"
      ]
     },
     "metadata": {},
     "output_type": "display_data"
    },
    {
     "name": "stdout",
     "output_type": "stream",
     "text": [
      "loss 0.7213249206542969: accuracy: 0.11%\n"
     ]
    }
   ],
   "source": [
    "loss, acc = model.validate()\n",
    "print('loss {}: accuracy: {:.2f}%'.format(loss, acc*100))"
   ]
  },
  {
   "cell_type": "code",
   "execution_count": 9,
   "metadata": {},
   "outputs": [
    {
     "data": {
      "text/html": [],
      "text/plain": [
       "<IPython.core.display.HTML object>"
      ]
     },
     "metadata": {},
     "output_type": "display_data"
    },
    {
     "data": {
      "image/png": "[encoded data removed]",
      "text/plain": [
       "<Figure size 432x288 with 1 Axes>"
      ]
     },
     "metadata": {
      "needs_background": "light"
     },
     "output_type": "display_data"
    }
   ],
   "source": [
    "preds, y, losses = model.get_preds(with_loss=True)\n",
    "interp = ClassificationInterpretation(model, preds, y, losses)\n",
    "interp.plot_confusion_matrix()"
   ]
  },
  {
   "cell_type": "code",
   "execution_count": 10,
   "metadata": {},
   "outputs": [
    {
     "name": "stdout",
     "output_type": "stream",
     "text": [
      "relevant libraries uploaded\n",
      "b'VOIP'               193\n",
      "b'VIDEO-STREAMING'     90\n",
      "b'FILE-TRANSFER'       63\n",
      "b'CHAT'                45\n",
      "b'BROWSING'            41\n",
      "b'EMAIL'               28\n",
      "b'AUDIO-STREAMING'     16\n",
      "b'P2P'                 10\n",
      "Name: class1, dtype: int64\n",
      "['duration', 'total_fiat', 'total_biat', 'min_fiat', 'min_biat', 'max_fiat', 'max_biat', 'mean_fiat', 'mean_biat', 'flowPktsPerSecond', 'flowBytesPerSecond', 'min_flowiat', 'max_flowiat', 'mean_flowiat', 'std_flowiat', 'min_active', 'mean_active', 'max_active', 'std_active', 'min_idle', 'mean_idle', 'max_idle', 'std_idle', 'class1']\n"
     ]
    }
   ],
   "source": [
    "print('relevant libraries uploaded')\n",
    "\n",
    "# Choose your own filepath for arff file\n",
    "filepath = 'CICDataSet-TOR/Scenario-B/TimeBasedFeatures-120s-layer2.arff'\n",
    "raw_data = loadarff(filepath)\n",
    "\n",
    "# Converting arff file into pandas dataframe\n",
    "df_data = pd.DataFrame(raw_data[0])\n",
    "\n",
    "# Now, you can perform pandas methods if it is easy enough for you\n",
    "print(df_data['class1'].value_counts())\n",
    "column_name = list(df_data.columns)\n",
    "print(column_name)\n"
   ]
  },
  {
   "cell_type": "code",
   "execution_count": 11,
   "metadata": {},
   "outputs": [],
   "source": [
    "df_dep_var = 'class1'\n",
    "cont_names = list(set(df_data.columns) - set([df_dep_var]))"
   ]
  },
  {
   "cell_type": "code",
   "execution_count": 12,
   "metadata": {},
   "outputs": [
    {
     "data": {
      "text/html": [
       "<table border=\"1\" class=\"dataframe\">\n",
       "  <thead>\n",
       "    <tr style=\"text-align: left;\">\n",
       "      <th>epoch</th>\n",
       "      <th>train_loss</th>\n",
       "      <th>valid_loss</th>\n",
       "      <th>accuracy</th>\n",
       "      <th>time</th>\n",
       "    </tr>\n",
       "  </thead>\n",
       "  <tbody>\n",
       "    <tr>\n",
       "      <td>0</td>\n",
       "      <td>0.711283</td>\n",
       "      <td>0.727598</td>\n",
       "      <td>0.000000</td>\n",
       "      <td>00:00</td>\n",
       "    </tr>\n",
       "    <tr>\n",
       "      <td>1</td>\n",
       "      <td>0.704903</td>\n",
       "      <td>0.732097</td>\n",
       "      <td>0.000000</td>\n",
       "      <td>00:00</td>\n",
       "    </tr>\n",
       "    <tr>\n",
       "      <td>2</td>\n",
       "      <td>0.698662</td>\n",
       "      <td>0.735105</td>\n",
       "      <td>0.000000</td>\n",
       "      <td>00:00</td>\n",
       "    </tr>\n",
       "    <tr>\n",
       "      <td>3</td>\n",
       "      <td>0.688052</td>\n",
       "      <td>0.727585</td>\n",
       "      <td>0.005425</td>\n",
       "      <td>00:00</td>\n",
       "    </tr>\n",
       "    <tr>\n",
       "      <td>4</td>\n",
       "      <td>0.676479</td>\n",
       "      <td>0.720008</td>\n",
       "      <td>0.003367</td>\n",
       "      <td>00:00</td>\n",
       "    </tr>\n",
       "    <tr>\n",
       "      <td>5</td>\n",
       "      <td>0.665778</td>\n",
       "      <td>0.715268</td>\n",
       "      <td>0.003367</td>\n",
       "      <td>00:00</td>\n",
       "    </tr>\n",
       "    <tr>\n",
       "      <td>6</td>\n",
       "      <td>0.655641</td>\n",
       "      <td>0.718216</td>\n",
       "      <td>0.010101</td>\n",
       "      <td>00:00</td>\n",
       "    </tr>\n",
       "    <tr>\n",
       "      <td>7</td>\n",
       "      <td>0.648108</td>\n",
       "      <td>0.717562</td>\n",
       "      <td>0.007295</td>\n",
       "      <td>00:00</td>\n",
       "    </tr>\n",
       "    <tr>\n",
       "      <td>8</td>\n",
       "      <td>0.640732</td>\n",
       "      <td>0.719520</td>\n",
       "      <td>0.008979</td>\n",
       "      <td>00:00</td>\n",
       "    </tr>\n",
       "    <tr>\n",
       "      <td>9</td>\n",
       "      <td>0.635300</td>\n",
       "      <td>0.722780</td>\n",
       "      <td>0.005612</td>\n",
       "      <td>00:00</td>\n",
       "    </tr>\n",
       "  </tbody>\n",
       "</table>"
      ],
      "text/plain": [
       "<IPython.core.display.HTML object>"
      ]
     },
     "metadata": {},
     "output_type": "display_data"
    },
    {
     "data": {
      "image/png": "[encoded data removed]",
      "text/plain": [
       "<Figure size 432x288 with 1 Axes>"
      ]
     },
     "metadata": {},
     "output_type": "display_data"
    },
    {
     "data": {
      "text/html": [
       "<table border=\"1\" class=\"dataframe\">\n",
       "  <thead>\n",
       "    <tr style=\"text-align: left;\">\n",
       "      <th>epoch</th>\n",
       "      <th>train_loss</th>\n",
       "      <th>valid_loss</th>\n",
       "      <th>accuracy</th>\n",
       "      <th>time</th>\n",
       "    </tr>\n",
       "  </thead>\n",
       "  <tbody>\n",
       "    <tr>\n",
       "      <td>0</td>\n",
       "      <td>0.720440</td>\n",
       "      <td>0.719572</td>\n",
       "      <td>0.093528</td>\n",
       "      <td>00:00</td>\n",
       "    </tr>\n",
       "    <tr>\n",
       "      <td>1</td>\n",
       "      <td>0.719354</td>\n",
       "      <td>0.730017</td>\n",
       "      <td>0.251964</td>\n",
       "      <td>00:00</td>\n",
       "    </tr>\n",
       "    <tr>\n",
       "      <td>2</td>\n",
       "      <td>0.709558</td>\n",
       "      <td>0.734216</td>\n",
       "      <td>0.575196</td>\n",
       "      <td>00:00</td>\n",
       "    </tr>\n",
       "    <tr>\n",
       "      <td>3</td>\n",
       "      <td>0.697041</td>\n",
       "      <td>0.733654</td>\n",
       "      <td>0.305088</td>\n",
       "      <td>00:00</td>\n",
       "    </tr>\n",
       "    <tr>\n",
       "      <td>4</td>\n",
       "      <td>0.684993</td>\n",
       "      <td>0.730226</td>\n",
       "      <td>0.272540</td>\n",
       "      <td>00:00</td>\n",
       "    </tr>\n",
       "    <tr>\n",
       "      <td>5</td>\n",
       "      <td>0.672828</td>\n",
       "      <td>0.727595</td>\n",
       "      <td>0.260756</td>\n",
       "      <td>00:00</td>\n",
       "    </tr>\n",
       "    <tr>\n",
       "      <td>6</td>\n",
       "      <td>0.661820</td>\n",
       "      <td>0.720207</td>\n",
       "      <td>0.252525</td>\n",
       "      <td>00:00</td>\n",
       "    </tr>\n",
       "    <tr>\n",
       "      <td>7</td>\n",
       "      <td>0.652225</td>\n",
       "      <td>0.713097</td>\n",
       "      <td>0.239805</td>\n",
       "      <td>00:00</td>\n",
       "    </tr>\n",
       "    <tr>\n",
       "      <td>8</td>\n",
       "      <td>0.643213</td>\n",
       "      <td>0.718303</td>\n",
       "      <td>0.230453</td>\n",
       "      <td>00:00</td>\n",
       "    </tr>\n",
       "    <tr>\n",
       "      <td>9</td>\n",
       "      <td>0.637138</td>\n",
       "      <td>0.730413</td>\n",
       "      <td>0.218668</td>\n",
       "      <td>00:00</td>\n",
       "    </tr>\n",
       "  </tbody>\n",
       "</table>"
      ],
      "text/plain": [
       "<IPython.core.display.HTML object>"
      ]
     },
     "metadata": {},
     "output_type": "display_data"
    },
    {
     "data": {
      "image/png": "[encoded data removed]",
      "text/plain": [
       "<Figure size 432x288 with 1 Axes>"
      ]
     },
     "metadata": {},
     "output_type": "display_data"
    }
   ],
   "source": [
    "for train_idx, test_idx in sss.split(df_data.index, df_data[df_dep_var]):\n",
    "    data_fold = (TabularList.from_df(df_data, path=dataPath, cont_names=cont_names, procs=procs)\n",
    "                     .split_by_idxs(train_idx, test_idx)\n",
    "                     .label_from_df(cols=df_dep_var)\n",
    "                     .databunch())\n",
    "    # create model and learn\n",
    "    model = tabular_learner(data_fold, layers=[50, 20], metrics=accuracy, callback_fns=ShowGraph)\n",
    "    model.fit_one_cycle(cyc_len=10) #\n",
    "    model.save('{}.model'.format(os.path.basename(filepath)))"
   ]
  },
  {
   "cell_type": "code",
   "execution_count": 13,
   "metadata": {},
   "outputs": [
    {
     "data": {
      "text/html": [],
      "text/plain": [
       "<IPython.core.display.HTML object>"
      ]
     },
     "metadata": {},
     "output_type": "display_data"
    },
    {
     "name": "stdout",
     "output_type": "stream",
     "text": [
      "loss 0.7304129004478455: accuracy: 21.87%\n"
     ]
    }
   ],
   "source": [
    "loss, acc = model.validate()\n",
    "print('loss {}: accuracy: {:.2f}%'.format(loss, acc*100))"
   ]
  },
  {
   "cell_type": "code",
   "execution_count": 14,
   "metadata": {},
   "outputs": [
    {
     "data": {
      "text/html": [],
      "text/plain": [
       "<IPython.core.display.HTML object>"
      ]
     },
     "metadata": {},
     "output_type": "display_data"
    },
    {
     "data": {
      "image/png": "[encoded data removed]",
      "text/plain": [
       "<Figure size 432x288 with 1 Axes>"
      ]
     },
     "metadata": {
      "needs_background": "light"
     },
     "output_type": "display_data"
    }
   ],
   "source": [
    "preds, y, losses = model.get_preds(with_loss=True)\n",
    "interp = ClassificationInterpretation(model, preds, y, losses)\n",
    "interp.plot_confusion_matrix()"
   ]
  },
  {
   "cell_type": "code",
   "execution_count": 15,
   "metadata": {},
   "outputs": [
    {
     "name": "stdout",
     "output_type": "stream",
     "text": [
      "relevant libraries uploaded\n",
      "b'VOIP'               32\n",
      "b'VIDEO-STREAMING'    13\n",
      "b'FILE-TRANSFER'      13\n",
      "b'EMAIL'               5\n",
      "b'BROWSING'            5\n",
      "b'CHAT'                3\n",
      "b'AUDIO-STREAMING'     2\n",
      "Name: class1, dtype: int64\n",
      "['duration', 'total_fiat', 'total_biat', 'min_fiat', 'min_biat', 'max_fiat', 'max_biat', 'mean_fiat', 'mean_biat', 'flowPktsPerSecond', 'flowBytesPerSecond', 'min_flowiat', 'max_flowiat', 'mean_flowiat', 'std_flowiat', 'min_active', 'mean_active', 'max_active', 'std_active', 'min_idle', 'mean_idle', 'max_idle', 'std_idle', 'class1']\n"
     ]
    }
   ],
   "source": [
    "print('relevant libraries uploaded')\n",
    "\n",
    "# Choose your own filepath for arff file\n",
    "filepath = 'CICDataSet-TOR/Scenario-B/TimeBasedFeatures-120s-layer2-15.arff'\n",
    "raw_data = loadarff(filepath)\n",
    "\n",
    "# Converting arff file into pandas dataframe\n",
    "df_data = pd.DataFrame(raw_data[0])\n",
    "\n",
    "# Now, you can perform pandas methods if it is easy enough for you\n",
    "print(df_data['class1'].value_counts())\n",
    "column_name = list(df_data.columns)\n",
    "print(column_name)\n"
   ]
  },
  {
   "cell_type": "code",
   "execution_count": 16,
   "metadata": {},
   "outputs": [],
   "source": [
    "df_dep_var = 'class1'\n",
    "cont_names = list(set(df_data.columns) - set([df_dep_var]))"
   ]
  },
  {
   "cell_type": "code",
   "execution_count": 17,
   "metadata": {},
   "outputs": [
    {
     "name": "stdout",
     "output_type": "stream",
     "text": [
      "You can deactivate this warning by passing `no_check=True`.\n"
     ]
    },
    {
     "name": "stderr",
     "output_type": "stream",
     "text": [
      "/home/minglee/miniconda3/lib/python3.7/site-packages/fastai/basic_data.py:248: UserWarning: Your training dataloader is empty, you have only 36 items in your training set.\n",
      "                 Your batch size is 64, you should lower it.\n",
      "  Your batch size is {self.train_dl.batch_size}, you should lower it.\"\"\")\n"
     ]
    },
    {
     "ename": "AssertionError",
     "evalue": "Your training dataloader is empty, can't train a model.\n        Use a smaller batch size (batch size=64 for 36 elements).",
     "output_type": "error",
     "traceback": [
      "\u001b[0;31m---------------------------------------------------------------------------\u001b[0m",
      "\u001b[0;31mAssertionError\u001b[0m                            Traceback (most recent call last)",
      "\u001b[0;32m<ipython-input-17-6b4c8181a348>\u001b[0m in \u001b[0;36m<module>\u001b[0;34m\u001b[0m\n\u001b[1;32m      6\u001b[0m     \u001b[0;31m# create model and learn\u001b[0m\u001b[0;34m\u001b[0m\u001b[0;34m\u001b[0m\u001b[0;34m\u001b[0m\u001b[0m\n\u001b[1;32m      7\u001b[0m     \u001b[0mmodel\u001b[0m \u001b[0;34m=\u001b[0m \u001b[0mtabular_learner\u001b[0m\u001b[0;34m(\u001b[0m\u001b[0mdata_fold\u001b[0m\u001b[0;34m,\u001b[0m \u001b[0mlayers\u001b[0m\u001b[0;34m=\u001b[0m\u001b[0;34m[\u001b[0m\u001b[0;36m50\u001b[0m\u001b[0;34m,\u001b[0m \u001b[0;36m20\u001b[0m\u001b[0;34m]\u001b[0m\u001b[0;34m,\u001b[0m \u001b[0mmetrics\u001b[0m\u001b[0;34m=\u001b[0m\u001b[0maccuracy\u001b[0m\u001b[0;34m,\u001b[0m \u001b[0mcallback_fns\u001b[0m\u001b[0;34m=\u001b[0m\u001b[0mShowGraph\u001b[0m\u001b[0;34m)\u001b[0m\u001b[0;34m\u001b[0m\u001b[0;34m\u001b[0m\u001b[0m\n\u001b[0;32m----> 8\u001b[0;31m     \u001b[0mmodel\u001b[0m\u001b[0;34m.\u001b[0m\u001b[0mfit_one_cycle\u001b[0m\u001b[0;34m(\u001b[0m\u001b[0mcyc_len\u001b[0m\u001b[0;34m=\u001b[0m\u001b[0;36m10\u001b[0m\u001b[0;34m)\u001b[0m \u001b[0;31m#\u001b[0m\u001b[0;34m\u001b[0m\u001b[0;34m\u001b[0m\u001b[0m\n\u001b[0m\u001b[1;32m      9\u001b[0m     \u001b[0mmodel\u001b[0m\u001b[0;34m.\u001b[0m\u001b[0msave\u001b[0m\u001b[0;34m(\u001b[0m\u001b[0;34m'{}.model'\u001b[0m\u001b[0;34m.\u001b[0m\u001b[0mformat\u001b[0m\u001b[0;34m(\u001b[0m\u001b[0mos\u001b[0m\u001b[0;34m.\u001b[0m\u001b[0mpath\u001b[0m\u001b[0;34m.\u001b[0m\u001b[0mbasename\u001b[0m\u001b[0;34m(\u001b[0m\u001b[0mfilepath\u001b[0m\u001b[0;34m)\u001b[0m\u001b[0;34m)\u001b[0m\u001b[0;34m)\u001b[0m\u001b[0;34m\u001b[0m\u001b[0;34m\u001b[0m\u001b[0m\n",
      "\u001b[0;32m~/miniconda3/lib/python3.7/site-packages/fastai/train.py\u001b[0m in \u001b[0;36mfit_one_cycle\u001b[0;34m(learn, cyc_len, max_lr, moms, div_factor, pct_start, final_div, wd, callbacks, tot_epochs, start_epoch)\u001b[0m\n\u001b[1;32m     21\u001b[0m     callbacks.append(OneCycleScheduler(learn, max_lr, moms=moms, div_factor=div_factor, pct_start=pct_start,\n\u001b[1;32m     22\u001b[0m                                        final_div=final_div, tot_epochs=tot_epochs, start_epoch=start_epoch))\n\u001b[0;32m---> 23\u001b[0;31m     \u001b[0mlearn\u001b[0m\u001b[0;34m.\u001b[0m\u001b[0mfit\u001b[0m\u001b[0;34m(\u001b[0m\u001b[0mcyc_len\u001b[0m\u001b[0;34m,\u001b[0m \u001b[0mmax_lr\u001b[0m\u001b[0;34m,\u001b[0m \u001b[0mwd\u001b[0m\u001b[0;34m=\u001b[0m\u001b[0mwd\u001b[0m\u001b[0;34m,\u001b[0m \u001b[0mcallbacks\u001b[0m\u001b[0;34m=\u001b[0m\u001b[0mcallbacks\u001b[0m\u001b[0;34m)\u001b[0m\u001b[0;34m\u001b[0m\u001b[0;34m\u001b[0m\u001b[0m\n\u001b[0m\u001b[1;32m     24\u001b[0m \u001b[0;34m\u001b[0m\u001b[0m\n\u001b[1;32m     25\u001b[0m def fit_fc(learn:Learner, tot_epochs:int=1, lr:float=defaults.lr,  moms:Tuple[float,float]=(0.95,0.85), start_pct:float=0.72,\n",
      "\u001b[0;32m~/miniconda3/lib/python3.7/site-packages/fastai/basic_train.py\u001b[0m in \u001b[0;36mfit\u001b[0;34m(self, epochs, lr, wd, callbacks)\u001b[0m\n\u001b[1;32m    198\u001b[0m         \u001b[0;32melse\u001b[0m\u001b[0;34m:\u001b[0m \u001b[0mself\u001b[0m\u001b[0;34m.\u001b[0m\u001b[0mopt\u001b[0m\u001b[0;34m.\u001b[0m\u001b[0mlr\u001b[0m\u001b[0;34m,\u001b[0m\u001b[0mself\u001b[0m\u001b[0;34m.\u001b[0m\u001b[0mopt\u001b[0m\u001b[0;34m.\u001b[0m\u001b[0mwd\u001b[0m \u001b[0;34m=\u001b[0m \u001b[0mlr\u001b[0m\u001b[0;34m,\u001b[0m\u001b[0mwd\u001b[0m\u001b[0;34m\u001b[0m\u001b[0;34m\u001b[0m\u001b[0m\n\u001b[1;32m    199\u001b[0m         \u001b[0mcallbacks\u001b[0m \u001b[0;34m=\u001b[0m \u001b[0;34m[\u001b[0m\u001b[0mcb\u001b[0m\u001b[0;34m(\u001b[0m\u001b[0mself\u001b[0m\u001b[0;34m)\u001b[0m \u001b[0;32mfor\u001b[0m \u001b[0mcb\u001b[0m \u001b[0;32min\u001b[0m \u001b[0mself\u001b[0m\u001b[0;34m.\u001b[0m\u001b[0mcallback_fns\u001b[0m \u001b[0;34m+\u001b[0m \u001b[0mlistify\u001b[0m\u001b[0;34m(\u001b[0m\u001b[0mdefaults\u001b[0m\u001b[0;34m.\u001b[0m\u001b[0mextra_callback_fns\u001b[0m\u001b[0;34m)\u001b[0m\u001b[0;34m]\u001b[0m \u001b[0;34m+\u001b[0m \u001b[0mlistify\u001b[0m\u001b[0;34m(\u001b[0m\u001b[0mcallbacks\u001b[0m\u001b[0;34m)\u001b[0m\u001b[0;34m\u001b[0m\u001b[0;34m\u001b[0m\u001b[0m\n\u001b[0;32m--> 200\u001b[0;31m         \u001b[0mfit\u001b[0m\u001b[0;34m(\u001b[0m\u001b[0mepochs\u001b[0m\u001b[0;34m,\u001b[0m \u001b[0mself\u001b[0m\u001b[0;34m,\u001b[0m \u001b[0mmetrics\u001b[0m\u001b[0;34m=\u001b[0m\u001b[0mself\u001b[0m\u001b[0;34m.\u001b[0m\u001b[0mmetrics\u001b[0m\u001b[0;34m,\u001b[0m \u001b[0mcallbacks\u001b[0m\u001b[0;34m=\u001b[0m\u001b[0mself\u001b[0m\u001b[0;34m.\u001b[0m\u001b[0mcallbacks\u001b[0m\u001b[0;34m+\u001b[0m\u001b[0mcallbacks\u001b[0m\u001b[0;34m)\u001b[0m\u001b[0;34m\u001b[0m\u001b[0;34m\u001b[0m\u001b[0m\n\u001b[0m\u001b[1;32m    201\u001b[0m \u001b[0;34m\u001b[0m\u001b[0m\n\u001b[1;32m    202\u001b[0m     \u001b[0;32mdef\u001b[0m \u001b[0mcreate_opt\u001b[0m\u001b[0;34m(\u001b[0m\u001b[0mself\u001b[0m\u001b[0;34m,\u001b[0m \u001b[0mlr\u001b[0m\u001b[0;34m:\u001b[0m\u001b[0mFloats\u001b[0m\u001b[0;34m,\u001b[0m \u001b[0mwd\u001b[0m\u001b[0;34m:\u001b[0m\u001b[0mFloats\u001b[0m\u001b[0;34m=\u001b[0m\u001b[0;36m0.\u001b[0m\u001b[0;34m)\u001b[0m\u001b[0;34m->\u001b[0m\u001b[0;32mNone\u001b[0m\u001b[0;34m:\u001b[0m\u001b[0;34m\u001b[0m\u001b[0;34m\u001b[0m\u001b[0m\n",
      "\u001b[0;32m~/miniconda3/lib/python3.7/site-packages/fastai/basic_train.py\u001b[0m in \u001b[0;36mfit\u001b[0;34m(epochs, learn, callbacks, metrics)\u001b[0m\n\u001b[1;32m     86\u001b[0m     \u001b[0;34m\"Fit the `model` on `data` and learn using `loss_func` and `opt`.\"\u001b[0m\u001b[0;34m\u001b[0m\u001b[0;34m\u001b[0m\u001b[0m\n\u001b[1;32m     87\u001b[0m     assert len(learn.data.train_dl) != 0, f\"\"\"Your training dataloader is empty, can't train a model.\n\u001b[0;32m---> 88\u001b[0;31m         Use a smaller batch size (batch size={learn.data.train_dl.batch_size} for {len(learn.data.train_dl.dataset)} elements).\"\"\"\n\u001b[0m\u001b[1;32m     89\u001b[0m     \u001b[0mcb_handler\u001b[0m \u001b[0;34m=\u001b[0m \u001b[0mCallbackHandler\u001b[0m\u001b[0;34m(\u001b[0m\u001b[0mcallbacks\u001b[0m\u001b[0;34m,\u001b[0m \u001b[0mmetrics\u001b[0m\u001b[0;34m)\u001b[0m\u001b[0;34m\u001b[0m\u001b[0;34m\u001b[0m\u001b[0m\n\u001b[1;32m     90\u001b[0m     \u001b[0mpbar\u001b[0m \u001b[0;34m=\u001b[0m \u001b[0mmaster_bar\u001b[0m\u001b[0;34m(\u001b[0m\u001b[0mrange\u001b[0m\u001b[0;34m(\u001b[0m\u001b[0mepochs\u001b[0m\u001b[0;34m)\u001b[0m\u001b[0;34m)\u001b[0m\u001b[0;34m\u001b[0m\u001b[0;34m\u001b[0m\u001b[0m\n",
      "\u001b[0;31mAssertionError\u001b[0m: Your training dataloader is empty, can't train a model.\n        Use a smaller batch size (batch size=64 for 36 elements)."
     ]
    }
   ],
   "source": [
    "for train_idx, test_idx in sss.split(df_data.index, df_data[df_dep_var]):\n",
    "    data_fold = (TabularList.from_df(df_data, path=dataPath, cont_names=cont_names, procs=procs)\n",
    "                     .split_by_idxs(train_idx, test_idx)\n",
    "                     .label_from_df(cols=df_dep_var)\n",
    "                     .databunch())\n",
    "    # create model and learn\n",
    "    model = tabular_learner(data_fold, layers=[50, 20], metrics=accuracy, callback_fns=ShowGraph)\n",
    "    model.fit_one_cycle(cyc_len=10) #\n",
    "    model.save('{}.model'.format(os.path.basename(filepath)))"
   ]
  },
  {
   "cell_type": "code",
   "execution_count": 18,
   "metadata": {},
   "outputs": [
    {
     "data": {
      "text/html": [],
      "text/plain": [
       "<IPython.core.display.HTML object>"
      ]
     },
     "metadata": {},
     "output_type": "display_data"
    },
    {
     "name": "stdout",
     "output_type": "stream",
     "text": [
      "loss 0.6848055124282837: accuracy: 0.00%\n"
     ]
    }
   ],
   "source": [
    "loss, acc = model.validate()\n",
    "print('loss {}: accuracy: {:.2f}%'.format(loss, acc*100))"
   ]
  },
  {
   "cell_type": "code",
   "execution_count": 19,
   "metadata": {},
   "outputs": [
    {
     "name": "stdout",
     "output_type": "stream",
     "text": [
      "relevant libraries uploaded\n",
      "b'VOIP'               161\n",
      "b'VIDEO-STREAMING'     77\n",
      "b'FILE-TRANSFER'       50\n",
      "b'CHAT'                42\n",
      "b'BROWSING'            36\n",
      "b'EMAIL'               23\n",
      "b'AUDIO-STREAMING'     14\n",
      "b'P2P'                 10\n",
      "Name: class1, dtype: int64\n",
      "['duration', 'total_fiat', 'total_biat', 'min_fiat', 'min_biat', 'max_fiat', 'max_biat', 'mean_fiat', 'mean_biat', 'flowPktsPerSecond', 'flowBytesPerSecond', 'min_flowiat', 'max_flowiat', 'mean_flowiat', 'std_flowiat', 'min_active', 'mean_active', 'max_active', 'std_active', 'min_idle', 'mean_idle', 'max_idle', 'std_idle', 'class1']\n"
     ]
    }
   ],
   "source": [
    "print('relevant libraries uploaded')\n",
    "\n",
    "# Choose your own filepath for arff file\n",
    "filepath = 'CICDataSet-TOR/Scenario-B/TimeBasedFeatures-120s-layer2-85.arff'\n",
    "raw_data = loadarff(filepath)\n",
    "\n",
    "# Converting arff file into pandas dataframe\n",
    "df_data = pd.DataFrame(raw_data[0])\n",
    "\n",
    "# Now, you can perform pandas methods if it is easy enough for you\n",
    "print(df_data['class1'].value_counts())\n",
    "column_name = list(df_data.columns)\n",
    "print(column_name)\n"
   ]
  },
  {
   "cell_type": "code",
   "execution_count": 20,
   "metadata": {},
   "outputs": [],
   "source": [
    "df_dep_var = 'class1'\n",
    "cont_names = list(set(df_data.columns) - set([df_dep_var]))"
   ]
  },
  {
   "cell_type": "code",
   "execution_count": 21,
   "metadata": {},
   "outputs": [
    {
     "data": {
      "text/html": [
       "<table border=\"1\" class=\"dataframe\">\n",
       "  <thead>\n",
       "    <tr style=\"text-align: left;\">\n",
       "      <th>epoch</th>\n",
       "      <th>train_loss</th>\n",
       "      <th>valid_loss</th>\n",
       "      <th>accuracy</th>\n",
       "      <th>time</th>\n",
       "    </tr>\n",
       "  </thead>\n",
       "  <tbody>\n",
       "    <tr>\n",
       "      <td>0</td>\n",
       "      <td>0.730020</td>\n",
       "      <td>0.721294</td>\n",
       "      <td>0.000000</td>\n",
       "      <td>00:00</td>\n",
       "    </tr>\n",
       "    <tr>\n",
       "      <td>1</td>\n",
       "      <td>0.724620</td>\n",
       "      <td>0.724930</td>\n",
       "      <td>0.000000</td>\n",
       "      <td>00:00</td>\n",
       "    </tr>\n",
       "    <tr>\n",
       "      <td>2</td>\n",
       "      <td>0.717530</td>\n",
       "      <td>0.723905</td>\n",
       "      <td>0.000000</td>\n",
       "      <td>00:00</td>\n",
       "    </tr>\n",
       "    <tr>\n",
       "      <td>3</td>\n",
       "      <td>0.706856</td>\n",
       "      <td>0.722719</td>\n",
       "      <td>0.000000</td>\n",
       "      <td>00:00</td>\n",
       "    </tr>\n",
       "    <tr>\n",
       "      <td>4</td>\n",
       "      <td>0.696317</td>\n",
       "      <td>0.721561</td>\n",
       "      <td>0.000000</td>\n",
       "      <td>00:00</td>\n",
       "    </tr>\n",
       "    <tr>\n",
       "      <td>5</td>\n",
       "      <td>0.685104</td>\n",
       "      <td>0.722738</td>\n",
       "      <td>0.000000</td>\n",
       "      <td>00:00</td>\n",
       "    </tr>\n",
       "    <tr>\n",
       "      <td>6</td>\n",
       "      <td>0.674581</td>\n",
       "      <td>0.727850</td>\n",
       "      <td>0.000000</td>\n",
       "      <td>00:00</td>\n",
       "    </tr>\n",
       "    <tr>\n",
       "      <td>7</td>\n",
       "      <td>0.666006</td>\n",
       "      <td>0.733418</td>\n",
       "      <td>0.000000</td>\n",
       "      <td>00:00</td>\n",
       "    </tr>\n",
       "    <tr>\n",
       "      <td>8</td>\n",
       "      <td>0.659186</td>\n",
       "      <td>0.741269</td>\n",
       "      <td>0.000000</td>\n",
       "      <td>00:00</td>\n",
       "    </tr>\n",
       "    <tr>\n",
       "      <td>9</td>\n",
       "      <td>0.652641</td>\n",
       "      <td>0.753102</td>\n",
       "      <td>0.000000</td>\n",
       "      <td>00:00</td>\n",
       "    </tr>\n",
       "  </tbody>\n",
       "</table>"
      ],
      "text/plain": [
       "<IPython.core.display.HTML object>"
      ]
     },
     "metadata": {},
     "output_type": "display_data"
    },
    {
     "data": {
      "image/png": "[encoded data removed]",
      "text/plain": [
       "<Figure size 432x288 with 1 Axes>"
      ]
     },
     "metadata": {},
     "output_type": "display_data"
    },
    {
     "data": {
      "text/html": [
       "<table border=\"1\" class=\"dataframe\">\n",
       "  <thead>\n",
       "    <tr style=\"text-align: left;\">\n",
       "      <th>epoch</th>\n",
       "      <th>train_loss</th>\n",
       "      <th>valid_loss</th>\n",
       "      <th>accuracy</th>\n",
       "      <th>time</th>\n",
       "    </tr>\n",
       "  </thead>\n",
       "  <tbody>\n",
       "    <tr>\n",
       "      <td>0</td>\n",
       "      <td>0.717599</td>\n",
       "      <td>0.726988</td>\n",
       "      <td>0.000000</td>\n",
       "      <td>00:00</td>\n",
       "    </tr>\n",
       "    <tr>\n",
       "      <td>1</td>\n",
       "      <td>0.710882</td>\n",
       "      <td>0.726800</td>\n",
       "      <td>0.000000</td>\n",
       "      <td>00:00</td>\n",
       "    </tr>\n",
       "    <tr>\n",
       "      <td>2</td>\n",
       "      <td>0.700947</td>\n",
       "      <td>0.725630</td>\n",
       "      <td>0.000000</td>\n",
       "      <td>00:00</td>\n",
       "    </tr>\n",
       "    <tr>\n",
       "      <td>3</td>\n",
       "      <td>0.689937</td>\n",
       "      <td>0.721799</td>\n",
       "      <td>0.000000</td>\n",
       "      <td>00:00</td>\n",
       "    </tr>\n",
       "    <tr>\n",
       "      <td>4</td>\n",
       "      <td>0.678881</td>\n",
       "      <td>0.719645</td>\n",
       "      <td>0.000000</td>\n",
       "      <td>00:00</td>\n",
       "    </tr>\n",
       "    <tr>\n",
       "      <td>5</td>\n",
       "      <td>0.669322</td>\n",
       "      <td>0.718980</td>\n",
       "      <td>0.000000</td>\n",
       "      <td>00:00</td>\n",
       "    </tr>\n",
       "    <tr>\n",
       "      <td>6</td>\n",
       "      <td>0.660037</td>\n",
       "      <td>0.717510</td>\n",
       "      <td>0.000000</td>\n",
       "      <td>00:00</td>\n",
       "    </tr>\n",
       "    <tr>\n",
       "      <td>7</td>\n",
       "      <td>0.651560</td>\n",
       "      <td>0.716541</td>\n",
       "      <td>0.000000</td>\n",
       "      <td>00:00</td>\n",
       "    </tr>\n",
       "    <tr>\n",
       "      <td>8</td>\n",
       "      <td>0.644206</td>\n",
       "      <td>0.716066</td>\n",
       "      <td>0.000000</td>\n",
       "      <td>00:00</td>\n",
       "    </tr>\n",
       "    <tr>\n",
       "      <td>9</td>\n",
       "      <td>0.638177</td>\n",
       "      <td>0.723231</td>\n",
       "      <td>0.000000</td>\n",
       "      <td>00:00</td>\n",
       "    </tr>\n",
       "  </tbody>\n",
       "</table>"
      ],
      "text/plain": [
       "<IPython.core.display.HTML object>"
      ]
     },
     "metadata": {},
     "output_type": "display_data"
    },
    {
     "data": {
      "image/png": "[encoded data removed]",
      "text/plain": [
       "<Figure size 432x288 with 1 Axes>"
      ]
     },
     "metadata": {},
     "output_type": "display_data"
    }
   ],
   "source": [
    "for train_idx, test_idx in sss.split(df_data.index, df_data[df_dep_var]):\n",
    "    data_fold = (TabularList.from_df(df_data, path=dataPath, cont_names=cont_names, procs=procs)\n",
    "                     .split_by_idxs(train_idx, test_idx)\n",
    "                     .label_from_df(cols=df_dep_var)\n",
    "                     .databunch())\n",
    "    # create model and learn\n",
    "    model = tabular_learner(data_fold, layers=[50, 20], metrics=accuracy, callback_fns=ShowGraph)\n",
    "    model.fit_one_cycle(cyc_len=10) #\n",
    "    model.save('{}.model'.format(os.path.basename(filepath)))"
   ]
  },
  {
   "cell_type": "code",
   "execution_count": 22,
   "metadata": {},
   "outputs": [
    {
     "data": {
      "text/html": [],
      "text/plain": [
       "<IPython.core.display.HTML object>"
      ]
     },
     "metadata": {},
     "output_type": "display_data"
    },
    {
     "name": "stdout",
     "output_type": "stream",
     "text": [
      "loss 0.7232314944267273: accuracy: 0.00%\n"
     ]
    }
   ],
   "source": [
    "loss, acc = model.validate()\n",
    "print('loss {}: accuracy: {:.2f}%'.format(loss, acc*100))"
   ]
  },
  {
   "cell_type": "code",
   "execution_count": null,
   "metadata": {},
   "outputs": [],
   "source": []
  },
  {
   "cell_type": "code",
   "execution_count": null,
   "metadata": {},
   "outputs": [],
   "source": []
  }
 ],
 "metadata": {
  "kernelspec": {
   "display_name": "Python 3",
   "language": "python",
   "name": "python3"
  },
  "language_info": {
   "codemirror_mode": {
    "name": "ipython",
    "version": 3
   },
   "file_extension": ".py",
   "mimetype": "text/x-python",
   "name": "python",
   "nbconvert_exporter": "python",
   "pygments_lexer": "ipython3",
   "version": "3.7.6"
  }
 },
 "nbformat": 4,
 "nbformat_minor": 4
}
