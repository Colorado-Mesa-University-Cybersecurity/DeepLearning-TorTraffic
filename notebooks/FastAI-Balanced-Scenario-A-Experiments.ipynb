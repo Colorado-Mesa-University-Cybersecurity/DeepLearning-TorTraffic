{
 "cells": [
  {
   "cell_type": "markdown",
   "metadata": {},
   "source": [
    "# Experiments on Scenario A with FastAI\n",
    "\n",
    "This series of experiments was performed on a rebalanced subset of the Data from Scenario A where the new dataset is created by reducing a random sample of Non-Tor data to the equivalent size of the Tor data. The new dataset is comprised of exactly 50% Tor connection data and 50% Non-Tor connection data"
   ]
  },
  {
   "cell_type": "code",
   "execution_count": 1,
   "metadata": {},
   "outputs": [
    {
     "name": "stdout",
     "output_type": "stream",
     "text": [
      "libraries loaded\n"
     ]
    }
   ],
   "source": [
    "import os, sys, glob, pprint\n",
    "from fastai.tabular import *\n",
    "from sklearn.utils import shuffle\n",
    "from sklearn.model_selection import train_test_split, StratifiedShuffleSplit\n",
    "import pandas as pd\n",
    "import numpy as np\n",
    "\n",
    "# set up pretty printer for easier data evaluation\n",
    "p = pprint.PrettyPrinter(indent=4, width=30)\n",
    "pretty = p.pprint\n",
    "\n",
    "print('libraries loaded')"
   ]
  },
  {
   "cell_type": "markdown",
   "metadata": {},
   "source": [
    "##  Prepare the data\n",
    "\n",
    "The balanced datasets have already been balanced and cleaned for use, but we will do some re-cleaning to make sure the experiments without throwing an error. The files and their path are listed here\n",
    "\n",
    "NOTE: We manually went into the csv files after converting them from arff to remove Infinity cells, NaN cells, and to fill the empty initial column cell with the title Index. The reason we filled the initial column cell is because the fastAI library was throwing errors due to the empty cell title"
   ]
  },
  {
   "cell_type": "code",
   "execution_count": 2,
   "metadata": {},
   "outputs": [
    {
     "name": "stdout",
     "output_type": "stream",
     "text": [
      "We will be running: 15 experiments\n",
      "\n",
      "[   './balancedSetA/downsampled_merged_5s.csv',\n",
      "    './balancedSetA/downsampled_SelectedFeatures-10s-TOR-NonTor.csv',\n",
      "    './balancedSetA/downsampled_SelectedFeatures-15s-TOR-NonTor.csv',\n",
      "    './balancedSetA/downsampled_TimeBasedFeatures-15s-TOR-NonTOR.csv',\n",
      "    './balancedSetA/downsampled_TimeBasedFeatures-15s-TOR-NonTOR-15.csv',\n",
      "    './balancedSetA/downsampled_TimeBasedFeatures-15s-TOR-NonTOR-85.csv',\n",
      "    './balancedSetA/downsampled_TimeBasedFeatures-30s-TORNonTor.csv',\n",
      "    './balancedSetA/downsampled_TimeBasedFeatures-30s-TORNonTOR-15.csv',\n",
      "    './balancedSetA/downsampled_TimeBasedFeatures-30s-TORNonTOR-85.csv',\n",
      "    './balancedSetA/downsampled_TimeBasedFeatures-60s-TOR-NonTor.csv',\n",
      "    './balancedSetA/downsampled_TimeBasedFeatures-60s-TOR-NonTOR-15.csv',\n",
      "    './balancedSetA/downsampled_TimeBasedFeatures-60s-TOR-NonTOR-85.csv',\n",
      "    './balancedSetA/downsampled_TimeBasedFeatures-120s-TOR-NonTor.csv',\n",
      "    './balancedSetA/downsampled_TimeBasedFeatures-120s-TOR-NonTOR-15.csv',\n",
      "    './balancedSetA/downsampled_TimeBasedFeatures-120s-TOR-NonTOR-85.csv']\n"
     ]
    }
   ],
   "source": [
    "dataPath: str = './balancedSetA'\n",
    "data: list = [\n",
    "    'downsampled_merged_5s.csv',\n",
    "    'downsampled_SelectedFeatures-10s-TOR-NonTor.csv',\n",
    "    'downsampled_SelectedFeatures-15s-TOR-NonTor.csv',\n",
    "    'downsampled_TimeBasedFeatures-15s-TOR-NonTOR.csv',\n",
    "    'downsampled_TimeBasedFeatures-15s-TOR-NonTOR-15.csv',\n",
    "    'downsampled_TimeBasedFeatures-15s-TOR-NonTOR-85.csv',\n",
    "    'downsampled_TimeBasedFeatures-30s-TORNonTor.csv',\n",
    "    'downsampled_TimeBasedFeatures-30s-TORNonTOR-15.csv',\n",
    "    'downsampled_TimeBasedFeatures-30s-TORNonTOR-85.csv',\n",
    "    'downsampled_TimeBasedFeatures-60s-TOR-NonTor.csv',\n",
    "    'downsampled_TimeBasedFeatures-60s-TOR-NonTOR-15.csv',\n",
    "    'downsampled_TimeBasedFeatures-60s-TOR-NonTOR-85.csv',\n",
    "    'downsampled_TimeBasedFeatures-120s-TOR-NonTor.csv',\n",
    "    'downsampled_TimeBasedFeatures-120s-TOR-NonTOR-15.csv',\n",
    "    'downsampled_TimeBasedFeatures-120s-TOR-NonTOR-85.csv'\n",
    "]\n",
    "\n",
    "\n",
    "def get_file_path(file):\n",
    "    return os.path.join(dataPath, file)\n",
    "\n",
    "csvFiles: list = list(map(get_file_path, data))\n",
    "\n",
    "print(f'We will be running: {len(csvFiles)} experiments\\n')\n",
    "pretty(csvFiles)"
   ]
  },
  {
   "cell_type": "markdown",
   "metadata": {},
   "source": [
    "Here we create a series of helper functions to load, re-clean, and cache the data"
   ]
  },
  {
   "cell_type": "code",
   "execution_count": 3,
   "metadata": {},
   "outputs": [],
   "source": [
    "def clean(df):\n",
    "    # let's strip the whitspaces from column names\n",
    "    df = df.rename(str.strip, axis='columns')\n",
    "\n",
    "    # drop missing values/NaN etc.\n",
    "    df.dropna(inplace=True)\n",
    "\n",
    "    # drop Infinity rows and NaN string from each column\n",
    "    for col in df.columns:\n",
    "        \n",
    "        indexNames = df[df[col]=='Infinity'].index\n",
    "        if not indexNames.empty:\n",
    "            print('deleting {} rows with Infinity in column {}'.format(len(indexNames), col))\n",
    "            df.drop(indexNames, inplace=True)\n",
    "\n",
    "        indexNames = df[df[col]=='inf'].index\n",
    "        if not indexNames.empty:\n",
    "            print('deleting {} rows with inf in column {}'.format(len(indexNames), col))\n",
    "            df.drop(indexNames, inplace=True)\n",
    "\n",
    "        indexNames = df[df[col]=='NaN'].index\n",
    "        if not indexNames.empty:\n",
    "            print('deleting {} rows with NaN in column {}'.format(len(indexNames), col))\n",
    "            df.drop(indexNames, inplace=True)\n",
    "\n",
    "        indexNames = df[df[col]=='nan'].index\n",
    "        if not indexNames.empty:\n",
    "            print('deleting {} rows with nan in column {}'.format(len(indexNames), col))\n",
    "            df.drop(indexNames, inplace=True)\n",
    "\n",
    "    # drop  Source IP and Destination IP columns if they are present        \n",
    "    if 'Source IP' in df.columns:\n",
    "        df.drop(columns=['Source IP'], inplace=True)\n",
    "\n",
    "    if 'Destination IP' in df.columns:\n",
    "        df.drop(columns=['Destination IP'], inplace=True)\n",
    "            \n",
    "    # convert  Flow Bytes/s object & Flow Packets/s object into float type if they are present\n",
    "    if 'Flow Bytes/s' in df.columns:\n",
    "        df['Flow Bytes/s'] = df['Flow Bytes/s'].astype('float64')\n",
    "\n",
    "    if 'Flow Packets/s' in df.columns:\n",
    "        df['Flow Packets/s'] = df['Flow Packets/s'].astype('float64')\n",
    "\n",
    "    return df\n",
    "    \n",
    "\n",
    "def load_data(filePath):\n",
    "    \n",
    "    # slice off the ./ from the filePath\n",
    "    if filePath[0] == '.' and filePath[1] == '/':\n",
    "        filePathClean: str = filePath[2::]\n",
    "        pickleDump: str = f'./processed/{filePathClean}.pickle'\n",
    "    else:\n",
    "        pickleDump: str = f'./processed/{filePath}.pickle'\n",
    "    \n",
    "    print(f'Loading Dataset: {filePath}')\n",
    "    print(f'\\tTo Dataset Cache: {pickleDump}\\n')\n",
    "    \n",
    "    # check if data already exists within cache\n",
    "    if os.path.exists(pickleDump):\n",
    "        df = pd.read_pickle(pickleDump)\n",
    "        \n",
    "    # if not, load data and clean it before caching it\n",
    "    else:\n",
    "        df = pd.read_csv(filePath, low_memory=False)\n",
    "        df = clean(df)\n",
    "        \n",
    "        df.to_pickle(pickleDump)\n",
    "    \n",
    "    return df"
   ]
  },
  {
   "cell_type": "markdown",
   "metadata": {},
   "source": [
    "Here we use the helper functions to map over the experiment files and load the csv files into memory"
   ]
  },
  {
   "cell_type": "code",
   "execution_count": 4,
   "metadata": {},
   "outputs": [
    {
     "name": "stdout",
     "output_type": "stream",
     "text": [
      "Loading Dataset: ./balancedSetA/downsampled_merged_5s.csv\n",
      "\tTo Dataset Cache: ./processed/balancedSetA/downsampled_merged_5s.csv.pickle\n",
      "\n",
      "Loading Dataset: ./balancedSetA/downsampled_SelectedFeatures-10s-TOR-NonTor.csv\n",
      "\tTo Dataset Cache: ./processed/balancedSetA/downsampled_SelectedFeatures-10s-TOR-NonTor.csv.pickle\n",
      "\n",
      "Loading Dataset: ./balancedSetA/downsampled_SelectedFeatures-15s-TOR-NonTor.csv\n",
      "\tTo Dataset Cache: ./processed/balancedSetA/downsampled_SelectedFeatures-15s-TOR-NonTor.csv.pickle\n",
      "\n",
      "Loading Dataset: ./balancedSetA/downsampled_TimeBasedFeatures-15s-TOR-NonTOR.csv\n",
      "\tTo Dataset Cache: ./processed/balancedSetA/downsampled_TimeBasedFeatures-15s-TOR-NonTOR.csv.pickle\n",
      "\n",
      "Loading Dataset: ./balancedSetA/downsampled_TimeBasedFeatures-15s-TOR-NonTOR-15.csv\n",
      "\tTo Dataset Cache: ./processed/balancedSetA/downsampled_TimeBasedFeatures-15s-TOR-NonTOR-15.csv.pickle\n",
      "\n",
      "Loading Dataset: ./balancedSetA/downsampled_TimeBasedFeatures-15s-TOR-NonTOR-85.csv\n",
      "\tTo Dataset Cache: ./processed/balancedSetA/downsampled_TimeBasedFeatures-15s-TOR-NonTOR-85.csv.pickle\n",
      "\n",
      "Loading Dataset: ./balancedSetA/downsampled_TimeBasedFeatures-30s-TORNonTor.csv\n",
      "\tTo Dataset Cache: ./processed/balancedSetA/downsampled_TimeBasedFeatures-30s-TORNonTor.csv.pickle\n",
      "\n",
      "Loading Dataset: ./balancedSetA/downsampled_TimeBasedFeatures-30s-TORNonTOR-15.csv\n",
      "\tTo Dataset Cache: ./processed/balancedSetA/downsampled_TimeBasedFeatures-30s-TORNonTOR-15.csv.pickle\n",
      "\n",
      "Loading Dataset: ./balancedSetA/downsampled_TimeBasedFeatures-30s-TORNonTOR-85.csv\n",
      "\tTo Dataset Cache: ./processed/balancedSetA/downsampled_TimeBasedFeatures-30s-TORNonTOR-85.csv.pickle\n",
      "\n",
      "Loading Dataset: ./balancedSetA/downsampled_TimeBasedFeatures-60s-TOR-NonTor.csv\n",
      "\tTo Dataset Cache: ./processed/balancedSetA/downsampled_TimeBasedFeatures-60s-TOR-NonTor.csv.pickle\n",
      "\n",
      "Loading Dataset: ./balancedSetA/downsampled_TimeBasedFeatures-60s-TOR-NonTOR-15.csv\n",
      "\tTo Dataset Cache: ./processed/balancedSetA/downsampled_TimeBasedFeatures-60s-TOR-NonTOR-15.csv.pickle\n",
      "\n",
      "Loading Dataset: ./balancedSetA/downsampled_TimeBasedFeatures-60s-TOR-NonTOR-85.csv\n",
      "\tTo Dataset Cache: ./processed/balancedSetA/downsampled_TimeBasedFeatures-60s-TOR-NonTOR-85.csv.pickle\n",
      "\n",
      "Loading Dataset: ./balancedSetA/downsampled_TimeBasedFeatures-120s-TOR-NonTor.csv\n",
      "\tTo Dataset Cache: ./processed/balancedSetA/downsampled_TimeBasedFeatures-120s-TOR-NonTor.csv.pickle\n",
      "\n",
      "Loading Dataset: ./balancedSetA/downsampled_TimeBasedFeatures-120s-TOR-NonTOR-15.csv\n",
      "\tTo Dataset Cache: ./processed/balancedSetA/downsampled_TimeBasedFeatures-120s-TOR-NonTOR-15.csv.pickle\n",
      "\n",
      "Loading Dataset: ./balancedSetA/downsampled_TimeBasedFeatures-120s-TOR-NonTOR-85.csv\n",
      "\tTo Dataset Cache: ./processed/balancedSetA/downsampled_TimeBasedFeatures-120s-TOR-NonTOR-85.csv.pickle\n",
      "\n"
     ]
    }
   ],
   "source": [
    "dataframes: list = list(map(load_data, csvFiles))"
   ]
  },
  {
   "cell_type": "markdown",
   "metadata": {},
   "source": [
    "With the data cleaned, packaged, and loaded into memory, we now can create the functions to run the experiments"
   ]
  },
  {
   "cell_type": "code",
   "execution_count": 5,
   "metadata": {},
   "outputs": [],
   "source": [
    "def run_experiment(experiment_number, df):\n",
    "    try:\n",
    "        dep_var = 'label'\n",
    "        x = df[df[dep_var]=='TOR']\n",
    "    except:\n",
    "        dep_var = 'class1'\n",
    "        x = df[df[dep_var]=='TOR']\n",
    "\n",
    "    unused_categories: list = []\n",
    "        \n",
    "    if 'Source Port' in df.columns:\n",
    "        unused_categories.append('Source Port')\n",
    "    if 'Destination Port' in df.columns:\n",
    "        unused_categories.append('Destination Port')\n",
    "    if 'Protocol' in df.columns:\n",
    "        unused_categories.append('Protocol')\n",
    "    if 'Index' in df.columns:\n",
    "        unused_categories.append('Index')\n",
    "    if 'Unnamed: 0' in df.columns:\n",
    "        unused_categories.append('Unnamed: 0')\n",
    "    \n",
    "    selected_features = list(set(df) - set(unused_categories) - set([dep_var]))\n",
    "    print('Selected Features:')\n",
    "    pretty(selected_features)\n",
    "    print('\\nDependent Variable:', dep_var)\n",
    "    \n",
    "    procs = [FillMissing, Categorify, Normalize]\n",
    "    sss = StratifiedShuffleSplit(n_splits = 1, test_size=0.2, random_state=0)\n",
    "    \n",
    "    for train_idx, test_idx in sss.split(df.index, df[dep_var]):\n",
    "        data_fold = (TabularList.from_df(df, path=dataPath, cat_names=unused_categories, cont_names=selected_features, procs=procs)\n",
    "            .split_by_idxs(train_idx, test_idx)\n",
    "            .label_from_df(cols=dep_var)\n",
    "            .databunch())\n",
    "        \n",
    "        \n",
    "        # create model and learn\n",
    "        model = tabular_learner(data_fold, layers=[50, 28], metrics=accuracy, callback_fns=ShowGraph)\n",
    "        model.fit_one_cycle(cyc_len=10) #\n",
    "        model.save('{}.model'.format(os.path.basename(csvFiles[experiment_number])))\n",
    "    \n",
    "    loss, acc = model.validate()\n",
    "    print('loss {}: accuracy: {:.2f}%'.format(loss, acc*100))\n",
    "    \n",
    "    preds, y, losses = model.get_preds(with_loss=True)\n",
    "    interp = ClassificationInterpretation(model, preds, y, losses)\n",
    "    interp.plot_confusion_matrix()\n",
    "\n",
    "\n",
    "def experiment_metadata(experiment_number, df):\n",
    "    print(f'Experiment #{experiment_number + 1}\\n\\ndataset:\\t\\t{data[experiment_number]}\\nshape:\\t\\t\\t{df.shape}')\n",
    "    try:\n",
    "        id_column = 'label'\n",
    "        tor_data = df[df[id_column]=='TOR']\n",
    "        non_tor_data = df[df[id_column]=='nonTOR']\n",
    "        if len(non_tor_data.index) == 0:\n",
    "            non_tor_data = df[df[id_column] == 'NONTOR']\n",
    "    except:\n",
    "        id_column = 'class1'\n",
    "        tor_data = df[df[id_column]=='TOR']\n",
    "        non_tor_data = df[df[id_column]=='nonTOR']\n",
    "        if len(non_tor_data.index) == 0:\n",
    "            non_tor_data = df[df[id_column] == 'NONTOR']\n",
    "    print(f'total TOR data:\\t\\t{len(tor_data.index)}\\ntotal Non-TOR data:\\t{len(non_tor_data.index)}\\n\\n')\n"
   ]
  },
  {
   "cell_type": "markdown",
   "metadata": {},
   "source": [
    "Lets test that the experiments run when given an arbitrary set of data"
   ]
  },
  {
   "cell_type": "code",
   "execution_count": 6,
   "metadata": {},
   "outputs": [
    {
     "name": "stdout",
     "output_type": "stream",
     "text": [
      "Experiment #13\n",
      "\n",
      "dataset:\t\tdownsampled_TimeBasedFeatures-120s-TOR-NonTor.csv\n",
      "shape:\t\t\t(940, 25)\n",
      "total TOR data:\t\t470\n",
      "total Non-TOR data:\t470\n",
      "\n",
      "\n"
     ]
    }
   ],
   "source": [
    "experiment_metadata(12, dataframes[12])"
   ]
  },
  {
   "cell_type": "code",
   "execution_count": 7,
   "metadata": {},
   "outputs": [
    {
     "name": "stdout",
     "output_type": "stream",
     "text": [
      "Selected Features:\n",
      "[   'max_biat',\n",
      "    'total_biat',\n",
      "    'mean_fiat',\n",
      "    'max_idle',\n",
      "    'total_fiat',\n",
      "    'min_idle',\n",
      "    'std_flowiat',\n",
      "    'flowPktsPerSecond',\n",
      "    'min_biat',\n",
      "    'mean_biat',\n",
      "    'mean_idle',\n",
      "    'flowBytesPerSecond',\n",
      "    'min_flowiat',\n",
      "    'duration',\n",
      "    'std_active',\n",
      "    'max_fiat',\n",
      "    'max_active',\n",
      "    'min_fiat',\n",
      "    'std_idle',\n",
      "    'mean_flowiat',\n",
      "    'max_flowiat',\n",
      "    'mean_active',\n",
      "    'min_active']\n",
      "\n",
      "Dependent Variable: class1\n"
     ]
    },
    {
     "data": {
      "text/html": [
       "<table border=\"1\" class=\"dataframe\">\n",
       "  <thead>\n",
       "    <tr style=\"text-align: left;\">\n",
       "      <th>epoch</th>\n",
       "      <th>train_loss</th>\n",
       "      <th>valid_loss</th>\n",
       "      <th>accuracy</th>\n",
       "      <th>time</th>\n",
       "    </tr>\n",
       "  </thead>\n",
       "  <tbody>\n",
       "    <tr>\n",
       "      <td>0</td>\n",
       "      <td>0.728242</td>\n",
       "      <td>0.660908</td>\n",
       "      <td>0.579787</td>\n",
       "      <td>00:01</td>\n",
       "    </tr>\n",
       "    <tr>\n",
       "      <td>1</td>\n",
       "      <td>0.539187</td>\n",
       "      <td>0.453264</td>\n",
       "      <td>0.952128</td>\n",
       "      <td>00:01</td>\n",
       "    </tr>\n",
       "    <tr>\n",
       "      <td>2</td>\n",
       "      <td>0.383838</td>\n",
       "      <td>0.173263</td>\n",
       "      <td>0.978723</td>\n",
       "      <td>00:01</td>\n",
       "    </tr>\n",
       "    <tr>\n",
       "      <td>3</td>\n",
       "      <td>0.275199</td>\n",
       "      <td>0.074304</td>\n",
       "      <td>0.989362</td>\n",
       "      <td>00:01</td>\n",
       "    </tr>\n",
       "    <tr>\n",
       "      <td>4</td>\n",
       "      <td>0.204417</td>\n",
       "      <td>0.055858</td>\n",
       "      <td>0.989362</td>\n",
       "      <td>00:01</td>\n",
       "    </tr>\n",
       "    <tr>\n",
       "      <td>5</td>\n",
       "      <td>0.153729</td>\n",
       "      <td>0.051914</td>\n",
       "      <td>0.989362</td>\n",
       "      <td>00:01</td>\n",
       "    </tr>\n",
       "    <tr>\n",
       "      <td>6</td>\n",
       "      <td>0.117871</td>\n",
       "      <td>0.050208</td>\n",
       "      <td>0.989362</td>\n",
       "      <td>00:01</td>\n",
       "    </tr>\n",
       "    <tr>\n",
       "      <td>7</td>\n",
       "      <td>0.093299</td>\n",
       "      <td>0.045668</td>\n",
       "      <td>0.989362</td>\n",
       "      <td>00:01</td>\n",
       "    </tr>\n",
       "    <tr>\n",
       "      <td>8</td>\n",
       "      <td>0.074227</td>\n",
       "      <td>0.045944</td>\n",
       "      <td>0.989362</td>\n",
       "      <td>00:01</td>\n",
       "    </tr>\n",
       "    <tr>\n",
       "      <td>9</td>\n",
       "      <td>0.059562</td>\n",
       "      <td>0.046128</td>\n",
       "      <td>0.989362</td>\n",
       "      <td>00:01</td>\n",
       "    </tr>\n",
       "  </tbody>\n",
       "</table>"
      ],
      "text/plain": [
       "<IPython.core.display.HTML object>"
      ]
     },
     "metadata": {},
     "output_type": "display_data"
    },
    {
     "data": {
      "image/png": "[encoded data removed]",
      "text/plain": [
       "<Figure size 432x288 with 1 Axes>"
      ]
     },
     "metadata": {},
     "output_type": "display_data"
    },
    {
     "data": {
      "text/html": [],
      "text/plain": [
       "<IPython.core.display.HTML object>"
      ]
     },
     "metadata": {},
     "output_type": "display_data"
    },
    {
     "name": "stdout",
     "output_type": "stream",
     "text": [
      "loss 0.04612834379076958: accuracy: 98.94%\n"
     ]
    },
    {
     "data": {
      "text/html": [],
      "text/plain": [
       "<IPython.core.display.HTML object>"
      ]
     },
     "metadata": {},
     "output_type": "display_data"
    },
    {
     "data": {
      "image/png": "[encoded data removed]",
      "text/plain": [
       "<Figure size 432x288 with 1 Axes>"
      ]
     },
     "metadata": {
      "needs_background": "light"
     },
     "output_type": "display_data"
    }
   ],
   "source": [
    "run_experiment(12, dataframes[12])"
   ]
  },
  {
   "cell_type": "markdown",
   "metadata": {},
   "source": [
    "Since our experiments are all neatly packaged in lists, we have created a simple generator to run each experiment"
   ]
  },
  {
   "cell_type": "code",
   "execution_count": 8,
   "metadata": {},
   "outputs": [],
   "source": [
    "def run_experiments(dataframes):\n",
    "    for experiment_number, df in enumerate(dataframes):\n",
    "        experiment_metadata(experiment_number, df)\n",
    "        yield run_experiment(experiment_number, df)"
   ]
  },
  {
   "cell_type": "code",
   "execution_count": 9,
   "metadata": {},
   "outputs": [],
   "source": [
    "experiment = run_experiments(dataframes)"
   ]
  },
  {
   "cell_type": "markdown",
   "metadata": {},
   "source": [
    "Here we run all of the experiments now that they have been set up"
   ]
  },
  {
   "cell_type": "code",
   "execution_count": 10,
   "metadata": {},
   "outputs": [
    {
     "name": "stdout",
     "output_type": "stream",
     "text": [
      "Experiment #1\n",
      "\n",
      "dataset:\t\tdownsampled_merged_5s.csv\n",
      "shape:\t\t\t(29014, 28)\n",
      "total TOR data:\t\t14507\n",
      "total Non-TOR data:\t14507\n",
      "\n",
      "\n",
      "Selected Features:\n",
      "[   'Bwd IAT Max',\n",
      "    'Idle Max',\n",
      "    'Active Std',\n",
      "    'Fwd IAT Mean',\n",
      "    'Fwd IAT Max',\n",
      "    'Active Mean',\n",
      "    'Idle Min',\n",
      "    'Active Max',\n",
      "    'Fwd IAT Min',\n",
      "    'Idle Mean',\n",
      "    'Bwd IAT Mean',\n",
      "    'Flow IAT Mean',\n",
      "    'Flow Bytes/s',\n",
      "    'Active Min',\n",
      "    'Flow IAT Max',\n",
      "    'Flow Duration',\n",
      "    'Flow Packets/s',\n",
      "    'Flow IAT Std',\n",
      "    'Flow IAT Min',\n",
      "    'Fwd IAT Std',\n",
      "    'Bwd IAT Std',\n",
      "    'Idle Std',\n",
      "    'Bwd IAT Min']\n",
      "\n",
      "Dependent Variable: label\n"
     ]
    },
    {
     "data": {
      "text/html": [
       "<table border=\"1\" class=\"dataframe\">\n",
       "  <thead>\n",
       "    <tr style=\"text-align: left;\">\n",
       "      <th>epoch</th>\n",
       "      <th>train_loss</th>\n",
       "      <th>valid_loss</th>\n",
       "      <th>accuracy</th>\n",
       "      <th>time</th>\n",
       "    </tr>\n",
       "  </thead>\n",
       "  <tbody>\n",
       "    <tr>\n",
       "      <td>0</td>\n",
       "      <td>0.032496</td>\n",
       "      <td>0.011521</td>\n",
       "      <td>0.998104</td>\n",
       "      <td>01:27</td>\n",
       "    </tr>\n",
       "    <tr>\n",
       "      <td>1</td>\n",
       "      <td>0.006879</td>\n",
       "      <td>0.008393</td>\n",
       "      <td>0.997415</td>\n",
       "      <td>01:18</td>\n",
       "    </tr>\n",
       "    <tr>\n",
       "      <td>2</td>\n",
       "      <td>0.007407</td>\n",
       "      <td>0.004216</td>\n",
       "      <td>0.998449</td>\n",
       "      <td>01:16</td>\n",
       "    </tr>\n",
       "    <tr>\n",
       "      <td>3</td>\n",
       "      <td>0.005266</td>\n",
       "      <td>0.002656</td>\n",
       "      <td>0.998966</td>\n",
       "      <td>01:19</td>\n",
       "    </tr>\n",
       "    <tr>\n",
       "      <td>4</td>\n",
       "      <td>0.001400</td>\n",
       "      <td>0.003617</td>\n",
       "      <td>0.999483</td>\n",
       "      <td>01:18</td>\n",
       "    </tr>\n",
       "    <tr>\n",
       "      <td>5</td>\n",
       "      <td>0.000999</td>\n",
       "      <td>0.002158</td>\n",
       "      <td>0.999483</td>\n",
       "      <td>01:18</td>\n",
       "    </tr>\n",
       "    <tr>\n",
       "      <td>6</td>\n",
       "      <td>0.000036</td>\n",
       "      <td>0.004037</td>\n",
       "      <td>0.998966</td>\n",
       "      <td>01:21</td>\n",
       "    </tr>\n",
       "    <tr>\n",
       "      <td>7</td>\n",
       "      <td>0.000042</td>\n",
       "      <td>0.001798</td>\n",
       "      <td>0.999828</td>\n",
       "      <td>01:18</td>\n",
       "    </tr>\n",
       "    <tr>\n",
       "      <td>8</td>\n",
       "      <td>0.000005</td>\n",
       "      <td>0.002805</td>\n",
       "      <td>0.999311</td>\n",
       "      <td>01:23</td>\n",
       "    </tr>\n",
       "    <tr>\n",
       "      <td>9</td>\n",
       "      <td>0.000004</td>\n",
       "      <td>0.002590</td>\n",
       "      <td>0.999311</td>\n",
       "      <td>01:17</td>\n",
       "    </tr>\n",
       "  </tbody>\n",
       "</table>"
      ],
      "text/plain": [
       "<IPython.core.display.HTML object>"
      ]
     },
     "metadata": {},
     "output_type": "display_data"
    },
    {
     "data": {
      "image/png": "[encoded data removed]",
      "text/plain": [
       "<Figure size 432x288 with 1 Axes>"
      ]
     },
     "metadata": {},
     "output_type": "display_data"
    },
    {
     "data": {
      "text/html": [],
      "text/plain": [
       "<IPython.core.display.HTML object>"
      ]
     },
     "metadata": {},
     "output_type": "display_data"
    },
    {
     "name": "stdout",
     "output_type": "stream",
     "text": [
      "loss 0.0025904832873493433: accuracy: 99.93%\n"
     ]
    },
    {
     "data": {
      "text/html": [],
      "text/plain": [
       "<IPython.core.display.HTML object>"
      ]
     },
     "metadata": {},
     "output_type": "display_data"
    },
    {
     "data": {
      "image/png": "[encoded data removed]",
      "text/plain": [
       "<Figure size 432x288 with 1 Axes>"
      ]
     },
     "metadata": {
      "needs_background": "light"
     },
     "output_type": "display_data"
    }
   ],
   "source": [
    "next(experiment)"
   ]
  },
  {
   "cell_type": "code",
   "execution_count": 11,
   "metadata": {},
   "outputs": [
    {
     "name": "stdout",
     "output_type": "stream",
     "text": [
      "Experiment #2\n",
      "\n",
      "dataset:\t\tdownsampled_SelectedFeatures-10s-TOR-NonTor.csv\n",
      "shape:\t\t\t(16088, 28)\n",
      "total TOR data:\t\t8044\n",
      "total Non-TOR data:\t8044\n",
      "\n",
      "\n",
      "Selected Features:\n",
      "[   'Bwd IAT Max',\n",
      "    'Idle Max',\n",
      "    'Active Std',\n",
      "    'Fwd IAT Mean',\n",
      "    'Fwd IAT Max',\n",
      "    'Active Mean',\n",
      "    'Idle Min',\n",
      "    'Active Max',\n",
      "    'Fwd IAT Min',\n",
      "    'Idle Mean',\n",
      "    'Bwd IAT Mean',\n",
      "    'Flow IAT Mean',\n",
      "    'Flow Bytes/s',\n",
      "    'Active Min',\n",
      "    'Flow IAT Max',\n",
      "    'Flow Duration',\n",
      "    'Flow Packets/s',\n",
      "    'Flow IAT Std',\n",
      "    'Flow IAT Min',\n",
      "    'Fwd IAT Std',\n",
      "    'Bwd IAT Std',\n",
      "    'Idle Std',\n",
      "    'Bwd IAT Min']\n",
      "\n",
      "Dependent Variable: label\n"
     ]
    },
    {
     "data": {
      "text/html": [
       "<table border=\"1\" class=\"dataframe\">\n",
       "  <thead>\n",
       "    <tr style=\"text-align: left;\">\n",
       "      <th>epoch</th>\n",
       "      <th>train_loss</th>\n",
       "      <th>valid_loss</th>\n",
       "      <th>accuracy</th>\n",
       "      <th>time</th>\n",
       "    </tr>\n",
       "  </thead>\n",
       "  <tbody>\n",
       "    <tr>\n",
       "      <td>0</td>\n",
       "      <td>0.140608</td>\n",
       "      <td>0.041515</td>\n",
       "      <td>0.992853</td>\n",
       "      <td>00:13</td>\n",
       "    </tr>\n",
       "    <tr>\n",
       "      <td>1</td>\n",
       "      <td>0.020384</td>\n",
       "      <td>0.018127</td>\n",
       "      <td>0.995028</td>\n",
       "      <td>00:07</td>\n",
       "    </tr>\n",
       "    <tr>\n",
       "      <td>2</td>\n",
       "      <td>0.008715</td>\n",
       "      <td>0.013285</td>\n",
       "      <td>0.995028</td>\n",
       "      <td>00:07</td>\n",
       "    </tr>\n",
       "    <tr>\n",
       "      <td>3</td>\n",
       "      <td>0.003541</td>\n",
       "      <td>0.009457</td>\n",
       "      <td>0.997514</td>\n",
       "      <td>00:08</td>\n",
       "    </tr>\n",
       "    <tr>\n",
       "      <td>4</td>\n",
       "      <td>0.004937</td>\n",
       "      <td>0.003556</td>\n",
       "      <td>0.998446</td>\n",
       "      <td>00:08</td>\n",
       "    </tr>\n",
       "    <tr>\n",
       "      <td>5</td>\n",
       "      <td>0.001384</td>\n",
       "      <td>0.000796</td>\n",
       "      <td>0.999689</td>\n",
       "      <td>00:08</td>\n",
       "    </tr>\n",
       "    <tr>\n",
       "      <td>6</td>\n",
       "      <td>0.001046</td>\n",
       "      <td>0.000332</td>\n",
       "      <td>1.000000</td>\n",
       "      <td>00:08</td>\n",
       "    </tr>\n",
       "    <tr>\n",
       "      <td>7</td>\n",
       "      <td>0.000372</td>\n",
       "      <td>0.000088</td>\n",
       "      <td>1.000000</td>\n",
       "      <td>00:08</td>\n",
       "    </tr>\n",
       "    <tr>\n",
       "      <td>8</td>\n",
       "      <td>0.000051</td>\n",
       "      <td>0.000037</td>\n",
       "      <td>1.000000</td>\n",
       "      <td>00:08</td>\n",
       "    </tr>\n",
       "    <tr>\n",
       "      <td>9</td>\n",
       "      <td>0.000055</td>\n",
       "      <td>0.000040</td>\n",
       "      <td>1.000000</td>\n",
       "      <td>00:08</td>\n",
       "    </tr>\n",
       "  </tbody>\n",
       "</table>"
      ],
      "text/plain": [
       "<IPython.core.display.HTML object>"
      ]
     },
     "metadata": {},
     "output_type": "display_data"
    },
    {
     "data": {
      "image/png": "[encoded data removed]",
      "text/plain": [
       "<Figure size 432x288 with 1 Axes>"
      ]
     },
     "metadata": {},
     "output_type": "display_data"
    },
    {
     "data": {
      "text/html": [],
      "text/plain": [
       "<IPython.core.display.HTML object>"
      ]
     },
     "metadata": {},
     "output_type": "display_data"
    },
    {
     "name": "stdout",
     "output_type": "stream",
     "text": [
      "loss 4.0467763028573245e-05: accuracy: 100.00%\n"
     ]
    },
    {
     "data": {
      "text/html": [],
      "text/plain": [
       "<IPython.core.display.HTML object>"
      ]
     },
     "metadata": {},
     "output_type": "display_data"
    },
    {
     "data": {
      "image/png": "[encoded data removed]",
      "text/plain": [
       "<Figure size 432x288 with 1 Axes>"
      ]
     },
     "metadata": {
      "needs_background": "light"
     },
     "output_type": "display_data"
    }
   ],
   "source": [
    "next(experiment)"
   ]
  },
  {
   "cell_type": "code",
   "execution_count": 12,
   "metadata": {},
   "outputs": [
    {
     "name": "stdout",
     "output_type": "stream",
     "text": [
      "Experiment #3\n",
      "\n",
      "dataset:\t\tdownsampled_SelectedFeatures-15s-TOR-NonTor.csv\n",
      "shape:\t\t\t(6628, 6)\n",
      "total TOR data:\t\t3314\n",
      "total Non-TOR data:\t3314\n",
      "\n",
      "\n",
      "Selected Features:\n",
      "[   'min_biat',\n",
      "    'max_biat',\n",
      "    'max_fiat',\n",
      "    'min_fiat']\n",
      "\n",
      "Dependent Variable: class1\n"
     ]
    },
    {
     "data": {
      "text/html": [
       "<table border=\"1\" class=\"dataframe\">\n",
       "  <thead>\n",
       "    <tr style=\"text-align: left;\">\n",
       "      <th>epoch</th>\n",
       "      <th>train_loss</th>\n",
       "      <th>valid_loss</th>\n",
       "      <th>accuracy</th>\n",
       "      <th>time</th>\n",
       "    </tr>\n",
       "  </thead>\n",
       "  <tbody>\n",
       "    <tr>\n",
       "      <td>0</td>\n",
       "      <td>0.526337</td>\n",
       "      <td>0.479529</td>\n",
       "      <td>0.722474</td>\n",
       "      <td>00:03</td>\n",
       "    </tr>\n",
       "    <tr>\n",
       "      <td>1</td>\n",
       "      <td>0.199893</td>\n",
       "      <td>0.826313</td>\n",
       "      <td>0.680241</td>\n",
       "      <td>00:02</td>\n",
       "    </tr>\n",
       "    <tr>\n",
       "      <td>2</td>\n",
       "      <td>0.120014</td>\n",
       "      <td>0.405561</td>\n",
       "      <td>0.745852</td>\n",
       "      <td>00:03</td>\n",
       "    </tr>\n",
       "    <tr>\n",
       "      <td>3</td>\n",
       "      <td>0.084785</td>\n",
       "      <td>1.143999</td>\n",
       "      <td>0.610860</td>\n",
       "      <td>00:03</td>\n",
       "    </tr>\n",
       "    <tr>\n",
       "      <td>4</td>\n",
       "      <td>0.042827</td>\n",
       "      <td>1.374037</td>\n",
       "      <td>0.660634</td>\n",
       "      <td>00:02</td>\n",
       "    </tr>\n",
       "    <tr>\n",
       "      <td>5</td>\n",
       "      <td>0.016583</td>\n",
       "      <td>1.035027</td>\n",
       "      <td>0.674962</td>\n",
       "      <td>00:03</td>\n",
       "    </tr>\n",
       "    <tr>\n",
       "      <td>6</td>\n",
       "      <td>0.007084</td>\n",
       "      <td>1.677246</td>\n",
       "      <td>0.649321</td>\n",
       "      <td>00:02</td>\n",
       "    </tr>\n",
       "    <tr>\n",
       "      <td>7</td>\n",
       "      <td>0.002911</td>\n",
       "      <td>1.344615</td>\n",
       "      <td>0.673454</td>\n",
       "      <td>00:03</td>\n",
       "    </tr>\n",
       "    <tr>\n",
       "      <td>8</td>\n",
       "      <td>0.001356</td>\n",
       "      <td>1.322251</td>\n",
       "      <td>0.675716</td>\n",
       "      <td>00:02</td>\n",
       "    </tr>\n",
       "    <tr>\n",
       "      <td>9</td>\n",
       "      <td>0.001064</td>\n",
       "      <td>1.961555</td>\n",
       "      <td>0.625943</td>\n",
       "      <td>00:03</td>\n",
       "    </tr>\n",
       "  </tbody>\n",
       "</table>"
      ],
      "text/plain": [
       "<IPython.core.display.HTML object>"
      ]
     },
     "metadata": {},
     "output_type": "display_data"
    },
    {
     "data": {
      "image/png": "[encoded data removed]",
      "text/plain": [
       "<Figure size 432x288 with 1 Axes>"
      ]
     },
     "metadata": {},
     "output_type": "display_data"
    },
    {
     "data": {
      "text/html": [],
      "text/plain": [
       "<IPython.core.display.HTML object>"
      ]
     },
     "metadata": {},
     "output_type": "display_data"
    },
    {
     "name": "stdout",
     "output_type": "stream",
     "text": [
      "loss 1.9615546464920044: accuracy: 62.59%\n"
     ]
    },
    {
     "data": {
      "text/html": [],
      "text/plain": [
       "<IPython.core.display.HTML object>"
      ]
     },
     "metadata": {},
     "output_type": "display_data"
    },
    {
     "data": {
      "image/png": "[encoded data removed]",
      "text/plain": [
       "<Figure size 432x288 with 1 Axes>"
      ]
     },
     "metadata": {
      "needs_background": "light"
     },
     "output_type": "display_data"
    }
   ],
   "source": [
    "next(experiment)"
   ]
  },
  {
   "cell_type": "code",
   "execution_count": 13,
   "metadata": {},
   "outputs": [
    {
     "name": "stdout",
     "output_type": "stream",
     "text": [
      "Experiment #4\n",
      "\n",
      "dataset:\t\tdownsampled_TimeBasedFeatures-15s-TOR-NonTOR.csv\n",
      "shape:\t\t\t(6628, 25)\n",
      "total TOR data:\t\t3314\n",
      "total Non-TOR data:\t3314\n",
      "\n",
      "\n",
      "Selected Features:\n",
      "[   'max_biat',\n",
      "    'total_biat',\n",
      "    'mean_fiat',\n",
      "    'max_idle',\n",
      "    'total_fiat',\n",
      "    'min_idle',\n",
      "    'std_flowiat',\n",
      "    'flowPktsPerSecond',\n",
      "    'min_biat',\n",
      "    'mean_biat',\n",
      "    'mean_idle',\n",
      "    'flowBytesPerSecond',\n",
      "    'min_flowiat',\n",
      "    'duration',\n",
      "    'std_active',\n",
      "    'max_fiat',\n",
      "    'max_active',\n",
      "    'min_fiat',\n",
      "    'std_idle',\n",
      "    'mean_flowiat',\n",
      "    'max_flowiat',\n",
      "    'mean_active',\n",
      "    'min_active']\n",
      "\n",
      "Dependent Variable: class1\n"
     ]
    },
    {
     "data": {
      "text/html": [
       "<table border=\"1\" class=\"dataframe\">\n",
       "  <thead>\n",
       "    <tr style=\"text-align: left;\">\n",
       "      <th>epoch</th>\n",
       "      <th>train_loss</th>\n",
       "      <th>valid_loss</th>\n",
       "      <th>accuracy</th>\n",
       "      <th>time</th>\n",
       "    </tr>\n",
       "  </thead>\n",
       "  <tbody>\n",
       "    <tr>\n",
       "      <td>0</td>\n",
       "      <td>0.304425</td>\n",
       "      <td>0.124697</td>\n",
       "      <td>0.980392</td>\n",
       "      <td>00:03</td>\n",
       "    </tr>\n",
       "    <tr>\n",
       "      <td>1</td>\n",
       "      <td>0.102637</td>\n",
       "      <td>0.050073</td>\n",
       "      <td>0.987934</td>\n",
       "      <td>00:03</td>\n",
       "    </tr>\n",
       "    <tr>\n",
       "      <td>2</td>\n",
       "      <td>0.043043</td>\n",
       "      <td>0.064024</td>\n",
       "      <td>0.983409</td>\n",
       "      <td>00:02</td>\n",
       "    </tr>\n",
       "    <tr>\n",
       "      <td>3</td>\n",
       "      <td>0.018382</td>\n",
       "      <td>0.079988</td>\n",
       "      <td>0.983409</td>\n",
       "      <td>00:03</td>\n",
       "    </tr>\n",
       "    <tr>\n",
       "      <td>4</td>\n",
       "      <td>0.009104</td>\n",
       "      <td>0.089152</td>\n",
       "      <td>0.981900</td>\n",
       "      <td>00:02</td>\n",
       "    </tr>\n",
       "    <tr>\n",
       "      <td>5</td>\n",
       "      <td>0.003606</td>\n",
       "      <td>0.103171</td>\n",
       "      <td>0.978884</td>\n",
       "      <td>00:05</td>\n",
       "    </tr>\n",
       "    <tr>\n",
       "      <td>6</td>\n",
       "      <td>0.003055</td>\n",
       "      <td>0.091209</td>\n",
       "      <td>0.981146</td>\n",
       "      <td>00:02</td>\n",
       "    </tr>\n",
       "    <tr>\n",
       "      <td>7</td>\n",
       "      <td>0.001179</td>\n",
       "      <td>0.122729</td>\n",
       "      <td>0.980392</td>\n",
       "      <td>00:03</td>\n",
       "    </tr>\n",
       "    <tr>\n",
       "      <td>8</td>\n",
       "      <td>0.001001</td>\n",
       "      <td>0.112951</td>\n",
       "      <td>0.981146</td>\n",
       "      <td>00:02</td>\n",
       "    </tr>\n",
       "    <tr>\n",
       "      <td>9</td>\n",
       "      <td>0.001452</td>\n",
       "      <td>0.114377</td>\n",
       "      <td>0.981146</td>\n",
       "      <td>00:02</td>\n",
       "    </tr>\n",
       "  </tbody>\n",
       "</table>"
      ],
      "text/plain": [
       "<IPython.core.display.HTML object>"
      ]
     },
     "metadata": {},
     "output_type": "display_data"
    },
    {
     "data": {
      "image/png": "[encoded data removed]",
      "text/plain": [
       "<Figure size 432x288 with 1 Axes>"
      ]
     },
     "metadata": {},
     "output_type": "display_data"
    },
    {
     "data": {
      "text/html": [],
      "text/plain": [
       "<IPython.core.display.HTML object>"
      ]
     },
     "metadata": {},
     "output_type": "display_data"
    },
    {
     "name": "stdout",
     "output_type": "stream",
     "text": [
      "loss 0.11437719315290451: accuracy: 98.11%\n"
     ]
    },
    {
     "data": {
      "text/html": [],
      "text/plain": [
       "<IPython.core.display.HTML object>"
      ]
     },
     "metadata": {},
     "output_type": "display_data"
    },
    {
     "data": {
      "image/png": "[encoded data removed]",
      "text/plain": [
       "<Figure size 432x288 with 1 Axes>"
      ]
     },
     "metadata": {
      "needs_background": "light"
     },
     "output_type": "display_data"
    }
   ],
   "source": [
    "next(experiment)"
   ]
  },
  {
   "cell_type": "code",
   "execution_count": 14,
   "metadata": {},
   "outputs": [
    {
     "name": "stdout",
     "output_type": "stream",
     "text": [
      "Experiment #5\n",
      "\n",
      "dataset:\t\tdownsampled_TimeBasedFeatures-15s-TOR-NonTOR-15.csv\n",
      "shape:\t\t\t(1030, 25)\n",
      "total TOR data:\t\t515\n",
      "total Non-TOR data:\t515\n",
      "\n",
      "\n",
      "Selected Features:\n",
      "[   'max_biat',\n",
      "    'total_biat',\n",
      "    'mean_fiat',\n",
      "    'max_idle',\n",
      "    'total_fiat',\n",
      "    'min_idle',\n",
      "    'std_flowiat',\n",
      "    'flowPktsPerSecond',\n",
      "    'min_biat',\n",
      "    'mean_biat',\n",
      "    'mean_idle',\n",
      "    'flowBytesPerSecond',\n",
      "    'min_flowiat',\n",
      "    'duration',\n",
      "    'std_active',\n",
      "    'max_fiat',\n",
      "    'max_active',\n",
      "    'min_fiat',\n",
      "    'std_idle',\n",
      "    'mean_flowiat',\n",
      "    'max_flowiat',\n",
      "    'mean_active',\n",
      "    'min_active']\n",
      "\n",
      "Dependent Variable: class1\n"
     ]
    },
    {
     "data": {
      "text/html": [
       "<table border=\"1\" class=\"dataframe\">\n",
       "  <thead>\n",
       "    <tr style=\"text-align: left;\">\n",
       "      <th>epoch</th>\n",
       "      <th>train_loss</th>\n",
       "      <th>valid_loss</th>\n",
       "      <th>accuracy</th>\n",
       "      <th>time</th>\n",
       "    </tr>\n",
       "  </thead>\n",
       "  <tbody>\n",
       "    <tr>\n",
       "      <td>0</td>\n",
       "      <td>0.841403</td>\n",
       "      <td>0.687610</td>\n",
       "      <td>0.543689</td>\n",
       "      <td>00:01</td>\n",
       "    </tr>\n",
       "    <tr>\n",
       "      <td>1</td>\n",
       "      <td>0.563939</td>\n",
       "      <td>0.477311</td>\n",
       "      <td>0.936893</td>\n",
       "      <td>00:01</td>\n",
       "    </tr>\n",
       "    <tr>\n",
       "      <td>2</td>\n",
       "      <td>0.405914</td>\n",
       "      <td>0.217053</td>\n",
       "      <td>0.975728</td>\n",
       "      <td>00:01</td>\n",
       "    </tr>\n",
       "    <tr>\n",
       "      <td>3</td>\n",
       "      <td>0.292748</td>\n",
       "      <td>0.106341</td>\n",
       "      <td>0.980583</td>\n",
       "      <td>00:01</td>\n",
       "    </tr>\n",
       "    <tr>\n",
       "      <td>4</td>\n",
       "      <td>0.213894</td>\n",
       "      <td>0.083017</td>\n",
       "      <td>0.980583</td>\n",
       "      <td>00:01</td>\n",
       "    </tr>\n",
       "    <tr>\n",
       "      <td>5</td>\n",
       "      <td>0.159167</td>\n",
       "      <td>0.075670</td>\n",
       "      <td>0.980583</td>\n",
       "      <td>00:01</td>\n",
       "    </tr>\n",
       "    <tr>\n",
       "      <td>6</td>\n",
       "      <td>0.120891</td>\n",
       "      <td>0.077905</td>\n",
       "      <td>0.980583</td>\n",
       "      <td>00:01</td>\n",
       "    </tr>\n",
       "    <tr>\n",
       "      <td>7</td>\n",
       "      <td>0.093283</td>\n",
       "      <td>0.072474</td>\n",
       "      <td>0.980583</td>\n",
       "      <td>00:01</td>\n",
       "    </tr>\n",
       "    <tr>\n",
       "      <td>8</td>\n",
       "      <td>0.073262</td>\n",
       "      <td>0.073646</td>\n",
       "      <td>0.980583</td>\n",
       "      <td>00:01</td>\n",
       "    </tr>\n",
       "    <tr>\n",
       "      <td>9</td>\n",
       "      <td>0.058280</td>\n",
       "      <td>0.073446</td>\n",
       "      <td>0.980583</td>\n",
       "      <td>00:01</td>\n",
       "    </tr>\n",
       "  </tbody>\n",
       "</table>"
      ],
      "text/plain": [
       "<IPython.core.display.HTML object>"
      ]
     },
     "metadata": {},
     "output_type": "display_data"
    },
    {
     "data": {
      "image/png": "[encoded data removed]",
      "text/plain": [
       "<Figure size 432x288 with 1 Axes>"
      ]
     },
     "metadata": {},
     "output_type": "display_data"
    },
    {
     "data": {
      "text/html": [],
      "text/plain": [
       "<IPython.core.display.HTML object>"
      ]
     },
     "metadata": {},
     "output_type": "display_data"
    },
    {
     "name": "stdout",
     "output_type": "stream",
     "text": [
      "loss 0.07344569265842438: accuracy: 98.06%\n"
     ]
    },
    {
     "data": {
      "text/html": [],
      "text/plain": [
       "<IPython.core.display.HTML object>"
      ]
     },
     "metadata": {},
     "output_type": "display_data"
    },
    {
     "data": {
      "image/png": "[encoded data removed]",
      "text/plain": [
       "<Figure size 432x288 with 1 Axes>"
      ]
     },
     "metadata": {
      "needs_background": "light"
     },
     "output_type": "display_data"
    }
   ],
   "source": [
    "next(experiment)"
   ]
  },
  {
   "cell_type": "code",
   "execution_count": 15,
   "metadata": {},
   "outputs": [
    {
     "name": "stdout",
     "output_type": "stream",
     "text": [
      "Experiment #6\n",
      "\n",
      "dataset:\t\tdownsampled_TimeBasedFeatures-15s-TOR-NonTOR-85.csv\n",
      "shape:\t\t\t(5598, 25)\n",
      "total TOR data:\t\t2799\n",
      "total Non-TOR data:\t2799\n",
      "\n",
      "\n",
      "Selected Features:\n",
      "[   'max_biat',\n",
      "    'total_biat',\n",
      "    'mean_fiat',\n",
      "    'max_idle',\n",
      "    'total_fiat',\n",
      "    'min_idle',\n",
      "    'std_flowiat',\n",
      "    'flowPktsPerSecond',\n",
      "    'min_biat',\n",
      "    'mean_biat',\n",
      "    'mean_idle',\n",
      "    'flowBytesPerSecond',\n",
      "    'min_flowiat',\n",
      "    'duration',\n",
      "    'std_active',\n",
      "    'max_fiat',\n",
      "    'max_active',\n",
      "    'min_fiat',\n",
      "    'std_idle',\n",
      "    'mean_flowiat',\n",
      "    'max_flowiat',\n",
      "    'mean_active',\n",
      "    'min_active']\n",
      "\n",
      "Dependent Variable: class1\n"
     ]
    },
    {
     "data": {
      "text/html": [
       "<table border=\"1\" class=\"dataframe\">\n",
       "  <thead>\n",
       "    <tr style=\"text-align: left;\">\n",
       "      <th>epoch</th>\n",
       "      <th>train_loss</th>\n",
       "      <th>valid_loss</th>\n",
       "      <th>accuracy</th>\n",
       "      <th>time</th>\n",
       "    </tr>\n",
       "  </thead>\n",
       "  <tbody>\n",
       "    <tr>\n",
       "      <td>0</td>\n",
       "      <td>0.511786</td>\n",
       "      <td>0.250977</td>\n",
       "      <td>0.955357</td>\n",
       "      <td>00:02</td>\n",
       "    </tr>\n",
       "    <tr>\n",
       "      <td>1</td>\n",
       "      <td>0.182925</td>\n",
       "      <td>0.066124</td>\n",
       "      <td>0.981250</td>\n",
       "      <td>00:02</td>\n",
       "    </tr>\n",
       "    <tr>\n",
       "      <td>2</td>\n",
       "      <td>0.060731</td>\n",
       "      <td>0.107192</td>\n",
       "      <td>0.975000</td>\n",
       "      <td>00:02</td>\n",
       "    </tr>\n",
       "    <tr>\n",
       "      <td>3</td>\n",
       "      <td>0.023786</td>\n",
       "      <td>0.194277</td>\n",
       "      <td>0.967857</td>\n",
       "      <td>00:02</td>\n",
       "    </tr>\n",
       "    <tr>\n",
       "      <td>4</td>\n",
       "      <td>0.014174</td>\n",
       "      <td>0.135403</td>\n",
       "      <td>0.970536</td>\n",
       "      <td>00:02</td>\n",
       "    </tr>\n",
       "    <tr>\n",
       "      <td>5</td>\n",
       "      <td>0.005151</td>\n",
       "      <td>0.152033</td>\n",
       "      <td>0.970536</td>\n",
       "      <td>00:02</td>\n",
       "    </tr>\n",
       "    <tr>\n",
       "      <td>6</td>\n",
       "      <td>0.004052</td>\n",
       "      <td>0.113844</td>\n",
       "      <td>0.979464</td>\n",
       "      <td>00:02</td>\n",
       "    </tr>\n",
       "    <tr>\n",
       "      <td>7</td>\n",
       "      <td>0.001858</td>\n",
       "      <td>0.128551</td>\n",
       "      <td>0.979464</td>\n",
       "      <td>00:02</td>\n",
       "    </tr>\n",
       "    <tr>\n",
       "      <td>8</td>\n",
       "      <td>0.001117</td>\n",
       "      <td>0.146309</td>\n",
       "      <td>0.975000</td>\n",
       "      <td>00:02</td>\n",
       "    </tr>\n",
       "    <tr>\n",
       "      <td>9</td>\n",
       "      <td>0.000630</td>\n",
       "      <td>0.143814</td>\n",
       "      <td>0.976786</td>\n",
       "      <td>00:02</td>\n",
       "    </tr>\n",
       "  </tbody>\n",
       "</table>"
      ],
      "text/plain": [
       "<IPython.core.display.HTML object>"
      ]
     },
     "metadata": {},
     "output_type": "display_data"
    },
    {
     "data": {
      "image/png": "[encoded data removed]",
      "text/plain": [
       "<Figure size 432x288 with 1 Axes>"
      ]
     },
     "metadata": {},
     "output_type": "display_data"
    },
    {
     "data": {
      "text/html": [],
      "text/plain": [
       "<IPython.core.display.HTML object>"
      ]
     },
     "metadata": {},
     "output_type": "display_data"
    },
    {
     "name": "stdout",
     "output_type": "stream",
     "text": [
      "loss 0.14381401240825653: accuracy: 97.68%\n"
     ]
    },
    {
     "data": {
      "text/html": [],
      "text/plain": [
       "<IPython.core.display.HTML object>"
      ]
     },
     "metadata": {},
     "output_type": "display_data"
    },
    {
     "data": {
      "image/png": "[encoded data removed]",
      "text/plain": [
       "<Figure size 432x288 with 1 Axes>"
      ]
     },
     "metadata": {
      "needs_background": "light"
     },
     "output_type": "display_data"
    }
   ],
   "source": [
    "next(experiment)"
   ]
  },
  {
   "cell_type": "code",
   "execution_count": 16,
   "metadata": {},
   "outputs": [
    {
     "name": "stdout",
     "output_type": "stream",
     "text": [
      "Experiment #7\n",
      "\n",
      "dataset:\t\tdownsampled_TimeBasedFeatures-30s-TORNonTor.csv\n",
      "shape:\t\t\t(3542, 25)\n",
      "total TOR data:\t\t1771\n",
      "total Non-TOR data:\t1771\n",
      "\n",
      "\n",
      "Selected Features:\n",
      "[   'max_biat',\n",
      "    'total_biat',\n",
      "    'mean_fiat',\n",
      "    'max_idle',\n",
      "    'total_fiat',\n",
      "    'min_idle',\n",
      "    'std_flowiat',\n",
      "    'flowPktsPerSecond',\n",
      "    'min_biat',\n",
      "    'mean_biat',\n",
      "    'mean_idle',\n",
      "    'flowBytesPerSecond',\n",
      "    'min_flowiat',\n",
      "    'duration',\n",
      "    'std_active',\n",
      "    'max_fiat',\n",
      "    'max_active',\n",
      "    'min_fiat',\n",
      "    'std_idle',\n",
      "    'mean_flowiat',\n",
      "    'max_flowiat',\n",
      "    'mean_active',\n",
      "    'min_active']\n",
      "\n",
      "Dependent Variable: class1\n"
     ]
    },
    {
     "data": {
      "text/html": [
       "<table border=\"1\" class=\"dataframe\">\n",
       "  <thead>\n",
       "    <tr style=\"text-align: left;\">\n",
       "      <th>epoch</th>\n",
       "      <th>train_loss</th>\n",
       "      <th>valid_loss</th>\n",
       "      <th>accuracy</th>\n",
       "      <th>time</th>\n",
       "    </tr>\n",
       "  </thead>\n",
       "  <tbody>\n",
       "    <tr>\n",
       "      <td>0</td>\n",
       "      <td>0.411098</td>\n",
       "      <td>0.252793</td>\n",
       "      <td>0.973202</td>\n",
       "      <td>00:02</td>\n",
       "    </tr>\n",
       "    <tr>\n",
       "      <td>1</td>\n",
       "      <td>0.182936</td>\n",
       "      <td>0.064210</td>\n",
       "      <td>0.985896</td>\n",
       "      <td>00:02</td>\n",
       "    </tr>\n",
       "    <tr>\n",
       "      <td>2</td>\n",
       "      <td>0.081124</td>\n",
       "      <td>0.059322</td>\n",
       "      <td>0.985896</td>\n",
       "      <td>00:02</td>\n",
       "    </tr>\n",
       "    <tr>\n",
       "      <td>3</td>\n",
       "      <td>0.038265</td>\n",
       "      <td>0.061622</td>\n",
       "      <td>0.983075</td>\n",
       "      <td>00:02</td>\n",
       "    </tr>\n",
       "    <tr>\n",
       "      <td>4</td>\n",
       "      <td>0.020525</td>\n",
       "      <td>0.083575</td>\n",
       "      <td>0.980254</td>\n",
       "      <td>00:02</td>\n",
       "    </tr>\n",
       "    <tr>\n",
       "      <td>5</td>\n",
       "      <td>0.011296</td>\n",
       "      <td>0.082004</td>\n",
       "      <td>0.980254</td>\n",
       "      <td>00:02</td>\n",
       "    </tr>\n",
       "    <tr>\n",
       "      <td>6</td>\n",
       "      <td>0.005740</td>\n",
       "      <td>0.105850</td>\n",
       "      <td>0.980254</td>\n",
       "      <td>00:02</td>\n",
       "    </tr>\n",
       "    <tr>\n",
       "      <td>7</td>\n",
       "      <td>0.003333</td>\n",
       "      <td>0.091386</td>\n",
       "      <td>0.980254</td>\n",
       "      <td>00:02</td>\n",
       "    </tr>\n",
       "    <tr>\n",
       "      <td>8</td>\n",
       "      <td>0.002111</td>\n",
       "      <td>0.096212</td>\n",
       "      <td>0.980254</td>\n",
       "      <td>00:02</td>\n",
       "    </tr>\n",
       "    <tr>\n",
       "      <td>9</td>\n",
       "      <td>0.001270</td>\n",
       "      <td>0.092583</td>\n",
       "      <td>0.980254</td>\n",
       "      <td>00:02</td>\n",
       "    </tr>\n",
       "  </tbody>\n",
       "</table>"
      ],
      "text/plain": [
       "<IPython.core.display.HTML object>"
      ]
     },
     "metadata": {},
     "output_type": "display_data"
    },
    {
     "data": {
      "image/png": "[encoded data removed]",
      "text/plain": [
       "<Figure size 432x288 with 1 Axes>"
      ]
     },
     "metadata": {},
     "output_type": "display_data"
    },
    {
     "data": {
      "text/html": [],
      "text/plain": [
       "<IPython.core.display.HTML object>"
      ]
     },
     "metadata": {},
     "output_type": "display_data"
    },
    {
     "name": "stdout",
     "output_type": "stream",
     "text": [
      "loss 0.09258253872394562: accuracy: 98.03%\n"
     ]
    },
    {
     "data": {
      "text/html": [],
      "text/plain": [
       "<IPython.core.display.HTML object>"
      ]
     },
     "metadata": {},
     "output_type": "display_data"
    },
    {
     "data": {
      "image/png": "[encoded data removed]",
      "text/plain": [
       "<Figure size 432x288 with 1 Axes>"
      ]
     },
     "metadata": {
      "needs_background": "light"
     },
     "output_type": "display_data"
    }
   ],
   "source": [
    "next(experiment)"
   ]
  },
  {
   "cell_type": "code",
   "execution_count": 17,
   "metadata": {},
   "outputs": [
    {
     "name": "stdout",
     "output_type": "stream",
     "text": [
      "Experiment #8\n",
      "\n",
      "dataset:\t\tdownsampled_TimeBasedFeatures-30s-TORNonTOR-15.csv\n",
      "shape:\t\t\t(530, 25)\n",
      "total TOR data:\t\t265\n",
      "total Non-TOR data:\t265\n",
      "\n",
      "\n",
      "Selected Features:\n",
      "[   'max_biat',\n",
      "    'total_biat',\n",
      "    'mean_fiat',\n",
      "    'max_idle',\n",
      "    'total_fiat',\n",
      "    'min_idle',\n",
      "    'std_flowiat',\n",
      "    'flowPktsPerSecond',\n",
      "    'min_biat',\n",
      "    'mean_biat',\n",
      "    'mean_idle',\n",
      "    'flowBytesPerSecond',\n",
      "    'min_flowiat',\n",
      "    'duration',\n",
      "    'std_active',\n",
      "    'max_fiat',\n",
      "    'max_active',\n",
      "    'min_fiat',\n",
      "    'std_idle',\n",
      "    'mean_flowiat',\n",
      "    'max_flowiat',\n",
      "    'mean_active',\n",
      "    'min_active']\n",
      "\n",
      "Dependent Variable: class1\n"
     ]
    },
    {
     "data": {
      "text/html": [
       "<table border=\"1\" class=\"dataframe\">\n",
       "  <thead>\n",
       "    <tr style=\"text-align: left;\">\n",
       "      <th>epoch</th>\n",
       "      <th>train_loss</th>\n",
       "      <th>valid_loss</th>\n",
       "      <th>accuracy</th>\n",
       "      <th>time</th>\n",
       "    </tr>\n",
       "  </thead>\n",
       "  <tbody>\n",
       "    <tr>\n",
       "      <td>0</td>\n",
       "      <td>0.845789</td>\n",
       "      <td>0.698541</td>\n",
       "      <td>0.500000</td>\n",
       "      <td>00:01</td>\n",
       "    </tr>\n",
       "    <tr>\n",
       "      <td>1</td>\n",
       "      <td>0.714075</td>\n",
       "      <td>0.635016</td>\n",
       "      <td>0.518868</td>\n",
       "      <td>00:01</td>\n",
       "    </tr>\n",
       "    <tr>\n",
       "      <td>2</td>\n",
       "      <td>0.548032</td>\n",
       "      <td>0.463749</td>\n",
       "      <td>0.962264</td>\n",
       "      <td>00:01</td>\n",
       "    </tr>\n",
       "    <tr>\n",
       "      <td>3</td>\n",
       "      <td>0.429368</td>\n",
       "      <td>0.276725</td>\n",
       "      <td>0.990566</td>\n",
       "      <td>00:01</td>\n",
       "    </tr>\n",
       "    <tr>\n",
       "      <td>4</td>\n",
       "      <td>0.344037</td>\n",
       "      <td>0.157898</td>\n",
       "      <td>0.990566</td>\n",
       "      <td>00:01</td>\n",
       "    </tr>\n",
       "    <tr>\n",
       "      <td>5</td>\n",
       "      <td>0.285706</td>\n",
       "      <td>0.099888</td>\n",
       "      <td>0.990566</td>\n",
       "      <td>00:01</td>\n",
       "    </tr>\n",
       "    <tr>\n",
       "      <td>6</td>\n",
       "      <td>0.239106</td>\n",
       "      <td>0.074820</td>\n",
       "      <td>0.990566</td>\n",
       "      <td>00:01</td>\n",
       "    </tr>\n",
       "    <tr>\n",
       "      <td>7</td>\n",
       "      <td>0.206539</td>\n",
       "      <td>0.062263</td>\n",
       "      <td>0.990566</td>\n",
       "      <td>00:01</td>\n",
       "    </tr>\n",
       "    <tr>\n",
       "      <td>8</td>\n",
       "      <td>0.181549</td>\n",
       "      <td>0.057917</td>\n",
       "      <td>0.990566</td>\n",
       "      <td>00:01</td>\n",
       "    </tr>\n",
       "    <tr>\n",
       "      <td>9</td>\n",
       "      <td>0.159575</td>\n",
       "      <td>0.055809</td>\n",
       "      <td>0.990566</td>\n",
       "      <td>00:01</td>\n",
       "    </tr>\n",
       "  </tbody>\n",
       "</table>"
      ],
      "text/plain": [
       "<IPython.core.display.HTML object>"
      ]
     },
     "metadata": {},
     "output_type": "display_data"
    },
    {
     "data": {
      "image/png": "[encoded data removed]",
      "text/plain": [
       "<Figure size 432x288 with 1 Axes>"
      ]
     },
     "metadata": {},
     "output_type": "display_data"
    },
    {
     "data": {
      "text/html": [],
      "text/plain": [
       "<IPython.core.display.HTML object>"
      ]
     },
     "metadata": {},
     "output_type": "display_data"
    },
    {
     "name": "stdout",
     "output_type": "stream",
     "text": [
      "loss 0.05580882355570793: accuracy: 99.06%\n"
     ]
    },
    {
     "data": {
      "text/html": [],
      "text/plain": [
       "<IPython.core.display.HTML object>"
      ]
     },
     "metadata": {},
     "output_type": "display_data"
    },
    {
     "data": {
      "image/png": "[encoded data removed]",
      "text/plain": [
       "<Figure size 432x288 with 1 Axes>"
      ]
     },
     "metadata": {
      "needs_background": "light"
     },
     "output_type": "display_data"
    }
   ],
   "source": [
    "next(experiment)"
   ]
  },
  {
   "cell_type": "code",
   "execution_count": 18,
   "metadata": {},
   "outputs": [
    {
     "name": "stdout",
     "output_type": "stream",
     "text": [
      "Experiment #9\n",
      "\n",
      "dataset:\t\tdownsampled_TimeBasedFeatures-30s-TORNonTOR-85.csv\n",
      "shape:\t\t\t(3012, 25)\n",
      "total TOR data:\t\t1506\n",
      "total Non-TOR data:\t1506\n",
      "\n",
      "\n",
      "Selected Features:\n",
      "[   'max_biat',\n",
      "    'total_biat',\n",
      "    'mean_fiat',\n",
      "    'max_idle',\n",
      "    'total_fiat',\n",
      "    'min_idle',\n",
      "    'std_flowiat',\n",
      "    'flowPktsPerSecond',\n",
      "    'min_biat',\n",
      "    'mean_biat',\n",
      "    'mean_idle',\n",
      "    'flowBytesPerSecond',\n",
      "    'min_flowiat',\n",
      "    'duration',\n",
      "    'std_active',\n",
      "    'max_fiat',\n",
      "    'max_active',\n",
      "    'min_fiat',\n",
      "    'std_idle',\n",
      "    'mean_flowiat',\n",
      "    'max_flowiat',\n",
      "    'mean_active',\n",
      "    'min_active']\n",
      "\n",
      "Dependent Variable: class1\n"
     ]
    },
    {
     "data": {
      "text/html": [
       "<table border=\"1\" class=\"dataframe\">\n",
       "  <thead>\n",
       "    <tr style=\"text-align: left;\">\n",
       "      <th>epoch</th>\n",
       "      <th>train_loss</th>\n",
       "      <th>valid_loss</th>\n",
       "      <th>accuracy</th>\n",
       "      <th>time</th>\n",
       "    </tr>\n",
       "  </thead>\n",
       "  <tbody>\n",
       "    <tr>\n",
       "      <td>0</td>\n",
       "      <td>0.433215</td>\n",
       "      <td>0.321982</td>\n",
       "      <td>0.968491</td>\n",
       "      <td>00:02</td>\n",
       "    </tr>\n",
       "    <tr>\n",
       "      <td>1</td>\n",
       "      <td>0.219854</td>\n",
       "      <td>0.087219</td>\n",
       "      <td>0.978441</td>\n",
       "      <td>00:02</td>\n",
       "    </tr>\n",
       "    <tr>\n",
       "      <td>2</td>\n",
       "      <td>0.110296</td>\n",
       "      <td>0.060406</td>\n",
       "      <td>0.981758</td>\n",
       "      <td>00:02</td>\n",
       "    </tr>\n",
       "    <tr>\n",
       "      <td>3</td>\n",
       "      <td>0.060618</td>\n",
       "      <td>0.103202</td>\n",
       "      <td>0.975124</td>\n",
       "      <td>00:02</td>\n",
       "    </tr>\n",
       "    <tr>\n",
       "      <td>4</td>\n",
       "      <td>0.031262</td>\n",
       "      <td>0.109426</td>\n",
       "      <td>0.976783</td>\n",
       "      <td>00:02</td>\n",
       "    </tr>\n",
       "    <tr>\n",
       "      <td>5</td>\n",
       "      <td>0.016033</td>\n",
       "      <td>0.104032</td>\n",
       "      <td>0.976783</td>\n",
       "      <td>00:02</td>\n",
       "    </tr>\n",
       "    <tr>\n",
       "      <td>6</td>\n",
       "      <td>0.008394</td>\n",
       "      <td>0.108581</td>\n",
       "      <td>0.975124</td>\n",
       "      <td>00:02</td>\n",
       "    </tr>\n",
       "    <tr>\n",
       "      <td>7</td>\n",
       "      <td>0.004912</td>\n",
       "      <td>0.114238</td>\n",
       "      <td>0.976783</td>\n",
       "      <td>00:02</td>\n",
       "    </tr>\n",
       "    <tr>\n",
       "      <td>8</td>\n",
       "      <td>0.002932</td>\n",
       "      <td>0.104885</td>\n",
       "      <td>0.978441</td>\n",
       "      <td>00:02</td>\n",
       "    </tr>\n",
       "    <tr>\n",
       "      <td>9</td>\n",
       "      <td>0.003014</td>\n",
       "      <td>0.108607</td>\n",
       "      <td>0.976783</td>\n",
       "      <td>00:03</td>\n",
       "    </tr>\n",
       "  </tbody>\n",
       "</table>"
      ],
      "text/plain": [
       "<IPython.core.display.HTML object>"
      ]
     },
     "metadata": {},
     "output_type": "display_data"
    },
    {
     "data": {
      "image/png": "[encoded data removed]",
      "text/plain": [
       "<Figure size 432x288 with 1 Axes>"
      ]
     },
     "metadata": {},
     "output_type": "display_data"
    },
    {
     "data": {
      "text/html": [],
      "text/plain": [
       "<IPython.core.display.HTML object>"
      ]
     },
     "metadata": {},
     "output_type": "display_data"
    },
    {
     "name": "stdout",
     "output_type": "stream",
     "text": [
      "loss 0.10860677063465118: accuracy: 97.68%\n"
     ]
    },
    {
     "data": {
      "text/html": [],
      "text/plain": [
       "<IPython.core.display.HTML object>"
      ]
     },
     "metadata": {},
     "output_type": "display_data"
    },
    {
     "data": {
      "image/png": "[encoded data removed]",
      "text/plain": [
       "<Figure size 432x288 with 1 Axes>"
      ]
     },
     "metadata": {
      "needs_background": "light"
     },
     "output_type": "display_data"
    }
   ],
   "source": [
    "next(experiment)"
   ]
  },
  {
   "cell_type": "code",
   "execution_count": 19,
   "metadata": {},
   "outputs": [
    {
     "name": "stdout",
     "output_type": "stream",
     "text": [
      "Experiment #10\n",
      "\n",
      "dataset:\t\tdownsampled_TimeBasedFeatures-60s-TOR-NonTor.csv\n",
      "shape:\t\t\t(1828, 25)\n",
      "total TOR data:\t\t914\n",
      "total Non-TOR data:\t914\n",
      "\n",
      "\n",
      "Selected Features:\n",
      "[   'max_biat',\n",
      "    'max_idle',\n",
      "    'mean_fiat',\n",
      "    'min_idle',\n",
      "    'std_biat',\n",
      "    'std_flowiat',\n",
      "    'flowPktsPerSecond',\n",
      "    'min_biat',\n",
      "    'mean_biat',\n",
      "    'mean_idle',\n",
      "    'flowBytesPerSecond',\n",
      "    'min_flowiat',\n",
      "    'duration',\n",
      "    'std_fiat',\n",
      "    'std_active',\n",
      "    'max_fiat',\n",
      "    'max_active',\n",
      "    'min_fiat',\n",
      "    'std_idle',\n",
      "    'mean_flowiat',\n",
      "    'max_flowiat',\n",
      "    'mean_active',\n",
      "    'min_active']\n",
      "\n",
      "Dependent Variable: class1\n"
     ]
    },
    {
     "data": {
      "text/html": [
       "<table border=\"1\" class=\"dataframe\">\n",
       "  <thead>\n",
       "    <tr style=\"text-align: left;\">\n",
       "      <th>epoch</th>\n",
       "      <th>train_loss</th>\n",
       "      <th>valid_loss</th>\n",
       "      <th>accuracy</th>\n",
       "      <th>time</th>\n",
       "    </tr>\n",
       "  </thead>\n",
       "  <tbody>\n",
       "    <tr>\n",
       "      <td>0</td>\n",
       "      <td>0.562101</td>\n",
       "      <td>0.597694</td>\n",
       "      <td>0.909836</td>\n",
       "      <td>00:01</td>\n",
       "    </tr>\n",
       "    <tr>\n",
       "      <td>1</td>\n",
       "      <td>0.330911</td>\n",
       "      <td>0.123979</td>\n",
       "      <td>0.983607</td>\n",
       "      <td>00:02</td>\n",
       "    </tr>\n",
       "    <tr>\n",
       "      <td>2</td>\n",
       "      <td>0.196884</td>\n",
       "      <td>0.046307</td>\n",
       "      <td>0.994536</td>\n",
       "      <td>00:02</td>\n",
       "    </tr>\n",
       "    <tr>\n",
       "      <td>3</td>\n",
       "      <td>0.120348</td>\n",
       "      <td>0.038868</td>\n",
       "      <td>0.994536</td>\n",
       "      <td>00:01</td>\n",
       "    </tr>\n",
       "    <tr>\n",
       "      <td>4</td>\n",
       "      <td>0.076093</td>\n",
       "      <td>0.039532</td>\n",
       "      <td>0.991803</td>\n",
       "      <td>00:01</td>\n",
       "    </tr>\n",
       "    <tr>\n",
       "      <td>5</td>\n",
       "      <td>0.050166</td>\n",
       "      <td>0.045179</td>\n",
       "      <td>0.986339</td>\n",
       "      <td>00:02</td>\n",
       "    </tr>\n",
       "    <tr>\n",
       "      <td>6</td>\n",
       "      <td>0.033195</td>\n",
       "      <td>0.036977</td>\n",
       "      <td>0.991803</td>\n",
       "      <td>00:01</td>\n",
       "    </tr>\n",
       "    <tr>\n",
       "      <td>7</td>\n",
       "      <td>0.022530</td>\n",
       "      <td>0.039821</td>\n",
       "      <td>0.991803</td>\n",
       "      <td>00:01</td>\n",
       "    </tr>\n",
       "    <tr>\n",
       "      <td>8</td>\n",
       "      <td>0.016403</td>\n",
       "      <td>0.035644</td>\n",
       "      <td>0.991803</td>\n",
       "      <td>00:01</td>\n",
       "    </tr>\n",
       "    <tr>\n",
       "      <td>9</td>\n",
       "      <td>0.011543</td>\n",
       "      <td>0.036780</td>\n",
       "      <td>0.991803</td>\n",
       "      <td>00:01</td>\n",
       "    </tr>\n",
       "  </tbody>\n",
       "</table>"
      ],
      "text/plain": [
       "<IPython.core.display.HTML object>"
      ]
     },
     "metadata": {},
     "output_type": "display_data"
    },
    {
     "data": {
      "image/png": "[encoded data removed]",
      "text/plain": [
       "<Figure size 432x288 with 1 Axes>"
      ]
     },
     "metadata": {},
     "output_type": "display_data"
    },
    {
     "data": {
      "text/html": [],
      "text/plain": [
       "<IPython.core.display.HTML object>"
      ]
     },
     "metadata": {},
     "output_type": "display_data"
    },
    {
     "name": "stdout",
     "output_type": "stream",
     "text": [
      "loss 0.0367802269756794: accuracy: 99.18%\n"
     ]
    },
    {
     "data": {
      "text/html": [],
      "text/plain": [
       "<IPython.core.display.HTML object>"
      ]
     },
     "metadata": {},
     "output_type": "display_data"
    },
    {
     "data": {
      "image/png": "[encoded data removed]",
      "text/plain": [
       "<Figure size 432x288 with 1 Axes>"
      ]
     },
     "metadata": {
      "needs_background": "light"
     },
     "output_type": "display_data"
    }
   ],
   "source": [
    "next(experiment)"
   ]
  },
  {
   "cell_type": "code",
   "execution_count": 20,
   "metadata": {},
   "outputs": [
    {
     "name": "stdout",
     "output_type": "stream",
     "text": [
      "Experiment #11\n",
      "\n",
      "dataset:\t\tdownsampled_TimeBasedFeatures-60s-TOR-NonTOR-15.csv\n",
      "shape:\t\t\t(272, 25)\n",
      "total TOR data:\t\t136\n",
      "total Non-TOR data:\t136\n",
      "\n",
      "\n",
      "Selected Features:\n",
      "[   'max_biat',\n",
      "    'max_idle',\n",
      "    'mean_fiat',\n",
      "    'min_idle',\n",
      "    'std_biat',\n",
      "    'std_flowiat',\n",
      "    'flowPktsPerSecond',\n",
      "    'min_biat',\n",
      "    'mean_biat',\n",
      "    'mean_idle',\n",
      "    'flowBytesPerSecond',\n",
      "    'min_flowiat',\n",
      "    'duration',\n",
      "    'std_fiat',\n",
      "    'std_active',\n",
      "    'max_fiat',\n",
      "    'max_active',\n",
      "    'min_fiat',\n",
      "    'std_idle',\n",
      "    'mean_flowiat',\n",
      "    'max_flowiat',\n",
      "    'mean_active',\n",
      "    'min_active']\n",
      "\n",
      "Dependent Variable: class1\n"
     ]
    },
    {
     "data": {
      "text/html": [
       "<table border=\"1\" class=\"dataframe\">\n",
       "  <thead>\n",
       "    <tr style=\"text-align: left;\">\n",
       "      <th>epoch</th>\n",
       "      <th>train_loss</th>\n",
       "      <th>valid_loss</th>\n",
       "      <th>accuracy</th>\n",
       "      <th>time</th>\n",
       "    </tr>\n",
       "  </thead>\n",
       "  <tbody>\n",
       "    <tr>\n",
       "      <td>0</td>\n",
       "      <td>0.885143</td>\n",
       "      <td>0.698198</td>\n",
       "      <td>0.490909</td>\n",
       "      <td>00:01</td>\n",
       "    </tr>\n",
       "    <tr>\n",
       "      <td>1</td>\n",
       "      <td>0.812479</td>\n",
       "      <td>0.680375</td>\n",
       "      <td>0.618182</td>\n",
       "      <td>00:01</td>\n",
       "    </tr>\n",
       "    <tr>\n",
       "      <td>2</td>\n",
       "      <td>0.698489</td>\n",
       "      <td>0.632610</td>\n",
       "      <td>0.927273</td>\n",
       "      <td>00:01</td>\n",
       "    </tr>\n",
       "    <tr>\n",
       "      <td>3</td>\n",
       "      <td>0.595806</td>\n",
       "      <td>0.562759</td>\n",
       "      <td>0.963636</td>\n",
       "      <td>00:01</td>\n",
       "    </tr>\n",
       "    <tr>\n",
       "      <td>4</td>\n",
       "      <td>0.511773</td>\n",
       "      <td>0.481136</td>\n",
       "      <td>0.963636</td>\n",
       "      <td>00:01</td>\n",
       "    </tr>\n",
       "    <tr>\n",
       "      <td>5</td>\n",
       "      <td>0.451088</td>\n",
       "      <td>0.400948</td>\n",
       "      <td>0.963636</td>\n",
       "      <td>00:01</td>\n",
       "    </tr>\n",
       "    <tr>\n",
       "      <td>6</td>\n",
       "      <td>0.402580</td>\n",
       "      <td>0.331404</td>\n",
       "      <td>0.963636</td>\n",
       "      <td>00:01</td>\n",
       "    </tr>\n",
       "    <tr>\n",
       "      <td>7</td>\n",
       "      <td>0.359049</td>\n",
       "      <td>0.280200</td>\n",
       "      <td>0.963636</td>\n",
       "      <td>00:01</td>\n",
       "    </tr>\n",
       "    <tr>\n",
       "      <td>8</td>\n",
       "      <td>0.325809</td>\n",
       "      <td>0.243498</td>\n",
       "      <td>0.963636</td>\n",
       "      <td>00:01</td>\n",
       "    </tr>\n",
       "    <tr>\n",
       "      <td>9</td>\n",
       "      <td>0.300593</td>\n",
       "      <td>0.218560</td>\n",
       "      <td>0.963636</td>\n",
       "      <td>00:01</td>\n",
       "    </tr>\n",
       "  </tbody>\n",
       "</table>"
      ],
      "text/plain": [
       "<IPython.core.display.HTML object>"
      ]
     },
     "metadata": {},
     "output_type": "display_data"
    },
    {
     "data": {
      "image/png": "[encoded data removed]",
      "text/plain": [
       "<Figure size 432x288 with 1 Axes>"
      ]
     },
     "metadata": {},
     "output_type": "display_data"
    },
    {
     "data": {
      "text/html": [],
      "text/plain": [
       "<IPython.core.display.HTML object>"
      ]
     },
     "metadata": {},
     "output_type": "display_data"
    },
    {
     "name": "stdout",
     "output_type": "stream",
     "text": [
      "loss 0.21856002509593964: accuracy: 96.36%\n"
     ]
    },
    {
     "data": {
      "text/html": [],
      "text/plain": [
       "<IPython.core.display.HTML object>"
      ]
     },
     "metadata": {},
     "output_type": "display_data"
    },
    {
     "data": {
      "image/png": "[encoded data removed]",
      "text/plain": [
       "<Figure size 432x288 with 1 Axes>"
      ]
     },
     "metadata": {
      "needs_background": "light"
     },
     "output_type": "display_data"
    }
   ],
   "source": [
    "next(experiment)"
   ]
  },
  {
   "cell_type": "code",
   "execution_count": 21,
   "metadata": {},
   "outputs": [
    {
     "name": "stdout",
     "output_type": "stream",
     "text": [
      "Experiment #12\n",
      "\n",
      "dataset:\t\tdownsampled_TimeBasedFeatures-60s-TOR-NonTOR-85.csv\n",
      "shape:\t\t\t(1556, 25)\n",
      "total TOR data:\t\t778\n",
      "total Non-TOR data:\t778\n",
      "\n",
      "\n",
      "Selected Features:\n",
      "[   'max_biat',\n",
      "    'max_idle',\n",
      "    'mean_fiat',\n",
      "    'min_idle',\n",
      "    'std_biat',\n",
      "    'std_flowiat',\n",
      "    'flowPktsPerSecond',\n",
      "    'min_biat',\n",
      "    'mean_biat',\n",
      "    'mean_idle',\n",
      "    'flowBytesPerSecond',\n",
      "    'min_flowiat',\n",
      "    'duration',\n",
      "    'std_fiat',\n",
      "    'std_active',\n",
      "    'max_fiat',\n",
      "    'max_active',\n",
      "    'min_fiat',\n",
      "    'std_idle',\n",
      "    'mean_flowiat',\n",
      "    'max_flowiat',\n",
      "    'mean_active',\n",
      "    'min_active']\n",
      "\n",
      "Dependent Variable: class1\n"
     ]
    },
    {
     "data": {
      "text/html": [
       "<table border=\"1\" class=\"dataframe\">\n",
       "  <thead>\n",
       "    <tr style=\"text-align: left;\">\n",
       "      <th>epoch</th>\n",
       "      <th>train_loss</th>\n",
       "      <th>valid_loss</th>\n",
       "      <th>accuracy</th>\n",
       "      <th>time</th>\n",
       "    </tr>\n",
       "  </thead>\n",
       "  <tbody>\n",
       "    <tr>\n",
       "      <td>0</td>\n",
       "      <td>0.562423</td>\n",
       "      <td>0.593651</td>\n",
       "      <td>0.868590</td>\n",
       "      <td>00:02</td>\n",
       "    </tr>\n",
       "    <tr>\n",
       "      <td>1</td>\n",
       "      <td>0.346408</td>\n",
       "      <td>0.177072</td>\n",
       "      <td>0.993590</td>\n",
       "      <td>00:01</td>\n",
       "    </tr>\n",
       "    <tr>\n",
       "      <td>2</td>\n",
       "      <td>0.217117</td>\n",
       "      <td>0.040442</td>\n",
       "      <td>0.996795</td>\n",
       "      <td>00:01</td>\n",
       "    </tr>\n",
       "    <tr>\n",
       "      <td>3</td>\n",
       "      <td>0.139781</td>\n",
       "      <td>0.025246</td>\n",
       "      <td>0.996795</td>\n",
       "      <td>00:01</td>\n",
       "    </tr>\n",
       "    <tr>\n",
       "      <td>4</td>\n",
       "      <td>0.093812</td>\n",
       "      <td>0.020449</td>\n",
       "      <td>0.996795</td>\n",
       "      <td>00:01</td>\n",
       "    </tr>\n",
       "    <tr>\n",
       "      <td>5</td>\n",
       "      <td>0.063074</td>\n",
       "      <td>0.021153</td>\n",
       "      <td>0.993590</td>\n",
       "      <td>00:01</td>\n",
       "    </tr>\n",
       "    <tr>\n",
       "      <td>6</td>\n",
       "      <td>0.043433</td>\n",
       "      <td>0.016834</td>\n",
       "      <td>0.996795</td>\n",
       "      <td>00:02</td>\n",
       "    </tr>\n",
       "    <tr>\n",
       "      <td>7</td>\n",
       "      <td>0.030847</td>\n",
       "      <td>0.015334</td>\n",
       "      <td>0.996795</td>\n",
       "      <td>00:01</td>\n",
       "    </tr>\n",
       "    <tr>\n",
       "      <td>8</td>\n",
       "      <td>0.022108</td>\n",
       "      <td>0.018305</td>\n",
       "      <td>0.993590</td>\n",
       "      <td>00:01</td>\n",
       "    </tr>\n",
       "    <tr>\n",
       "      <td>9</td>\n",
       "      <td>0.016311</td>\n",
       "      <td>0.019093</td>\n",
       "      <td>0.993590</td>\n",
       "      <td>00:03</td>\n",
       "    </tr>\n",
       "  </tbody>\n",
       "</table>"
      ],
      "text/plain": [
       "<IPython.core.display.HTML object>"
      ]
     },
     "metadata": {},
     "output_type": "display_data"
    },
    {
     "data": {
      "image/png": "[encoded data removed]",
      "text/plain": [
       "<Figure size 432x288 with 1 Axes>"
      ]
     },
     "metadata": {},
     "output_type": "display_data"
    },
    {
     "data": {
      "text/html": [],
      "text/plain": [
       "<IPython.core.display.HTML object>"
      ]
     },
     "metadata": {},
     "output_type": "display_data"
    },
    {
     "name": "stdout",
     "output_type": "stream",
     "text": [
      "loss 0.019093332812190056: accuracy: 99.36%\n"
     ]
    },
    {
     "data": {
      "text/html": [],
      "text/plain": [
       "<IPython.core.display.HTML object>"
      ]
     },
     "metadata": {},
     "output_type": "display_data"
    },
    {
     "data": {
      "image/png": "[encoded data removed]",
      "text/plain": [
       "<Figure size 432x288 with 1 Axes>"
      ]
     },
     "metadata": {
      "needs_background": "light"
     },
     "output_type": "display_data"
    }
   ],
   "source": [
    "next(experiment)"
   ]
  },
  {
   "cell_type": "code",
   "execution_count": 22,
   "metadata": {},
   "outputs": [
    {
     "name": "stdout",
     "output_type": "stream",
     "text": [
      "Experiment #13\n",
      "\n",
      "dataset:\t\tdownsampled_TimeBasedFeatures-120s-TOR-NonTor.csv\n",
      "shape:\t\t\t(940, 25)\n",
      "total TOR data:\t\t470\n",
      "total Non-TOR data:\t470\n",
      "\n",
      "\n",
      "Selected Features:\n",
      "[   'max_biat',\n",
      "    'total_biat',\n",
      "    'mean_fiat',\n",
      "    'max_idle',\n",
      "    'total_fiat',\n",
      "    'min_idle',\n",
      "    'std_flowiat',\n",
      "    'flowPktsPerSecond',\n",
      "    'min_biat',\n",
      "    'mean_biat',\n",
      "    'mean_idle',\n",
      "    'flowBytesPerSecond',\n",
      "    'min_flowiat',\n",
      "    'duration',\n",
      "    'std_active',\n",
      "    'max_fiat',\n",
      "    'max_active',\n",
      "    'min_fiat',\n",
      "    'std_idle',\n",
      "    'mean_flowiat',\n",
      "    'max_flowiat',\n",
      "    'mean_active',\n",
      "    'min_active']\n",
      "\n",
      "Dependent Variable: class1\n"
     ]
    },
    {
     "data": {
      "text/html": [
       "<table border=\"1\" class=\"dataframe\">\n",
       "  <thead>\n",
       "    <tr style=\"text-align: left;\">\n",
       "      <th>epoch</th>\n",
       "      <th>train_loss</th>\n",
       "      <th>valid_loss</th>\n",
       "      <th>accuracy</th>\n",
       "      <th>time</th>\n",
       "    </tr>\n",
       "  </thead>\n",
       "  <tbody>\n",
       "    <tr>\n",
       "      <td>0</td>\n",
       "      <td>0.899390</td>\n",
       "      <td>0.702289</td>\n",
       "      <td>0.537234</td>\n",
       "      <td>00:01</td>\n",
       "    </tr>\n",
       "    <tr>\n",
       "      <td>1</td>\n",
       "      <td>0.636106</td>\n",
       "      <td>0.503327</td>\n",
       "      <td>0.968085</td>\n",
       "      <td>00:01</td>\n",
       "    </tr>\n",
       "    <tr>\n",
       "      <td>2</td>\n",
       "      <td>0.438700</td>\n",
       "      <td>0.191909</td>\n",
       "      <td>0.973404</td>\n",
       "      <td>00:01</td>\n",
       "    </tr>\n",
       "    <tr>\n",
       "      <td>3</td>\n",
       "      <td>0.315759</td>\n",
       "      <td>0.101018</td>\n",
       "      <td>0.973404</td>\n",
       "      <td>00:01</td>\n",
       "    </tr>\n",
       "    <tr>\n",
       "      <td>4</td>\n",
       "      <td>0.232220</td>\n",
       "      <td>0.076668</td>\n",
       "      <td>0.973404</td>\n",
       "      <td>00:01</td>\n",
       "    </tr>\n",
       "    <tr>\n",
       "      <td>5</td>\n",
       "      <td>0.175387</td>\n",
       "      <td>0.067104</td>\n",
       "      <td>0.973404</td>\n",
       "      <td>00:01</td>\n",
       "    </tr>\n",
       "    <tr>\n",
       "      <td>6</td>\n",
       "      <td>0.134750</td>\n",
       "      <td>0.063765</td>\n",
       "      <td>0.978723</td>\n",
       "      <td>00:01</td>\n",
       "    </tr>\n",
       "    <tr>\n",
       "      <td>7</td>\n",
       "      <td>0.104795</td>\n",
       "      <td>0.062130</td>\n",
       "      <td>0.978723</td>\n",
       "      <td>00:01</td>\n",
       "    </tr>\n",
       "    <tr>\n",
       "      <td>8</td>\n",
       "      <td>0.083520</td>\n",
       "      <td>0.060359</td>\n",
       "      <td>0.978723</td>\n",
       "      <td>00:01</td>\n",
       "    </tr>\n",
       "    <tr>\n",
       "      <td>9</td>\n",
       "      <td>0.067441</td>\n",
       "      <td>0.060981</td>\n",
       "      <td>0.978723</td>\n",
       "      <td>00:01</td>\n",
       "    </tr>\n",
       "  </tbody>\n",
       "</table>"
      ],
      "text/plain": [
       "<IPython.core.display.HTML object>"
      ]
     },
     "metadata": {},
     "output_type": "display_data"
    },
    {
     "data": {
      "image/png": "[encoded data removed]",
      "text/plain": [
       "<Figure size 432x288 with 1 Axes>"
      ]
     },
     "metadata": {},
     "output_type": "display_data"
    },
    {
     "data": {
      "text/html": [],
      "text/plain": [
       "<IPython.core.display.HTML object>"
      ]
     },
     "metadata": {},
     "output_type": "display_data"
    },
    {
     "name": "stdout",
     "output_type": "stream",
     "text": [
      "loss 0.06098119914531708: accuracy: 97.87%\n"
     ]
    },
    {
     "data": {
      "text/html": [],
      "text/plain": [
       "<IPython.core.display.HTML object>"
      ]
     },
     "metadata": {},
     "output_type": "display_data"
    },
    {
     "data": {
      "image/png": "[encoded data removed]",
      "text/plain": [
       "<Figure size 432x288 with 1 Axes>"
      ]
     },
     "metadata": {
      "needs_background": "light"
     },
     "output_type": "display_data"
    }
   ],
   "source": [
    "next(experiment)"
   ]
  },
  {
   "cell_type": "code",
   "execution_count": 23,
   "metadata": {},
   "outputs": [
    {
     "name": "stdout",
     "output_type": "stream",
     "text": [
      "Experiment #14\n",
      "\n",
      "dataset:\t\tdownsampled_TimeBasedFeatures-120s-TOR-NonTOR-15.csv\n",
      "shape:\t\t\t(132, 25)\n",
      "total TOR data:\t\t66\n",
      "total Non-TOR data:\t66\n",
      "\n",
      "\n",
      "Selected Features:\n",
      "[   'max_biat',\n",
      "    'total_biat',\n",
      "    'mean_fiat',\n",
      "    'max_idle',\n",
      "    'total_fiat',\n",
      "    'min_idle',\n",
      "    'std_flowiat',\n",
      "    'flowPktsPerSecond',\n",
      "    'min_biat',\n",
      "    'mean_biat',\n",
      "    'mean_idle',\n",
      "    'flowBytesPerSecond',\n",
      "    'min_flowiat',\n",
      "    'duration',\n",
      "    'std_active',\n",
      "    'max_fiat',\n",
      "    'max_active',\n",
      "    'min_fiat',\n",
      "    'std_idle',\n",
      "    'mean_flowiat',\n",
      "    'max_flowiat',\n",
      "    'mean_active',\n",
      "    'min_active']\n",
      "\n",
      "Dependent Variable: class1\n"
     ]
    },
    {
     "data": {
      "text/html": [
       "<table border=\"1\" class=\"dataframe\">\n",
       "  <thead>\n",
       "    <tr style=\"text-align: left;\">\n",
       "      <th>epoch</th>\n",
       "      <th>train_loss</th>\n",
       "      <th>valid_loss</th>\n",
       "      <th>accuracy</th>\n",
       "      <th>time</th>\n",
       "    </tr>\n",
       "  </thead>\n",
       "  <tbody>\n",
       "    <tr>\n",
       "      <td>0</td>\n",
       "      <td>0.858914</td>\n",
       "      <td>0.701371</td>\n",
       "      <td>0.444444</td>\n",
       "      <td>00:01</td>\n",
       "    </tr>\n",
       "    <tr>\n",
       "      <td>1</td>\n",
       "      <td>0.845865</td>\n",
       "      <td>0.696500</td>\n",
       "      <td>0.444444</td>\n",
       "      <td>00:01</td>\n",
       "    </tr>\n",
       "    <tr>\n",
       "      <td>2</td>\n",
       "      <td>0.819766</td>\n",
       "      <td>0.682722</td>\n",
       "      <td>0.444444</td>\n",
       "      <td>00:01</td>\n",
       "    </tr>\n",
       "    <tr>\n",
       "      <td>3</td>\n",
       "      <td>0.779890</td>\n",
       "      <td>0.663632</td>\n",
       "      <td>0.518519</td>\n",
       "      <td>00:01</td>\n",
       "    </tr>\n",
       "    <tr>\n",
       "      <td>4</td>\n",
       "      <td>0.731947</td>\n",
       "      <td>0.640263</td>\n",
       "      <td>0.518519</td>\n",
       "      <td>00:01</td>\n",
       "    </tr>\n",
       "    <tr>\n",
       "      <td>5</td>\n",
       "      <td>0.675475</td>\n",
       "      <td>0.615603</td>\n",
       "      <td>0.814815</td>\n",
       "      <td>00:01</td>\n",
       "    </tr>\n",
       "    <tr>\n",
       "      <td>6</td>\n",
       "      <td>0.625724</td>\n",
       "      <td>0.592100</td>\n",
       "      <td>0.888889</td>\n",
       "      <td>00:01</td>\n",
       "    </tr>\n",
       "    <tr>\n",
       "      <td>7</td>\n",
       "      <td>0.584936</td>\n",
       "      <td>0.571978</td>\n",
       "      <td>1.000000</td>\n",
       "      <td>00:01</td>\n",
       "    </tr>\n",
       "    <tr>\n",
       "      <td>8</td>\n",
       "      <td>0.551189</td>\n",
       "      <td>0.557690</td>\n",
       "      <td>1.000000</td>\n",
       "      <td>00:01</td>\n",
       "    </tr>\n",
       "    <tr>\n",
       "      <td>9</td>\n",
       "      <td>0.523367</td>\n",
       "      <td>0.547817</td>\n",
       "      <td>1.000000</td>\n",
       "      <td>00:01</td>\n",
       "    </tr>\n",
       "  </tbody>\n",
       "</table>"
      ],
      "text/plain": [
       "<IPython.core.display.HTML object>"
      ]
     },
     "metadata": {},
     "output_type": "display_data"
    },
    {
     "data": {
      "image/png": "[encoded data removed]",
      "text/plain": [
       "<Figure size 432x288 with 1 Axes>"
      ]
     },
     "metadata": {},
     "output_type": "display_data"
    },
    {
     "data": {
      "text/html": [],
      "text/plain": [
       "<IPython.core.display.HTML object>"
      ]
     },
     "metadata": {},
     "output_type": "display_data"
    },
    {
     "name": "stdout",
     "output_type": "stream",
     "text": [
      "loss 0.5478166341781616: accuracy: 100.00%\n"
     ]
    },
    {
     "data": {
      "text/html": [],
      "text/plain": [
       "<IPython.core.display.HTML object>"
      ]
     },
     "metadata": {},
     "output_type": "display_data"
    },
    {
     "data": {
      "image/png": "[encoded data removed]",
      "text/plain": [
       "<Figure size 432x288 with 1 Axes>"
      ]
     },
     "metadata": {
      "needs_background": "light"
     },
     "output_type": "display_data"
    }
   ],
   "source": [
    "next(experiment)"
   ]
  },
  {
   "cell_type": "code",
   "execution_count": 24,
   "metadata": {},
   "outputs": [
    {
     "name": "stdout",
     "output_type": "stream",
     "text": [
      "Experiment #15\n",
      "\n",
      "dataset:\t\tdownsampled_TimeBasedFeatures-120s-TOR-NonTOR-85.csv\n",
      "shape:\t\t\t(808, 25)\n",
      "total TOR data:\t\t404\n",
      "total Non-TOR data:\t404\n",
      "\n",
      "\n",
      "Selected Features:\n",
      "[   'max_biat',\n",
      "    'total_biat',\n",
      "    'mean_fiat',\n",
      "    'max_idle',\n",
      "    'total_fiat',\n",
      "    'min_idle',\n",
      "    'std_flowiat',\n",
      "    'flowPktsPerSecond',\n",
      "    'min_biat',\n",
      "    'mean_biat',\n",
      "    'mean_idle',\n",
      "    'flowBytesPerSecond',\n",
      "    'min_flowiat',\n",
      "    'duration',\n",
      "    'std_active',\n",
      "    'max_fiat',\n",
      "    'max_active',\n",
      "    'min_fiat',\n",
      "    'std_idle',\n",
      "    'mean_flowiat',\n",
      "    'max_flowiat',\n",
      "    'mean_active',\n",
      "    'min_active']\n",
      "\n",
      "Dependent Variable: class1\n"
     ]
    },
    {
     "data": {
      "text/html": [
       "<table border=\"1\" class=\"dataframe\">\n",
       "  <thead>\n",
       "    <tr style=\"text-align: left;\">\n",
       "      <th>epoch</th>\n",
       "      <th>train_loss</th>\n",
       "      <th>valid_loss</th>\n",
       "      <th>accuracy</th>\n",
       "      <th>time</th>\n",
       "    </tr>\n",
       "  </thead>\n",
       "  <tbody>\n",
       "    <tr>\n",
       "      <td>0</td>\n",
       "      <td>0.793047</td>\n",
       "      <td>0.684858</td>\n",
       "      <td>0.691358</td>\n",
       "      <td>00:01</td>\n",
       "    </tr>\n",
       "    <tr>\n",
       "      <td>1</td>\n",
       "      <td>0.555452</td>\n",
       "      <td>0.472441</td>\n",
       "      <td>1.000000</td>\n",
       "      <td>00:01</td>\n",
       "    </tr>\n",
       "    <tr>\n",
       "      <td>2</td>\n",
       "      <td>0.396418</td>\n",
       "      <td>0.194416</td>\n",
       "      <td>1.000000</td>\n",
       "      <td>00:01</td>\n",
       "    </tr>\n",
       "    <tr>\n",
       "      <td>3</td>\n",
       "      <td>0.294774</td>\n",
       "      <td>0.074599</td>\n",
       "      <td>1.000000</td>\n",
       "      <td>00:01</td>\n",
       "    </tr>\n",
       "    <tr>\n",
       "      <td>4</td>\n",
       "      <td>0.224214</td>\n",
       "      <td>0.043402</td>\n",
       "      <td>1.000000</td>\n",
       "      <td>00:01</td>\n",
       "    </tr>\n",
       "    <tr>\n",
       "      <td>5</td>\n",
       "      <td>0.173477</td>\n",
       "      <td>0.034062</td>\n",
       "      <td>1.000000</td>\n",
       "      <td>00:01</td>\n",
       "    </tr>\n",
       "    <tr>\n",
       "      <td>6</td>\n",
       "      <td>0.135461</td>\n",
       "      <td>0.032245</td>\n",
       "      <td>1.000000</td>\n",
       "      <td>00:01</td>\n",
       "    </tr>\n",
       "    <tr>\n",
       "      <td>7</td>\n",
       "      <td>0.107174</td>\n",
       "      <td>0.031865</td>\n",
       "      <td>1.000000</td>\n",
       "      <td>00:01</td>\n",
       "    </tr>\n",
       "    <tr>\n",
       "      <td>8</td>\n",
       "      <td>0.086470</td>\n",
       "      <td>0.031545</td>\n",
       "      <td>1.000000</td>\n",
       "      <td>00:01</td>\n",
       "    </tr>\n",
       "    <tr>\n",
       "      <td>9</td>\n",
       "      <td>0.070444</td>\n",
       "      <td>0.031223</td>\n",
       "      <td>1.000000</td>\n",
       "      <td>00:01</td>\n",
       "    </tr>\n",
       "  </tbody>\n",
       "</table>"
      ],
      "text/plain": [
       "<IPython.core.display.HTML object>"
      ]
     },
     "metadata": {},
     "output_type": "display_data"
    },
    {
     "data": {
      "image/png": "[encoded data removed]",
      "text/plain": [
       "<Figure size 432x288 with 1 Axes>"
      ]
     },
     "metadata": {},
     "output_type": "display_data"
    },
    {
     "data": {
      "text/html": [],
      "text/plain": [
       "<IPython.core.display.HTML object>"
      ]
     },
     "metadata": {},
     "output_type": "display_data"
    },
    {
     "name": "stdout",
     "output_type": "stream",
     "text": [
      "loss 0.031223075464367867: accuracy: 100.00%\n"
     ]
    },
    {
     "data": {
      "text/html": [],
      "text/plain": [
       "<IPython.core.display.HTML object>"
      ]
     },
     "metadata": {},
     "output_type": "display_data"
    },
    {
     "data": {
      "image/png": "[encoded data removed]",
      "text/plain": [
       "<Figure size 432x288 with 1 Axes>"
      ]
     },
     "metadata": {
      "needs_background": "light"
     },
     "output_type": "display_data"
    }
   ],
   "source": [
    "next(experiment)"
   ]
  },
  {
   "cell_type": "code",
   "execution_count": null,
   "metadata": {},
   "outputs": [],
   "source": []
  }
 ],
 "metadata": {
  "kernelspec": {
   "display_name": "Python 3",
   "language": "python",
   "name": "python3"
  },
  "language_info": {
   "codemirror_mode": {
    "name": "ipython",
    "version": 3
   },
   "file_extension": ".py",
   "mimetype": "text/x-python",
   "name": "python",
   "nbconvert_exporter": "python",
   "pygments_lexer": "ipython3",
   "version": "3.7.6"
  }
 },
 "nbformat": 4,
 "nbformat_minor": 4
}
