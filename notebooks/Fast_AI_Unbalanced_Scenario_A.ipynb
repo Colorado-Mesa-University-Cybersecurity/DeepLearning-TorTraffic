{
 "cells": [
  {
   "cell_type": "code",
   "execution_count": 8,
   "metadata": {},
   "outputs": [
    {
     "name": "stdout",
     "output_type": "stream",
     "text": [
      "libraries loaded\n"
     ]
    }
   ],
   "source": [
    "from fastai.tabular import *\n",
    "import pandas as pd\n",
    "import numpy as np\n",
    "from sklearn.model_selection import train_test_split, StratifiedShuffleSplit\n",
    "import os\n",
    "import sys\n",
    "import glob\n",
    "import pprint\n",
    "from sklearn.utils import shuffle\n",
    "p = pprint.PrettyPrinter(indent=4, width=30)\n",
    "pretty = p.pprint\n",
    "\n",
    "print('libraries loaded')"
   ]
  },
  {
   "cell_type": "code",
   "execution_count": 13,
   "metadata": {},
   "outputs": [],
   "source": [
    "def loadData(csvFile):\n",
    "    pickleDump = '{}.pickle'.format(csvFile)\n",
    "    if os.path.exists(pickleDump):\n",
    "        df = pd.read_pickle(pickleDump)\n",
    "    else:\n",
    "        df = pd.read_csv(csvFile, low_memory=False)\n",
    "        # clean data\n",
    "        # Note: there's a leading space for each column name except for the first one\n",
    "        # let's strip the whitspaces from column names\n",
    "        df = df.rename(str.strip, axis='columns')\n",
    "        df.drop(columns=['Source IP', 'Destination IP'], inplace=True)\n",
    "        # drop missing values/NaN etc.\n",
    "        df.dropna(inplace=True)\n",
    "        # drop Infinity rows and NaN string from each column\n",
    "        for col in df.columns:\n",
    "            indexNames = df[df[col]=='Infinity'].index\n",
    "            if not indexNames.empty:\n",
    "                print('deleting {} rows with Infinity in column {}'.format(len(indexNames), col))\n",
    "                df.drop(indexNames, inplace=True)\n",
    "            indexNames = df[df[col]=='NaN'].index\n",
    "            if not indexNames.empty:\n",
    "                print('deleting {} rows with NaN in column {}'.format(len(indexNames), col))\n",
    "                df.drop(indexNames, inplace=True)\n",
    "        \n",
    "        # convert  Flow Bytes/s object & Flow Packets/s object into float type\n",
    "        df['Flow Bytes/s'] = df['Flow Bytes/s'].astype('float64')\n",
    "        df['Flow Packets/s'] = df['Flow Packets/s'].astype('float64')\n",
    "        print(df.tail())\n",
    "        df.to_pickle(pickleDump)\n",
    "    \n",
    "    return df"
   ]
  },
  {
   "cell_type": "code",
   "execution_count": 10,
   "metadata": {},
   "outputs": [
    {
     "name": "stdout",
     "output_type": "stream",
     "text": [
      "Running: 15 experiments\n",
      "\n",
      "[   '../CSV/Scenario-A/merged_5s.csv',\n",
      "    '../CSV/Scenario-A/SelectedFeatures-10s-TOR-NonTor.csv',\n",
      "    '../CSV/Scenario-A/SelectedFeatures-15s-TOR-NonTor.csv',\n",
      "    '../CSV/Scenario-A/TimeBasedFeatures-15s-TOR-NonTOR.csv',\n",
      "    '../CSV/Scenario-A/TimeBasedFeatures-15s-TOR-NonTOR-15.csv',\n",
      "    '../CSV/Scenario-A/TimeBasedFeatures-15s-TOR-NonTOR-85.csv',\n",
      "    '../CSV/Scenario-A/TimeBasedFeatures-30s-TORNonTor.csv',\n",
      "    '../CSV/Scenario-A/TimeBasedFeatures-30s-TORNonTOR-15.csv',\n",
      "    '../CSV/Scenario-A/TimeBasedFeatures-30s-TORNonTOR-85.csv',\n",
      "    '../CSV/Scenario-A/TimeBasedFeatures-60s-TOR-NonTor.csv',\n",
      "    '../CSV/Scenario-A/TimeBasedFeatures-60s-TOR-NonTOR-15.csv',\n",
      "    '../CSV/Scenario-A/TimeBasedFeatures-60s-TOR-NonTOR-85.csv',\n",
      "    '../CSV/Scenario-A/TimeBasedFeatures-120s-TOR-NonTor.csv',\n",
      "    '../CSV/Scenario-A/TimeBasedFeatures-120s-TOR-NonTOR-15.csv',\n",
      "    '../CSV/Scenario-A/TimeBasedFeatures-120s-TOR-NonTOR-85.csv']\n"
     ]
    }
   ],
   "source": [
    "dataPath = '../CSV/Scenario-A'\n",
    "data: list = [\n",
    "    'merged_5s.csv',\n",
    "    'SelectedFeatures-10s-TOR-NonTor.csv',\n",
    "    'SelectedFeatures-15s-TOR-NonTor.csv',\n",
    "    'TimeBasedFeatures-15s-TOR-NonTOR.csv',\n",
    "    'TimeBasedFeatures-15s-TOR-NonTOR-15.csv',\n",
    "    'TimeBasedFeatures-15s-TOR-NonTOR-85.csv',\n",
    "    'TimeBasedFeatures-30s-TORNonTor.csv',\n",
    "    'TimeBasedFeatures-30s-TORNonTOR-15.csv',\n",
    "    'TimeBasedFeatures-30s-TORNonTOR-85.csv',\n",
    "    'TimeBasedFeatures-60s-TOR-NonTor.csv',\n",
    "    'TimeBasedFeatures-60s-TOR-NonTOR-15.csv',\n",
    "    'TimeBasedFeatures-60s-TOR-NonTOR-85.csv',\n",
    "    'TimeBasedFeatures-120s-TOR-NonTor.csv',\n",
    "    'TimeBasedFeatures-120s-TOR-NonTOR-15.csv',\n",
    "    'TimeBasedFeatures-120s-TOR-NonTOR-85.csv'\n",
    "]\n",
    "    \n",
    "def get_file_path(file):\n",
    "    return os.path.join(dataPath, file)\n",
    "\n",
    "csvFiles: list = list(map(get_file_path, data))\n",
    "\n",
    "print(f'Running: {len(csvFiles)} experiments\\n')\n",
    "pretty(csvFiles)\n",
    "csvFile = os.path.join(dataPath, 'merged_5s.csv')"
   ]
  },
  {
   "cell_type": "code",
   "execution_count": 12,
   "metadata": {},
   "outputs": [],
   "source": [
    "df = loadData(csvFile)"
   ]
  },
  {
   "cell_type": "code",
   "execution_count": 14,
   "metadata": {},
   "outputs": [
    {
     "data": {
      "text/plain": [
       "Source Port           int64\n",
       "Destination Port      int64\n",
       "Protocol              int64\n",
       "Flow Duration         int64\n",
       "Flow Bytes/s        float64\n",
       "Flow Packets/s      float64\n",
       "Flow IAT Mean       float64\n",
       "Flow IAT Std        float64\n",
       "Flow IAT Max          int64\n",
       "Flow IAT Min          int64\n",
       "Fwd IAT Mean        float64\n",
       "Fwd IAT Std         float64\n",
       "Fwd IAT Max           int64\n",
       "Fwd IAT Min           int64\n",
       "Bwd IAT Mean        float64\n",
       "Bwd IAT Std         float64\n",
       "Bwd IAT Max           int64\n",
       "Bwd IAT Min           int64\n",
       "Active Mean           int64\n",
       "Active Std            int64\n",
       "Active Max            int64\n",
       "Active Min            int64\n",
       "Idle Mean             int64\n",
       "Idle Std              int64\n",
       "Idle Max              int64\n",
       "Idle Min              int64\n",
       "label                object\n",
       "dtype: object"
      ]
     },
     "execution_count": 14,
     "metadata": {},
     "output_type": "execute_result"
    }
   ],
   "source": [
    "# check datatypes of each features\n",
    "df.dtypes"
   ]
  },
  {
   "cell_type": "code",
   "execution_count": 15,
   "metadata": {},
   "outputs": [
    {
     "name": "stdout",
     "output_type": "stream",
     "text": [
      "total TOR: 14508\n",
      "total nonTOR:  69684\n"
     ]
    }
   ],
   "source": [
    "# total Tor samples\n",
    "print('total TOR:', len(df[df['label'] == 'TOR'].index))\n",
    "print('total nonTOR: ', len(df[df['label'] == 'nonTOR'].index))"
   ]
  },
  {
   "cell_type": "code",
   "execution_count": 16,
   "metadata": {},
   "outputs": [],
   "source": [
    "dep_var = 'label'\n",
    "cat_names = ['Source Port', 'Destination Port', 'Protocol']\n",
    "cont_names = list(set(df.columns) - set(cat_names) - set([dep_var]))"
   ]
  },
  {
   "cell_type": "code",
   "execution_count": 17,
   "metadata": {},
   "outputs": [
    {
     "data": {
      "text/plain": [
       "['Active Mean',\n",
       " 'Fwd IAT Mean',\n",
       " 'Bwd IAT Mean',\n",
       " 'Bwd IAT Min',\n",
       " 'Flow Packets/s',\n",
       " 'Active Std',\n",
       " 'Fwd IAT Min',\n",
       " 'Idle Min',\n",
       " 'Idle Max',\n",
       " 'Idle Mean',\n",
       " 'Idle Std',\n",
       " 'Flow Bytes/s',\n",
       " 'Bwd IAT Std',\n",
       " 'Active Min',\n",
       " 'Flow IAT Std',\n",
       " 'Fwd IAT Std',\n",
       " 'Bwd IAT Max',\n",
       " 'Flow Duration',\n",
       " 'Flow IAT Max',\n",
       " 'Fwd IAT Max',\n",
       " 'Flow IAT Mean',\n",
       " 'Active Max',\n",
       " 'Flow IAT Min']"
      ]
     },
     "execution_count": 17,
     "metadata": {},
     "output_type": "execute_result"
    }
   ],
   "source": [
    "cont_names"
   ]
  },
  {
   "cell_type": "code",
   "execution_count": 18,
   "metadata": {},
   "outputs": [
    {
     "name": "stdout",
     "output_type": "stream",
     "text": [
      "StratifiedShuffleSplit(n_splits=1, random_state=0, test_size=0.2,\n",
      "            train_size=None)\n"
     ]
    }
   ],
   "source": [
    "procs = [FillMissing, Categorify, Normalize]\n",
    "sss = StratifiedShuffleSplit(n_splits = 1, test_size=0.2, random_state=0)\n",
    "print(sss)"
   ]
  },
  {
   "cell_type": "code",
   "execution_count": null,
   "metadata": {},
   "outputs": [
    {
     "data": {
      "text/html": [
       "\n",
       "    <div>\n",
       "        <style>\n",
       "            /* Turns off some styling */\n",
       "            progress {\n",
       "                /* gets rid of default border in Firefox and Opera. */\n",
       "                border: none;\n",
       "                /* Needs to be in here for Safari polyfill so background images work as expected. */\n",
       "                background-size: auto;\n",
       "            }\n",
       "            .progress-bar-interrupted, .progress-bar-interrupted::-webkit-progress-bar {\n",
       "                background: #F44336;\n",
       "            }\n",
       "        </style>\n",
       "      <progress value='2' class='' max='10' style='width:300px; height:20px; vertical-align: middle;'></progress>\n",
       "      20.00% [2/10 02:44<10:59]\n",
       "    </div>\n",
       "    \n",
       "<table border=\"1\" class=\"dataframe\">\n",
       "  <thead>\n",
       "    <tr style=\"text-align: left;\">\n",
       "      <th>epoch</th>\n",
       "      <th>train_loss</th>\n",
       "      <th>valid_loss</th>\n",
       "      <th>accuracy</th>\n",
       "      <th>time</th>\n",
       "    </tr>\n",
       "  </thead>\n",
       "  <tbody>\n",
       "    <tr>\n",
       "      <td>0</td>\n",
       "      <td>nan</td>\n",
       "      <td>nan</td>\n",
       "      <td>0.172338</td>\n",
       "      <td>01:19</td>\n",
       "    </tr>\n",
       "    <tr>\n",
       "      <td>1</td>\n",
       "      <td>nan</td>\n",
       "      <td>nan</td>\n",
       "      <td>0.172338</td>\n",
       "      <td>01:24</td>\n",
       "    </tr>\n",
       "  </tbody>\n",
       "</table><p>\n",
       "\n",
       "    <div>\n",
       "        <style>\n",
       "            /* Turns off some styling */\n",
       "            progress {\n",
       "                /* gets rid of default border in Firefox and Opera. */\n",
       "                border: none;\n",
       "                /* Needs to be in here for Safari polyfill so background images work as expected. */\n",
       "                background-size: auto;\n",
       "            }\n",
       "            .progress-bar-interrupted, .progress-bar-interrupted::-webkit-progress-bar {\n",
       "                background: #F44336;\n",
       "            }\n",
       "        </style>\n",
       "      <progress value='383' class='' max='1052' style='width:300px; height:20px; vertical-align: middle;'></progress>\n",
       "      36.41% [383/1052 00:32<00:57 nan]\n",
       "    </div>\n",
       "    "
      ],
      "text/plain": [
       "<IPython.core.display.HTML object>"
      ]
     },
     "metadata": {},
     "output_type": "display_data"
    },
    {
     "data": {
      "image/png": "[encoded data removed]",
      "text/plain": [
       "<Figure size 432x288 with 1 Axes>"
      ]
     },
     "metadata": {},
     "output_type": "display_data"
    }
   ],
   "source": [
    "for train_idx, test_idx in sss.split(df.index, df[dep_var]):\n",
    "    data_fold = (TabularList.from_df(df, path=dataPath, cat_names=cat_names, cont_names=cont_names, procs=procs)\n",
    "                     .split_by_idxs(train_idx, test_idx)\n",
    "                     .label_from_df(cols=dep_var)\n",
    "                     .databunch())\n",
    "    # create model and learn\n",
    "    model = tabular_learner(data_fold, layers=[50, 20], metrics=accuracy, callback_fns=ShowGraph)\n",
    "    model.fit_one_cycle(cyc_len=10) #\n",
    "    model.save('{}.model'.format(os.path.basename(csvFile)))"
   ]
  },
  {
   "cell_type": "code",
   "execution_count": null,
   "metadata": {},
   "outputs": [],
   "source": [
    "loss, acc = model.validate()\n",
    "print('loss {}: accuracy: {:.2f}%'.format(loss, acc*100))"
   ]
  },
  {
   "cell_type": "code",
   "execution_count": null,
   "metadata": {},
   "outputs": [],
   "source": [
    "preds, y, losses = model.get_preds(with_loss=True)\n",
    "interp = ClassificationInterpretation(model, preds, y, losses)\n",
    "interp.plot_confusion_matrix()"
   ]
  }
 ],
 "metadata": {
  "kernelspec": {
   "display_name": "Python 3",
   "language": "python",
   "name": "python3"
  },
  "language_info": {
   "codemirror_mode": {
    "name": "ipython",
    "version": 3
   },
   "file_extension": ".py",
   "mimetype": "text/x-python",
   "name": "python",
   "nbconvert_exporter": "python",
   "pygments_lexer": "ipython3",
   "version": "3.7.6"
  }
 },
 "nbformat": 4,
 "nbformat_minor": 4
}
