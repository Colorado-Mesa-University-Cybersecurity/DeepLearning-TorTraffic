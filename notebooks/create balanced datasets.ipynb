{
 "cells": [
  {
   "cell_type": "markdown",
   "metadata": {},
   "source": [
    "# Create Balanced Datasets\n",
    "Currently, the composition of the datasets we are using from ISCXTor2016 are terribly imbalanced. We can load up a dataset here to demonstrate the severity of the imbalance. Learn more about this problem [here](https://www.jeremyjordan.me/imbalanced-data/), [here](https://medium.com/analytics-vidhya/what-is-balance-and-imbalance-dataset-89e8d7f46bc5), and [here](http://amsantac.co/blog/en/2016/09/20/balanced-image-classification-r.html)."
   ]
  },
  {
   "cell_type": "code",
   "execution_count": 1,
   "metadata": {},
   "outputs": [
    {
     "name": "stdout",
     "output_type": "stream",
     "text": [
      "Imports complete.\n"
     ]
    }
   ],
   "source": [
    "import pandas as pd\n",
    "\n",
    "print('Imports complete.')"
   ]
  },
  {
   "cell_type": "code",
   "execution_count": 2,
   "metadata": {},
   "outputs": [
    {
     "name": "stdout",
     "output_type": "stream",
     "text": [
      "Data loaded\n"
     ]
    }
   ],
   "source": [
    "# Path to the ISCXTor2016 dataset\n",
    "path = '../../tor_dataset/'\n",
    "\n",
    "# Scenario subdirectory\n",
    "scenario = 'Scenario-A/'\n",
    "\n",
    "# Specific data file\n",
    "file = 'TimeBasedFeatures-15s-TOR-NonTOR.csv'\n",
    "\n",
    "# Load the given file\n",
    "df = pd.read_csv(path + scenario + file)\n",
    "\n",
    "print('Data loaded')"
   ]
  },
  {
   "cell_type": "markdown",
   "metadata": {},
   "source": [
    "Now that the data is loaded, we have to look at all the occurences of the labels. However, we don't know what the classification column is called..."
   ]
  },
  {
   "cell_type": "code",
   "execution_count": 3,
   "metadata": {},
   "outputs": [
    {
     "name": "stdout",
     "output_type": "stream",
     "text": [
      "Columns: Index(['duration', 'total_fiat', 'total_biat', 'min_fiat', 'min_biat',\n",
      "       'max_fiat', 'max_biat', 'mean_fiat', 'mean_biat', 'flowPktsPerSecond',\n",
      "       'flowBytesPerSecond', 'min_flowiat', 'max_flowiat', 'mean_flowiat',\n",
      "       'std_flowiat', 'min_active', 'mean_active', 'max_active', 'std_active',\n",
      "       'min_idle', 'mean_idle', 'max_idle', 'std_idle', 'class'],\n",
      "      dtype='object')\n"
     ]
    }
   ],
   "source": [
    "print('Columns: {}'.format(df.columns))"
   ]
  },
  {
   "cell_type": "markdown",
   "metadata": {},
   "source": [
    "I suspect `class` is our classication column. Let's pull the data for this one."
   ]
  },
  {
   "cell_type": "code",
   "execution_count": 4,
   "metadata": {},
   "outputs": [
    {
     "name": "stdout",
     "output_type": "stream",
     "text": [
      "NONTOR    18758\n",
      "TOR        3314\n",
      "Name: class, dtype: int64\n"
     ]
    }
   ],
   "source": [
    "dep_var = 'class'\n",
    "print(df[dep_var].value_counts())"
   ]
  },
  {
   "cell_type": "markdown",
   "metadata": {},
   "source": [
    "We can see from above that the 'NONTOR' classification occurs about six times more often than the 'TOR' classification. This shows us that a ZeroR solution (a model that will guess only the most common classification) would achieve an accuracy of 85%.   \n",
    "<pre>\n",
    "\"Perhaps the models we have made perform only so well because of this composition? Is this composition realistic for a deployable model?\"\n",
    "</pre>\n",
    "\n",
    "These are all questions that we don't *really* have to answer if we have a balanced dataset (or, in other words, if all of the class ratios are the same). Let's implement this below."
   ]
  },
  {
   "cell_type": "code",
   "execution_count": 5,
   "metadata": {},
   "outputs": [
    {
     "name": "stdout",
     "output_type": "stream",
     "text": [
      "Values in df1: \n",
      "TOR    3314\n",
      "Name: class, dtype: int64\n",
      "\n",
      "Values in df2: \n",
      "NONTOR    18758\n",
      "Name: class, dtype: int64\n"
     ]
    }
   ],
   "source": [
    "# Assign the lowest number of samples in a given classification (TOR in this case)\n",
    "low_count = 3314\n",
    "\n",
    "# Set a random state for reproducibility\n",
    "random_state = 1\n",
    "\n",
    "# Acquire all of the samples that fall into the TOR classification ( WHERE class is 'TOR' )\n",
    "df1 = df.loc[ df[dep_var] == 'TOR']\n",
    "\n",
    "print('Values in df1: ')\n",
    "print(df1[dep_var].value_counts())\n",
    "\n",
    "# Acquire all of the samples that fall into the NONTOR class ( WHERE class is 'NONTOR' )\n",
    "df2 = df.loc[ df[dep_var] == 'NONTOR']\n",
    "\n",
    "print('\\nValues in df2: ')\n",
    "print(df2[dep_var].value_counts())"
   ]
  },
  {
   "cell_type": "markdown",
   "metadata": {},
   "source": [
    "Now that we've added all of the 'TOR' samples to this extra dataframe, let's randomly select `low_count` number of samples from the 'NONTOR' class."
   ]
  },
  {
   "cell_type": "code",
   "execution_count": 6,
   "metadata": {},
   "outputs": [
    {
     "name": "stdout",
     "output_type": "stream",
     "text": [
      "Values in df1: \n",
      "TOR    3314\n",
      "Name: class, dtype: int64\n",
      "\n",
      "Values in df2: \n",
      "NONTOR    3314\n",
      "Name: class, dtype: int64\n"
     ]
    }
   ],
   "source": [
    "# Sample down df2\n",
    "df2 = df2.sample(low_count, random_state=random_state)\n",
    "\n",
    "print('Values in df1: ')\n",
    "print(df1[dep_var].value_counts())\n",
    "\n",
    "print('\\nValues in df2: ')\n",
    "print(df2[dep_var].value_counts())"
   ]
  },
  {
   "cell_type": "markdown",
   "metadata": {},
   "source": [
    "Time to throw df1 and df2 into a frame together..."
   ]
  },
  {
   "cell_type": "code",
   "execution_count": 7,
   "metadata": {},
   "outputs": [
    {
     "name": "stdout",
     "output_type": "stream",
     "text": [
      "TOR       3314\n",
      "NONTOR    3314\n",
      "Name: class, dtype: int64\n"
     ]
    }
   ],
   "source": [
    "# Concat the two dataframes and overwrite df\n",
    "df = pd.concat([df1, df2])\n",
    "\n",
    "print(df[dep_var].value_counts())"
   ]
  },
  {
   "cell_type": "markdown",
   "metadata": {},
   "source": [
    "Voilà, now let's throw it into a separate file!"
   ]
  },
  {
   "cell_type": "code",
   "execution_count": 8,
   "metadata": {},
   "outputs": [],
   "source": [
    "df.to_csv(path + scenario + 'downsampled_' + file)"
   ]
  },
  {
   "cell_type": "markdown",
   "metadata": {},
   "source": [
    "## Trust but Verify\n",
    "While I like to think my code always works, I know that humans are the reason most code breaks. Due to this, we will import the datafile we just wrote and verify it's composition, below."
   ]
  },
  {
   "cell_type": "code",
   "execution_count": 9,
   "metadata": {},
   "outputs": [
    {
     "name": "stdout",
     "output_type": "stream",
     "text": [
      "TOR       3314\n",
      "NONTOR    3314\n",
      "Name: class, dtype: int64\n"
     ]
    }
   ],
   "source": [
    "df = pd.read_csv(path + scenario + 'downsampled_' + file)\n",
    "print(df[dep_var].value_counts())"
   ]
  },
  {
   "cell_type": "markdown",
   "metadata": {},
   "source": [
    "Now, all we have to rinse and repeat for any of the other files we have!"
   ]
  }
 ],
 "metadata": {
  "kernelspec": {
   "display_name": "Python 3",
   "language": "python",
   "name": "python3"
  },
  "language_info": {
   "codemirror_mode": {
    "name": "ipython",
    "version": 3
   },
   "file_extension": ".py",
   "mimetype": "text/x-python",
   "name": "python",
   "nbconvert_exporter": "python",
   "pygments_lexer": "ipython3",
   "version": "3.7.6"
  }
 },
 "nbformat": 4,
 "nbformat_minor": 4
}
