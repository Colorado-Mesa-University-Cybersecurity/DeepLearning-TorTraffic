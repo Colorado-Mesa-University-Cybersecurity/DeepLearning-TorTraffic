{
 "cells": [
  {
   "cell_type": "code",
   "execution_count": 1,
   "metadata": {},
   "outputs": [
    {
     "name": "stdout",
     "output_type": "stream",
     "text": [
      "Imports complete.\n"
     ]
    }
   ],
   "source": [
    "import pandas as pd\n",
    "\n",
    "print('Imports complete.')"
   ]
  },
  {
   "cell_type": "code",
   "execution_count": 2,
   "metadata": {},
   "outputs": [
    {
     "name": "stdout",
     "output_type": "stream",
     "text": [
      "   Source IP   Source Port  Destination IP   Destination Port   Protocol  \\\n",
      "0  10.0.2.15         53913   216.58.208.46                 80          6   \n",
      "1  10.0.2.15         53913   216.58.208.46                 80          6   \n",
      "2  10.0.2.15         53913   216.58.208.46                 80          6   \n",
      "3  10.0.2.15         53913   216.58.208.46                 80          6   \n",
      "4  10.0.2.15         53913   216.58.208.46                 80          6   \n",
      "\n",
      "    Flow Duration   Flow Bytes/s   Flow Packets/s   Flow IAT Mean  \\\n",
      "0             435            0.0      4597.701149           435.0   \n",
      "1             259            0.0      7722.007722           259.0   \n",
      "2             891            0.0      2244.668911           891.0   \n",
      "3            1074            0.0      1862.197393          1074.0   \n",
      "4             315            0.0      6349.206349           315.0   \n",
      "\n",
      "    Flow IAT Std  ...   Bwd IAT Min  Active Mean   Active Std   Active Max  \\\n",
      "0            0.0  ...             0            0            0            0   \n",
      "1            0.0  ...             0            0            0            0   \n",
      "2            0.0  ...             0            0            0            0   \n",
      "3            0.0  ...             0            0            0            0   \n",
      "4            0.0  ...             0            0            0            0   \n",
      "\n",
      "    Active Min  Idle Mean   Idle Std   Idle Max   Idle Min   label  \n",
      "0            0          0          0          0          0  nonTOR  \n",
      "1            0          0          0          0          0  nonTOR  \n",
      "2            0          0          0          0          0  nonTOR  \n",
      "3            0          0          0          0          0  nonTOR  \n",
      "4            0          0          0          0          0  nonTOR  \n",
      "\n",
      "[5 rows x 29 columns]\n"
     ]
    }
   ],
   "source": [
    "df = pd.read_csv('../../tor_dataset/Scenario-A/SelectedFeatures-10s-TOR-NonTOR.csv')\n",
    "print(df.head())"
   ]
  },
  {
   "cell_type": "code",
   "execution_count": 3,
   "metadata": {},
   "outputs": [
    {
     "name": "stdout",
     "output_type": "stream",
     "text": [
      "nonTOR    59790\n",
      "TOR        8044\n",
      "Name: label, dtype: int64\n"
     ]
    }
   ],
   "source": [
    "print(df['label'].value_counts())"
   ]
  },
  {
   "cell_type": "code",
   "execution_count": 4,
   "metadata": {},
   "outputs": [
    {
     "name": "stdout",
     "output_type": "stream",
     "text": [
      "nonTOR    8044\n",
      "TOR       8044\n",
      "Name: label, dtype: int64\n"
     ]
    }
   ],
   "source": [
    "df = pd.concat([ (df.loc[ df['label'] == 'nonTOR']).sample(8044), df.loc[ df['label'] == 'TOR'] ])\n",
    "print(df['label'].value_counts())"
   ]
  },
  {
   "cell_type": "code",
   "execution_count": 5,
   "metadata": {},
   "outputs": [
    {
     "name": "stdout",
     "output_type": "stream",
     "text": [
      "Imports complete.\n"
     ]
    }
   ],
   "source": [
    "from sklearn.tree import DecisionTreeClassifier\n",
    "from sklearn.model_selection import train_test_split\n",
    "from sklearn.preprocessing import LabelEncoder\n",
    "\n",
    "print('Imports complete.')"
   ]
  },
  {
   "cell_type": "code",
   "execution_count": 6,
   "metadata": {},
   "outputs": [],
   "source": [
    "random_state=1\n",
    "dt = DecisionTreeClassifier(random_state=random_state)"
   ]
  },
  {
   "cell_type": "code",
   "execution_count": 7,
   "metadata": {},
   "outputs": [],
   "source": [
    "for col in df.columns[:-1]:\n",
    "    #print(X[col].dtype)\n",
    "    if df[col].dtype == 'object':\n",
    "        del df[col]"
   ]
  },
  {
   "cell_type": "code",
   "execution_count": 8,
   "metadata": {},
   "outputs": [],
   "source": [
    "X = df.loc[:, df.columns != 'label']\n",
    "y = df['label']\n",
    "label_encoder = LabelEncoder()\n",
    "y = label_encoder.fit_transform(y)\n",
    "\n",
    "X_train, X_test, y_train, y_test = train_test_split(X, y, test_size=0.2, shuffle=True, stratify=y, random_state=random_state)"
   ]
  },
  {
   "cell_type": "code",
   "execution_count": 9,
   "metadata": {},
   "outputs": [
    {
     "name": "stdout",
     "output_type": "stream",
     "text": [
      "Length of X_train: 12870\n",
      "Length of X_test: 3218\n"
     ]
    }
   ],
   "source": [
    "print('Length of X_train: {}'.format(len(X_train)))\n",
    "print('Length of X_test: {}'.format(len(X_test)))"
   ]
  },
  {
   "cell_type": "code",
   "execution_count": 10,
   "metadata": {},
   "outputs": [
    {
     "name": "stdout",
     "output_type": "stream",
     "text": [
      "        Source Port   Destination Port   Protocol   Flow Duration  \\\n",
      "33184          5639                 53         17          148504   \n",
      "38781         18572                 53         17          132374   \n",
      "55113         17500              17500         17            2270   \n",
      "58788           443              54130          6         9997767   \n",
      "58352           443              54130          6         9940213   \n",
      "...             ...                ...        ...             ...   \n",
      "60028           443              41994          6         9999763   \n",
      "54057           443              37652          6         9970335   \n",
      "56163         17500              17500         17            1308   \n",
      "29157         54420                443          6         9494284   \n",
      "55675         36922                443          6         9926164   \n",
      "\n",
      "        Flow Bytes/s   Flow Packets/s   Flow IAT Mean   Flow IAT Std  \\\n",
      "33184    1178.419437        13.467651    1.485040e+05   0.000000e+00   \n",
      "38781    1979.240636        15.108707    1.323740e+05   0.000000e+00   \n",
      "55113  101321.585903       881.057269    2.270000e+03   0.000000e+00   \n",
      "58788  292471.608910       360.380473    2.775615e+03   9.057051e+03   \n",
      "58352  281614.488543       339.429346    2.946995e+03   1.289018e+04   \n",
      "...              ...              ...             ...            ...   \n",
      "60028  333787.010752       409.509705    2.442541e+03   1.070100e+04   \n",
      "54057   61351.398925        84.550820    1.184125e+04   3.133789e+04   \n",
      "56163  159021.406728      1529.051988    1.308000e+03   0.000000e+00   \n",
      "29157     337.044900         0.947939    1.186786e+06   3.110938e+06   \n",
      "55675  133720.337484       184.159762    5.433040e+03   3.031987e+04   \n",
      "\n",
      "        Flow IAT Max   Flow IAT Min  ...   Bwd IAT Max   Bwd IAT Min  \\\n",
      "33184         148504         148504  ...             0             0   \n",
      "38781         132374         132374  ...             0             0   \n",
      "55113           2270           2270  ...             0             0   \n",
      "58788         101036              0  ...        101316            43   \n",
      "58352         110607              0  ...        111466            33   \n",
      "...              ...            ...  ...           ...           ...   \n",
      "60028         118961              0  ...        130794             0   \n",
      "54057         286709              4  ...        286784            23   \n",
      "56163           1308           1308  ...             0             0   \n",
      "29157        8874404             47  ...       8874612        127858   \n",
      "55675         493188              0  ...        493188             1   \n",
      "\n",
      "       Active Mean   Active Std   Active Max   Active Min  Idle Mean  \\\n",
      "33184            0            0            0            0          0   \n",
      "38781            0            0            0            0          0   \n",
      "55113            0            0            0            0          0   \n",
      "58788            0            0            0            0          0   \n",
      "58352            0            0            0            0          0   \n",
      "...            ...          ...          ...          ...        ...   \n",
      "60028            0            0            0            0          0   \n",
      "54057            0            0            0            0          0   \n",
      "56163            0            0            0            0          0   \n",
      "29157       619721            0       619721       619721    8874404   \n",
      "55675            0            0            0            0          0   \n",
      "\n",
      "        Idle Std   Idle Max   Idle Min  \n",
      "33184          0          0          0  \n",
      "38781          0          0          0  \n",
      "55113          0          0          0  \n",
      "58788          0          0          0  \n",
      "58352          0          0          0  \n",
      "...          ...        ...        ...  \n",
      "60028          0          0          0  \n",
      "54057          0          0          0  \n",
      "56163          0          0          0  \n",
      "29157          0    8874404    8874404  \n",
      "55675          0          0          0  \n",
      "\n",
      "[12870 rows x 26 columns]\n"
     ]
    }
   ],
   "source": [
    "print(X_train)"
   ]
  },
  {
   "cell_type": "code",
   "execution_count": 11,
   "metadata": {},
   "outputs": [
    {
     "name": "stdout",
     "output_type": "stream",
     "text": [
      "0.9801118707271598\n"
     ]
    }
   ],
   "source": [
    "dt.fit(X_train, y_train)\n",
    "results_dt = dt.score(X_test, y_test)\n",
    "print(results_dt)"
   ]
  },
  {
   "cell_type": "code",
   "execution_count": 13,
   "metadata": {},
   "outputs": [
    {
     "name": "stdout",
     "output_type": "stream",
     "text": [
      "0.9869484151646986\n"
     ]
    }
   ],
   "source": [
    "from sklearn.ensemble import RandomForestClassifier\n",
    "\n",
    "rf = RandomForestClassifier(n_estimators=100, random_state=random_state)\n",
    "rf.fit(X_train, y_train)\n",
    "results_rf = rf.score(X_test, y_test)\n",
    "print(results_rf)"
   ]
  },
  {
   "cell_type": "code",
   "execution_count": null,
   "metadata": {},
   "outputs": [],
   "source": []
  }
 ],
 "metadata": {
  "kernelspec": {
   "display_name": "Python 3",
   "language": "python",
   "name": "python3"
  },
  "language_info": {
   "codemirror_mode": {
    "name": "ipython",
    "version": 3
   },
   "file_extension": ".py",
   "mimetype": "text/x-python",
   "name": "python",
   "nbconvert_exporter": "python",
   "pygments_lexer": "ipython3",
   "version": "3.7.6"
  }
 },
 "nbformat": 4,
 "nbformat_minor": 4
}
