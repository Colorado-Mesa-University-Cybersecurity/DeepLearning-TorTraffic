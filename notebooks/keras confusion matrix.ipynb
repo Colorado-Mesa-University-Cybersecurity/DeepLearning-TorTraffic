{
 "cells": [
  {
   "cell_type": "markdown",
   "metadata": {},
   "source": [
    "# Keras Confusion Matrix\n",
    "The goal of this notebook is to demonstrate how to create a confusion matrix using the Keras API. To start off with, we are going to figure out how to make a confusion matrix using a two-class problem using the Tor/NonTor dataset."
   ]
  },
  {
   "cell_type": "code",
   "execution_count": 1,
   "metadata": {},
   "outputs": [
    {
     "name": "stderr",
     "output_type": "stream",
     "text": [
      "Using TensorFlow backend.\n"
     ]
    },
    {
     "name": "stdout",
     "output_type": "stream",
     "text": [
      "Imports complete.\n"
     ]
    }
   ],
   "source": [
    "# DataFrame handling\n",
    "import pandas as pd\n",
    "\n",
    "# keras Models\n",
    "from keras.models import Sequential\n",
    "from keras.layers import Dense\n",
    "from keras.metrics import CategoricalAccuracy, TruePositives, FalsePositives, TrueNegatives, FalseNegatives, Recall, Precision\n",
    "\n",
    "# Split data with stratified cv\n",
    "from sklearn.model_selection import train_test_split\n",
    "\n",
    "# Encoding of classifications\n",
    "from sklearn.preprocessing import LabelEncoder\n",
    "from keras.utils import to_categorical, normalize\n",
    "\n",
    "print('Imports complete.')"
   ]
  },
  {
   "cell_type": "markdown",
   "metadata": {},
   "source": [
    "## Import Data\n",
    "We're using the `getXy` function here to import the data file we hand it and split it up into `X` (for the sample data) and `y` for the target classifications. Using this technique, we are able to easily access both the data and class for a given sample without every accidently handing a model both pieces of information, unless on purpose, else we'd produce a model that is a great cheater.  \n",
    "\n",
    "The `getXy` function is extremely convenient when we have to train on multiple datasets. Instead of going through all of the same code over and over again, we simply call this function to retrieve it."
   ]
  },
  {
   "cell_type": "code",
   "execution_count": 2,
   "metadata": {},
   "outputs": [],
   "source": [
    "def getXy(filename='', verbose=False, dep_var=None):\n",
    "    \"\"\"\n",
    "        This function takes a filename, loads the data into a dataframe, then separates the classification data\n",
    "        \n",
    "        args:\n",
    "            filename => str, path to csv file to be loaded\n",
    "            \n",
    "        returns:\n",
    "            list(X,y) => data, classifications\n",
    "    \"\"\"\n",
    "    df = pd.read_csv(filename)\n",
    "    \n",
    "    if verbose:\n",
    "        print('Before encoding and splitting:')\n",
    "        print(df.head())\n",
    "        print('\\nData Composition')\n",
    "        print(df[dep_var].value_counts())\n",
    "    \n",
    "    # Actual data\n",
    "    X = df.loc[:, df.columns != dep_var]\n",
    "    \n",
    "    # Set number of classes we see\n",
    "    num_classes = df[dep_var].nunique()\n",
    "    \n",
    "    # Classifications\n",
    "    encoder = LabelEncoder()\n",
    "    y = encoder.fit_transform(df[dep_var])\n",
    "    \n",
    "    if verbose:\n",
    "        print('Classification encoding:')\n",
    "        for i in range(len(encoder.classes_)):\n",
    "            print('\\t{} => {}'.format(i, encoder.classes_[i]))\n",
    "        \n",
    "        print('After encoding and splitting:')\n",
    "        print('X = ')\n",
    "        print(X.head())\n",
    "        print('\\ny = ')\n",
    "        print(y[:5])\n",
    "    \n",
    "    # X holds the data while y holds the classifications\n",
    "    return X, y"
   ]
  },
  {
   "cell_type": "markdown",
   "metadata": {},
   "source": [
    "Now that we've defined this function, we need to set up some constants, load in the data, and fix it up. Normalizing the data is just a typical process to look at how the data changes with respect to the averages for column. We call the `to_categorical` function to [one-hot encode](https://en.wikipedia.org/wiki/One-hot) the `y` (target classification) data."
   ]
  },
  {
   "cell_type": "code",
   "execution_count": 3,
   "metadata": {},
   "outputs": [
    {
     "name": "stdout",
     "output_type": "stream",
     "text": [
      "Before encoding and splitting:\n",
      "   duration  total_fiat  total_biat  min_fiat  min_biat       max_fiat  \\\n",
      "0   9368711          16           4   1564818   1549373  190205.285714   \n",
      "1   7340238          18           4   1567554   1527893  165686.977273   \n",
      "2   4644225          29          15   1270547   1079974  165865.178571   \n",
      "3   4978735          19           8   2492050   2457286  239543.250000   \n",
      "4  11838189          19          10   3094089   3093543  243766.500000   \n",
      "\n",
      "        max_biat      mean_fiat      mean_biat  flowPktsPerSecond  ...  \\\n",
      "0  203290.456522  389822.391917  370323.719754          10.353612  ...   \n",
      "1  186914.846154  317267.548742  304370.651301          11.580006  ...   \n",
      "2  195302.130435  329473.126261  300492.588227          11.412022  ...   \n",
      "3  276596.388889  612435.304238  628339.573544           8.034169  ...   \n",
      "4  295954.725000  599721.781709  625632.703972           7.602514  ...   \n",
      "\n",
      "     std_flowiat  min_active   mean_active  max_active    std_active  \\\n",
      "0  267600.198443     1871488  1.983656e+06     2195089  1.832197e+05   \n",
      "1  221462.862028     1491627  3.572433e+06     5653239  2.942704e+06   \n",
      "2  217475.425246     1758922  1.758922e+06     1758922  0.000000e+00   \n",
      "3  436959.716436     1710925  2.382905e+06     3054885  9.503232e+05   \n",
      "4  436129.639296     1747431  2.400446e+06     3240696  6.232744e+05   \n",
      "\n",
      "   min_idle  mean_idle  max_idle       std_idle   class  \n",
      "0   1234883  1420565.0   1523088  161096.539275  NONTOR  \n",
      "1   1131498  1324636.0   1517774  273138.379008  NONTOR  \n",
      "2   1079974  1079974.0   1079974       0.000000  NONTOR  \n",
      "3   1346073  1894031.5   2441990  774930.342317  NONTOR  \n",
      "4   1394455  1983227.0   3042717  725987.829075  NONTOR  \n",
      "\n",
      "[5 rows x 24 columns]\n",
      "\n",
      "Data Composition\n",
      "NONTOR    18758\n",
      "TOR        3314\n",
      "Name: class, dtype: int64\n",
      "Classification encoding:\n",
      "\t0 => NONTOR\n",
      "\t1 => TOR\n",
      "After encoding and splitting:\n",
      "X = \n",
      "   duration  total_fiat  total_biat  min_fiat  min_biat       max_fiat  \\\n",
      "0   9368711          16           4   1564818   1549373  190205.285714   \n",
      "1   7340238          18           4   1567554   1527893  165686.977273   \n",
      "2   4644225          29          15   1270547   1079974  165865.178571   \n",
      "3   4978735          19           8   2492050   2457286  239543.250000   \n",
      "4  11838189          19          10   3094089   3093543  243766.500000   \n",
      "\n",
      "        max_biat      mean_fiat      mean_biat  flowPktsPerSecond  ...  \\\n",
      "0  203290.456522  389822.391917  370323.719754          10.353612  ...   \n",
      "1  186914.846154  317267.548742  304370.651301          11.580006  ...   \n",
      "2  195302.130435  329473.126261  300492.588227          11.412022  ...   \n",
      "3  276596.388889  612435.304238  628339.573544           8.034169  ...   \n",
      "4  295954.725000  599721.781709  625632.703972           7.602514  ...   \n",
      "\n",
      "    mean_flowiat    std_flowiat  min_active   mean_active  max_active  \\\n",
      "0   97590.739583  267600.198443     1871488  1.983656e+06     2195089   \n",
      "1   87383.785714  221462.862028     1491627  3.572433e+06     5653239   \n",
      "2   89312.019231  217475.425246     1758922  1.758922e+06     1758922   \n",
      "3  127659.871795  436959.716436     1710925  2.382905e+06     3054885   \n",
      "4  133013.359551  436129.639296     1747431  2.400446e+06     3240696   \n",
      "\n",
      "     std_active  min_idle  mean_idle  max_idle       std_idle  \n",
      "0  1.832197e+05   1234883  1420565.0   1523088  161096.539275  \n",
      "1  2.942704e+06   1131498  1324636.0   1517774  273138.379008  \n",
      "2  0.000000e+00   1079974  1079974.0   1079974       0.000000  \n",
      "3  9.503232e+05   1346073  1894031.5   2441990  774930.342317  \n",
      "4  6.232744e+05   1394455  1983227.0   3042717  725987.829075  \n",
      "\n",
      "[5 rows x 23 columns]\n",
      "\n",
      "y = \n",
      "[0 0 0 0 0]\n"
     ]
    }
   ],
   "source": [
    "# Define the random states for reproducibility\n",
    "random_state = 1\n",
    "\n",
    "# Import the data file\n",
    "path = '../../tor_dataset/'\n",
    "scenario = 'Scenario-A/'\n",
    "file = 'TimeBasedFeatures-15s-TOR-NonTOR.csv'\n",
    "\n",
    "# Define the dependent variable\n",
    "dep_var = 'class'\n",
    "\n",
    "X, y = getXy(path + scenario + file, dep_var=dep_var, verbose=True)\n",
    "\n",
    "\n",
    "# Normalize the data in X and categorize y\n",
    "X = normalize(X)\n",
    "y = to_categorical(y)"
   ]
  },
  {
   "cell_type": "markdown",
   "metadata": {},
   "source": [
    "We see a ton of output from this `getXy` function because we've set the `verbose` flag. The only reason this is necessary is so we can look at the composition of the data, i.e. we want to know how many of each class there is in the dataset. As we can see above, we have 18,758 NonTor labels and 3,314 Tor labels.   \n",
    "\n",
    "Let's make sure the data is what we'd expect now that we've messed with it. We want `y` to be one-hot encoded and the data composition should not change."
   ]
  },
  {
   "cell_type": "code",
   "execution_count": 4,
   "metadata": {},
   "outputs": [
    {
     "name": "stdout",
     "output_type": "stream",
     "text": [
      "[[1. 0.]\n",
      " [1. 0.]\n",
      " [1. 0.]\n",
      " [1. 0.]\n",
      " [1. 0.]]\n",
      "[18758.0, 3314.0]\n"
     ]
    }
   ],
   "source": [
    "print(y[:5])\n",
    "summed = [0, 0]\n",
    "for sample in y:\n",
    "    summed[0] += sample[0]\n",
    "    summed[1] += sample[1]\n",
    "print(summed)"
   ]
  },
  {
   "cell_type": "markdown",
   "metadata": {},
   "source": [
    "We can see above that the `y` data is correctly encoded! Under this output, we also see the sum of each column. From this, we can conclude that the NonTor label is the first index (idx = 0) of the encoded system and Tor is in the second (idx = 1). What can we do with this information? Let's keep track of this in an array, below."
   ]
  },
  {
   "cell_type": "code",
   "execution_count": 5,
   "metadata": {},
   "outputs": [],
   "source": [
    "names = ['NONTOR', 'TOR']"
   ]
  },
  {
   "cell_type": "markdown",
   "metadata": {},
   "source": [
    "Just to be extra sure, let's make sure that `X` and `y` are the same length."
   ]
  },
  {
   "cell_type": "code",
   "execution_count": 6,
   "metadata": {},
   "outputs": [
    {
     "name": "stdout",
     "output_type": "stream",
     "text": [
      "Length of X: 22072\n",
      "Length of y: 22072\n"
     ]
    }
   ],
   "source": [
    "print('Length of X: {}'.format(len(X)))\n",
    "print('Length of y: {}'.format(len(y)))"
   ]
  },
  {
   "cell_type": "markdown",
   "metadata": {},
   "source": [
    "Great! Everything is in line for us to split the data up into training and testing sets."
   ]
  },
  {
   "cell_type": "code",
   "execution_count": 7,
   "metadata": {},
   "outputs": [],
   "source": [
    "X_train, X_test, y_train, y_test = train_test_split(X, y, test_size=0.2, random_state=1)"
   ]
  },
  {
   "cell_type": "code",
   "execution_count": 8,
   "metadata": {},
   "outputs": [
    {
     "name": "stdout",
     "output_type": "stream",
     "text": [
      "Length of X_train: 17657\n",
      "Length of y_train: 17657\n",
      "Length of X_test: 4415\n",
      "Length of y_test: 4415\n"
     ]
    }
   ],
   "source": [
    "print('Length of X_train: {}'.format(len(X_train)))\n",
    "print('Length of y_train: {}'.format(len(y_train)))\n",
    "print('Length of X_test: {}'.format(len(X_test)))\n",
    "print('Length of y_test: {}'.format(len(y_test)))"
   ]
  },
  {
   "cell_type": "markdown",
   "metadata": {},
   "source": [
    "## Training the Model\n",
    "Now that we've split up the data, we see that a majority of the data is in the training sets. This is what is expected. We will now create the metric objects and the deep learning model."
   ]
  },
  {
   "cell_type": "code",
   "execution_count": 9,
   "metadata": {},
   "outputs": [],
   "source": [
    "metrics = [\n",
    "    CategoricalAccuracy(),\n",
    "    TruePositives(),\n",
    "    FalsePositives(),\n",
    "    TrueNegatives(),\n",
    "    FalseNegatives(),\n",
    "    Recall(),\n",
    "    Precision()\n",
    "]\n",
    "model = Sequential([\n",
    "            Dense(64, input_shape=(23,)),\n",
    "            Dense(32, activation='relu'),\n",
    "            Dense(2, activation='softmax')\n",
    "])\n",
    "model.compile(optimizer='adam', loss='categorical_crossentropy', metrics=metrics)"
   ]
  },
  {
   "cell_type": "markdown",
   "metadata": {},
   "source": [
    "We will train the model we've created on the training data for 10 rounds/epochs."
   ]
  },
  {
   "cell_type": "code",
   "execution_count": 10,
   "metadata": {},
   "outputs": [
    {
     "name": "stdout",
     "output_type": "stream",
     "text": [
      "Epoch 1/10\n",
      "552/552 - 2s - loss: 0.0511 - categorical_accuracy: 0.9840 - true_positives: 17375.0000 - false_positives: 282.0000 - true_negatives: 17375.0000 - false_negatives: 282.0000 - recall: 0.9840 - precision: 0.9840\n",
      "Epoch 2/10\n",
      "552/552 - 2s - loss: 0.0061 - categorical_accuracy: 0.9990 - true_positives: 17639.0000 - false_positives: 18.0000 - true_negatives: 17639.0000 - false_negatives: 18.0000 - recall: 0.9990 - precision: 0.9990\n",
      "Epoch 3/10\n",
      "552/552 - 2s - loss: 0.0053 - categorical_accuracy: 0.9991 - true_positives: 17641.0000 - false_positives: 16.0000 - true_negatives: 17641.0000 - false_negatives: 16.0000 - recall: 0.9991 - precision: 0.9991\n",
      "Epoch 4/10\n",
      "552/552 - 2s - loss: 0.0051 - categorical_accuracy: 0.9991 - true_positives: 17641.0000 - false_positives: 16.0000 - true_negatives: 17641.0000 - false_negatives: 16.0000 - recall: 0.9991 - precision: 0.9991\n",
      "Epoch 5/10\n",
      "552/552 - 2s - loss: 0.0049 - categorical_accuracy: 0.9991 - true_positives: 17641.0000 - false_positives: 16.0000 - true_negatives: 17641.0000 - false_negatives: 16.0000 - recall: 0.9991 - precision: 0.9991\n",
      "Epoch 6/10\n",
      "552/552 - 2s - loss: 0.0048 - categorical_accuracy: 0.9991 - true_positives: 17641.0000 - false_positives: 16.0000 - true_negatives: 17641.0000 - false_negatives: 16.0000 - recall: 0.9991 - precision: 0.9991\n",
      "Epoch 7/10\n",
      "552/552 - 2s - loss: 0.0048 - categorical_accuracy: 0.9991 - true_positives: 17641.0000 - false_positives: 16.0000 - true_negatives: 17641.0000 - false_negatives: 16.0000 - recall: 0.9991 - precision: 0.9991\n",
      "Epoch 8/10\n",
      "552/552 - 2s - loss: 0.0048 - categorical_accuracy: 0.9991 - true_positives: 17641.0000 - false_positives: 16.0000 - true_negatives: 17641.0000 - false_negatives: 16.0000 - recall: 0.9991 - precision: 0.9991\n",
      "Epoch 9/10\n",
      "552/552 - 2s - loss: 0.0045 - categorical_accuracy: 0.9991 - true_positives: 17641.0000 - false_positives: 16.0000 - true_negatives: 17641.0000 - false_negatives: 16.0000 - recall: 0.9991 - precision: 0.9991\n",
      "Epoch 10/10\n",
      "552/552 - 2s - loss: 0.0047 - categorical_accuracy: 0.9991 - true_positives: 17641.0000 - false_positives: 16.0000 - true_negatives: 17641.0000 - false_negatives: 16.0000 - recall: 0.9991 - precision: 0.9991\n"
     ]
    },
    {
     "data": {
      "text/plain": [
       "<tensorflow.python.keras.callbacks.History at 0x7f78bc5822d0>"
      ]
     },
     "execution_count": 10,
     "metadata": {},
     "output_type": "execute_result"
    }
   ],
   "source": [
    "model.fit(X_train, y_train, epochs=10, verbose=2)"
   ]
  },
  {
   "cell_type": "markdown",
   "metadata": {},
   "source": [
    "From the output above, we see that the model is performing with around 99% accuracy on the data. However, accuracy isn't always the best way to determine the performance of a model. Of the metrics we are collecting, we see that Recall and Precision are also both high (~99%).   \n",
    "\n",
    "Further, it is a very likely possibility that the model is overfit to the training data. In order to test the model, we will use the `test` datasets. This is seen below."
   ]
  },
  {
   "cell_type": "code",
   "execution_count": 11,
   "metadata": {},
   "outputs": [
    {
     "name": "stdout",
     "output_type": "stream",
     "text": [
      "138/138 [==============================] - 0s 4ms/step - loss: 0.0038 - categorical_accuracy: 0.9991 - true_positives: 4411.0000 - false_positives: 4.0000 - true_negatives: 4411.0000 - false_negatives: 4.0000 - recall: 0.9991 - precision: 0.9991\n",
      "Metrics:\n",
      "\tLoss\tAcc\tTP\tFP\tTN\tFN\tRecall\tPrecision\n",
      "\t0.00\t1.00\t4411.00\t4.00\t4411.00\t4.00\t1.00\t1.00"
     ]
    }
   ],
   "source": [
    "results = model.evaluate(X_test, y_test)\n",
    "\n",
    "print('Metrics:')\n",
    "print('\\tLoss\\tAcc\\tTP\\tFP\\tTN\\tFN\\tRecall\\tPrecision')\n",
    "for result in results:\n",
    "    print('\\t{:.2f}'.format(result), end='')"
   ]
  },
  {
   "cell_type": "markdown",
   "metadata": {},
   "source": [
    "We can see extremely high performance from this model. However, what if I want to visualize the performance of the model? Well, just as it happens, that is the entire point of this notebook! In the next section, we will discuss creating a [confusion matrix](https://en.wikipedia.org/wiki/Confusion_matrix).  \n",
    "## Confusion Matrix\n",
    "To start off with, let's make sure we can specifically look at the predictions on the test data. We can see the first five predictions below."
   ]
  },
  {
   "cell_type": "code",
   "execution_count": 12,
   "metadata": {
    "scrolled": true
   },
   "outputs": [
    {
     "name": "stdout",
     "output_type": "stream",
     "text": [
      "Predictions:\n",
      "[[9.9999917e-01 8.1983643e-07]\n",
      " [1.5324163e-07 9.9999988e-01]\n",
      " [2.6143357e-07 9.9999976e-01]\n",
      " [9.9999988e-01 1.5195921e-07]\n",
      " [9.9999976e-01 2.0177721e-07]]\n",
      "Actual:\n",
      "[[1. 0.]\n",
      " [0. 1.]\n",
      " [0. 1.]\n",
      " [1. 0.]\n",
      " [1. 0.]]\n"
     ]
    }
   ],
   "source": [
    "print('Predictions:')\n",
    "predictions = model.predict(X_test)\n",
    "print(predictions[:5])\n",
    "\n",
    "print('Actual:')\n",
    "print(y_test[:5])"
   ]
  },
  {
   "cell_type": "markdown",
   "metadata": {},
   "source": [
    "As it turns out, while our `y_test` variable has only ones and zeros, our predicted values are somewhere in-between zero and one. Since we are using the `softmax` activation function in the output layer of the neural network, the sum of the values here add up to one. Thus, we interpret these values as the probability distribution over the given classifications. In the first sample we see here, the model is saying there is a 99.99% chance the sample belongs to zero-th classification (which is NonTor from our names array). In contrast, the model believes there is an extremely high probability that the second and third samples belong to the Tor classification.   \n",
    "\n",
    "To create a confusion matrix, we need to interpret these predictions and map them into a matrix with the predicted classification on one axis and the actual classification the other. We create an example of matrix below."
   ]
  },
  {
   "cell_type": "code",
   "execution_count": 13,
   "metadata": {},
   "outputs": [
    {
     "name": "stdout",
     "output_type": "stream",
     "text": [
      "[[0, 0], [0, 0]]\n"
     ]
    }
   ],
   "source": [
    "matrix = [ [ 0 for j in range(len(predictions[0]))]  for i in range(len(predictions[0]))]\n",
    "print(matrix[:5])"
   ]
  },
  {
   "cell_type": "markdown",
   "metadata": {},
   "source": [
    "We will interpret the chosen classification for a model as the highest-percentage output node for a given sample. We demonstrate the method below."
   ]
  },
  {
   "cell_type": "code",
   "execution_count": 14,
   "metadata": {},
   "outputs": [
    {
     "name": "stdout",
     "output_type": "stream",
     "text": [
      "Guess: 0\n",
      "Actual: 0\n"
     ]
    }
   ],
   "source": [
    "import numpy as np\n",
    "\n",
    "# Acquire the probability distribution for the first sample\n",
    "first_pred = predictions[0]\n",
    "\n",
    "# Return the index of the highest value in this probability distribution. \n",
    "#  This index is used to define the voted class in accordance to our names\n",
    "#  array.\n",
    "guess = np.argmax(first_pred)\n",
    "\n",
    "print('Guess: {}'.format(guess))\n",
    "print('Actual: {}'.format(np.argmax(y_test[0])))"
   ]
  },
  {
   "cell_type": "markdown",
   "metadata": {},
   "source": [
    "To create the confusion matrix, we will go through all of the sample classes and predictions, marking on the matrix where the vote of the model is. "
   ]
  },
  {
   "cell_type": "code",
   "execution_count": 15,
   "metadata": {},
   "outputs": [],
   "source": [
    "# Used to print the matrix in an easy fashion, however this is not the level of fancy that we strive for\n",
    "def print_matrix(matrix):\n",
    "    print('\\tPredicted')\n",
    "    for name in names:\n",
    "        print('\\t{}'.format(name), end='')\n",
    "    print('\\n', end='')\n",
    "    for i in range(len(matrix)):\n",
    "        print('{}'.format(names[i]), end='')\n",
    "        for col in matrix[i]:\n",
    "            print('\\t{}'.format(col), end='')\n",
    "        print('\\n', end='')"
   ]
  },
  {
   "cell_type": "code",
   "execution_count": 16,
   "metadata": {},
   "outputs": [
    {
     "name": "stdout",
     "output_type": "stream",
     "text": [
      "Initial matrix:\n",
      "\tPredicted\n",
      "\tNONTOR\tTOR\n",
      "NONTOR\t0\t0\n",
      "TOR\t0\t0\n",
      "\n",
      "Filled matrix:\n",
      "\tPredicted\n",
      "\tNONTOR\tTOR\n",
      "NONTOR\t3783\t0\n",
      "TOR\t4\t628\n"
     ]
    }
   ],
   "source": [
    "matrix = [ [ 0 for j in range(len(predictions[0]))]  for i in range(len(predictions[0]))]\n",
    "print('Initial matrix:')\n",
    "print_matrix(matrix)\n",
    "for i in range(len(predictions)):\n",
    "    pred = predictions[i]\n",
    "    test = y_test[i]\n",
    "    \n",
    "    guess = np.argmax(pred)\n",
    "    actual = np.argmax(test)\n",
    "    \n",
    "    matrix[actual][guess] += 1\n",
    "    \n",
    "print('\\nFilled matrix:')\n",
    "print_matrix(matrix)"
   ]
  },
  {
   "cell_type": "markdown",
   "metadata": {},
   "source": [
    "Now, we have first confusion matrix! However, it is not nearly fancy enough for our purposes here. Let's use some graphing techniques!"
   ]
  },
  {
   "cell_type": "code",
   "execution_count": 17,
   "metadata": {},
   "outputs": [
    {
     "name": "stdout",
     "output_type": "stream",
     "text": [
      "Indices: Index(['NONTOR', 'TOR'], dtype='object')\n",
      "        NONTOR  TOR\n",
      "NONTOR    3783    0\n",
      "TOR          4  628\n"
     ]
    },
    {
     "data": {
      "image/png": "[encoded data removed]",
      "text/plain": [
       "<Figure size 720x504 with 2 Axes>"
      ]
     },
     "metadata": {
      "needs_background": "light"
     },
     "output_type": "display_data"
    }
   ],
   "source": [
    "import seaborn as sn\n",
    "import pandas as pd\n",
    "import matplotlib.pyplot as plt\n",
    "\n",
    "df_cm = pd.DataFrame(matrix, range(len(matrix)), range(len(matrix)))\n",
    "int_cols = df_cm.columns\n",
    "df_cm.columns = names\n",
    "df_cm.index = names\n",
    "print('Indices: {}'.format(df_cm.index))\n",
    "\n",
    "print(df_cm.head())\n",
    "plt.figure(figsize=(10,7))\n",
    "sn.set(font_scale=1.5) # for label size\n",
    "ax = sn.heatmap(df_cm, annot=True, annot_kws={\"size\": 16}, fmt='g') # font size\n",
    "ax.set_ylabel('Actual')\n",
    "ax.set_xlabel('Predicted')\n",
    "\n",
    "plt.show()"
   ]
  },
  {
   "cell_type": "markdown",
   "metadata": {},
   "source": [
    "We have now successfully produced a confusion matrix. Let's throw this idea into a function and make it scalable. Once this is complete, we will test (and validate) the results with a larger categorical dataset!\n",
    "\n",
    "## Streamline and Scale"
   ]
  },
  {
   "cell_type": "code",
   "execution_count": 18,
   "metadata": {},
   "outputs": [],
   "source": [
    "def show_conf_matrix(model, X_test, y_test, names):\n",
    "    # Techniques from https://stackoverflow.com/questions/29647749/seaborn-showing-scientific-notation-in-heatmap-for-3-digit-numbers\n",
    "    # and https://stackoverflow.com/questions/35572000/how-can-i-plot-a-confusion-matrix#51163585\n",
    "    \n",
    "    predictions = model.predict(X_test)\n",
    "    matrix = [ [ 0 for j in range(len(predictions[0])) ]  for i in range(len(predictions[0])) ]\n",
    "    for i in range(len(predictions)):\n",
    "        pred = predictions[i]\n",
    "        test = y_test[i]\n",
    "\n",
    "        guess = np.argmax(pred)\n",
    "        actual = np.argmax(test)\n",
    "\n",
    "        matrix[actual][guess] += 1\n",
    "        \n",
    "    df_cm = pd.DataFrame(matrix, range(len(matrix)), range(len(matrix)))\n",
    "    int_cols = df_cm.columns\n",
    "    df_cm.columns = names\n",
    "    df_cm.index = names\n",
    "\n",
    "    plt.figure(figsize=(10,7))\n",
    "    sn.set(font_scale=1.5) # for label size\n",
    "    ax = sn.heatmap(df_cm, annot=True, annot_kws={\"size\": 16}, fmt='g') # font size\n",
    "    ax.set_ylabel('Actual')\n",
    "    ax.set_xlabel('Predicted')\n",
    "\n",
    "    plt.show()"
   ]
  },
  {
   "cell_type": "markdown",
   "metadata": {},
   "source": [
    "Let's test our fancy new function on the data we've already seen to make sure something hasn't gone terribly wrong somewhere."
   ]
  },
  {
   "cell_type": "code",
   "execution_count": 19,
   "metadata": {},
   "outputs": [
    {
     "data": {
      "image/png": "[encoded data removed]",
      "text/plain": [
       "<Figure size 720x504 with 2 Axes>"
      ]
     },
     "metadata": {},
     "output_type": "display_data"
    }
   ],
   "source": [
    "names = ['NONTOR', 'TOR']\n",
    "show_conf_matrix(model, X_test, y_test, names)"
   ]
  },
  {
   "cell_type": "markdown",
   "metadata": {},
   "source": [
    "This all checks out!\n",
    "\n",
    "## Trust but Verify\n",
    "Now, don't get excited yet. This is just the same result that we produced earlier. Let's import the other categorical dataset and observe the effects. There will be minimal markdown below because we have already gone through these steps with the Tor/NonTor dataset."
   ]
  },
  {
   "cell_type": "code",
   "execution_count": 20,
   "metadata": {},
   "outputs": [
    {
     "name": "stdout",
     "output_type": "stream",
     "text": [
      "Before encoding and splitting:\n",
      "   duration  total_fiat  total_biat  min_fiat  min_biat  max_fiat  max_biat  \\\n",
      "0  10345300    10345257    10345174        60        52   5871778   5870638   \n",
      "1  14966353    14966200    14966053         7         0    635321    635242   \n",
      "2    272867      233627      272820     20303     19353    213324    253467   \n",
      "3  14999391    14998887    14999391         0         0    149034    146556   \n",
      "4   7190597     7189947     7190597       116       492   6555090   6594711   \n",
      "\n",
      "       mean_fiat      mean_biat  flowPktsPerSecond  ...   std_flowiat  \\\n",
      "0  517262.850000  470235.181818           4.253139  ...  1.022685e+06   \n",
      "1   10502.596491    5615.779737         273.413302  ...  2.134758e+04   \n",
      "2  116813.500000  136410.000000          21.988734  ...  9.018174e+04   \n",
      "3    9062.771601    4758.690038         320.613017  ...  9.995782e+03   \n",
      "4  898743.375000  898824.625000           2.503269  ...  1.582350e+06   \n",
      "\n",
      "   min_active  mean_active  max_active    std_active  min_idle  mean_idle  \\\n",
      "0     4092108    4981436.0     5870764  1.257700e+06   3435979  4653308.5   \n",
      "1          -1          0.0          -1  0.000000e+00        -1        0.0   \n",
      "2          -1          0.0          -1  0.000000e+00        -1        0.0   \n",
      "3          -1          0.0          -1  0.000000e+00        -1        0.0   \n",
      "4     7051063    7051063.0     7051063  0.000000e+00   6555090  6555090.0   \n",
      "\n",
      "   max_idle      std_idle            class  \n",
      "0   5870638  1.721564e+06             CHAT  \n",
      "1        -1  0.000000e+00  VIDEO-STREAMING  \n",
      "2        -1  0.000000e+00             CHAT  \n",
      "3        -1  0.000000e+00  VIDEO-STREAMING  \n",
      "4   6555090  0.000000e+00             CHAT  \n",
      "\n",
      "[5 rows x 24 columns]\n",
      "\n",
      "Data Composition\n",
      "VOIP               1509\n",
      "VIDEO-STREAMING     598\n",
      "FILE-TRANSFER       480\n",
      "CHAT                243\n",
      "BROWSING            227\n",
      "EMAIL               186\n",
      "P2P                  71\n",
      "AUDIO-STREAMING      46\n",
      "Name: class, dtype: int64\n",
      "Classification encoding:\n",
      "\t0 => AUDIO-STREAMING\n",
      "\t1 => BROWSING\n",
      "\t2 => CHAT\n",
      "\t3 => EMAIL\n",
      "\t4 => FILE-TRANSFER\n",
      "\t5 => P2P\n",
      "\t6 => VIDEO-STREAMING\n",
      "\t7 => VOIP\n",
      "After encoding and splitting:\n",
      "X = \n",
      "   duration  total_fiat  total_biat  min_fiat  min_biat  max_fiat  max_biat  \\\n",
      "0  10345300    10345257    10345174        60        52   5871778   5870638   \n",
      "1  14966353    14966200    14966053         7         0    635321    635242   \n",
      "2    272867      233627      272820     20303     19353    213324    253467   \n",
      "3  14999391    14998887    14999391         0         0    149034    146556   \n",
      "4   7190597     7189947     7190597       116       492   6555090   6594711   \n",
      "\n",
      "       mean_fiat      mean_biat  flowPktsPerSecond  ...   mean_flowiat  \\\n",
      "0  517262.850000  470235.181818           4.253139  ...  240588.372093   \n",
      "1   10502.596491    5615.779737         273.413302  ...    3658.360548   \n",
      "2  116813.500000  136410.000000          21.988734  ...   54573.400000   \n",
      "3    9062.771601    4758.690038         320.613017  ...    3119.673669   \n",
      "4  898743.375000  898824.625000           2.503269  ...  422976.294118   \n",
      "\n",
      "    std_flowiat  min_active  mean_active  max_active    std_active  min_idle  \\\n",
      "0  1.022685e+06     4092108    4981436.0     5870764  1.257700e+06   3435979   \n",
      "1  2.134758e+04          -1          0.0          -1  0.000000e+00        -1   \n",
      "2  9.018174e+04          -1          0.0          -1  0.000000e+00        -1   \n",
      "3  9.995782e+03          -1          0.0          -1  0.000000e+00        -1   \n",
      "4  1.582350e+06     7051063    7051063.0     7051063  0.000000e+00   6555090   \n",
      "\n",
      "   mean_idle  max_idle      std_idle  \n",
      "0  4653308.5   5870638  1.721564e+06  \n",
      "1        0.0        -1  0.000000e+00  \n",
      "2        0.0        -1  0.000000e+00  \n",
      "3        0.0        -1  0.000000e+00  \n",
      "4  6555090.0   6555090  0.000000e+00  \n",
      "\n",
      "[5 rows x 23 columns]\n",
      "\n",
      "y = \n",
      "[2 6 2 6 2]\n"
     ]
    }
   ],
   "source": [
    "# Define the random state for reproducibility and set the dependent variable we expect\n",
    "random_state = 1\n",
    "dep_var = 'class'\n",
    "\n",
    "# Define the path to the dataset\n",
    "path = '../../tor_dataset/'\n",
    "\n",
    "# Set the scenario type (Directs to correct directory)\n",
    "scenario = 'Scenario-B/'\n",
    "\n",
    "# Define the file we want to talk about\n",
    "file = 'TimeBasedFeatures-15s-Layer2.csv'\n",
    "\n",
    "# Import the data and split it up based on the dependent variable\n",
    "X, y = getXy(path + scenario + file, dep_var=dep_var, verbose=True)"
   ]
  },
  {
   "cell_type": "code",
   "execution_count": 21,
   "metadata": {},
   "outputs": [],
   "source": [
    "# Clean up the dataset so we can work with Keras easier\n",
    "\n",
    "# Normalize the x data\n",
    "X = normalize(X)\n",
    "\n",
    "# Use One-Hot Encoding for the classification data, in this case we know there are going to be 8 categories, \n",
    "#  there will 8 columns of ones and zeros in the encoded version\n",
    "y = to_categorical(y, num_classes=8)"
   ]
  },
  {
   "cell_type": "code",
   "execution_count": 22,
   "metadata": {},
   "outputs": [
    {
     "name": "stdout",
     "output_type": "stream",
     "text": [
      "[[0. 0. 1. 0. 0. 0. 0. 0.]\n",
      " [0. 0. 0. 0. 0. 0. 1. 0.]\n",
      " [0. 0. 1. 0. 0. 0. 0. 0.]]\n"
     ]
    }
   ],
   "source": [
    "print(y[:3])"
   ]
  },
  {
   "cell_type": "code",
   "execution_count": 23,
   "metadata": {},
   "outputs": [
    {
     "name": "stdout",
     "output_type": "stream",
     "text": [
      "Size of train set:\n",
      "\tX: 2688\n",
      "\ty: 2688\n",
      "Size of test set:\n",
      "\tX: 672\n",
      "\ty: 672\n"
     ]
    }
   ],
   "source": [
    "# Split up the data into training and testing sets\n",
    "X_train, X_test, y_train, y_test = train_test_split(X, y, test_size=0.2, random_state=random_state)\n",
    "\n",
    "print('Size of train set:')\n",
    "print('\\tX: {}'.format(len(X_train)))\n",
    "print('\\ty: {}'.format(len(y_train)))\n",
    "print('Size of test set:')\n",
    "print('\\tX: {}'.format(len(X_test)))\n",
    "print('\\ty: {}'.format(len(y_test)))"
   ]
  },
  {
   "cell_type": "code",
   "execution_count": 24,
   "metadata": {},
   "outputs": [],
   "source": [
    "# Create the metrics for the deep learning model\n",
    "metrics = [\n",
    "    CategoricalAccuracy(),\n",
    "    TruePositives(),\n",
    "    FalsePositives(),\n",
    "    TrueNegatives(),\n",
    "    FalseNegatives(),\n",
    "    Recall(),\n",
    "    Precision()\n",
    "]\n",
    "\n",
    "# Create the model\n",
    "model = Sequential([\n",
    "            Dense(64, input_shape=(23,)),\n",
    "            Dense(32, activation='relu'),\n",
    "            Dense(8, activation='softmax')\n",
    "])\n",
    "model.compile(optimizer='adam', loss='categorical_crossentropy', metrics=metrics)"
   ]
  },
  {
   "cell_type": "code",
   "execution_count": 25,
   "metadata": {},
   "outputs": [
    {
     "data": {
      "text/plain": [
       "<tensorflow.python.keras.callbacks.History at 0x7f7889fec990>"
      ]
     },
     "execution_count": 25,
     "metadata": {},
     "output_type": "execute_result"
    }
   ],
   "source": [
    "model.fit(X_train, y_train, epochs=10, verbose=0)"
   ]
  },
  {
   "cell_type": "code",
   "execution_count": 26,
   "metadata": {},
   "outputs": [
    {
     "name": "stdout",
     "output_type": "stream",
     "text": [
      "21/21 [==============================] - 0s 3ms/step - loss: 1.2100 - categorical_accuracy: 0.5253 - true_positives_1: 269.0000 - false_positives_1: 142.0000 - true_negatives_1: 4562.0000 - false_negatives_1: 403.0000 - recall_1: 0.4003 - precision_1: 0.6545\n",
      "Metrics:\n",
      "\tLoss\tAcc\tTP\tFP\tTN\tFN\tRecall\tPrecision\n",
      "\t1.21\t0.53\t269.00\t142.00\t4562.00\t403.00\t0.40\t0.65"
     ]
    }
   ],
   "source": [
    "results = model.evaluate(X_test, y_test)\n",
    "\n",
    "print('Metrics:')\n",
    "print('\\tLoss\\tAcc\\tTP\\tFP\\tTN\\tFN\\tRecall\\tPrecision')\n",
    "for result in results:\n",
    "    print('\\t{:.2f}'.format(result), end='')"
   ]
  },
  {
   "cell_type": "markdown",
   "metadata": {},
   "source": [
    "I'm not sure why the metrics we see above look like they're from the training set. I cannot explain this, however we will keep moving on. If you figure this out, please let me know!"
   ]
  },
  {
   "cell_type": "code",
   "execution_count": 27,
   "metadata": {},
   "outputs": [
    {
     "data": {
      "image/png": "[encoded data removed]",
      "text/plain": [
       "<Figure size 720x504 with 2 Axes>"
      ]
     },
     "metadata": {},
     "output_type": "display_data"
    }
   ],
   "source": [
    "# Gathered from the getXy function\n",
    "#0 => AUDIO-STREAMING\n",
    "#1 => BROWSING\n",
    "#2 => CHAT\n",
    "#3 => EMAIL\n",
    "#4 => FILE-TRANSFER\n",
    "#5 => P2P\n",
    "#6 => VIDEO-STREAMING\n",
    "#7 => VOIP\n",
    "names = ['AUDIO-STREAMING', 'BROWSING', 'CHAT', 'EMAIL', 'FILE-TRANSFER', 'P2P', 'VIDEO-STREAMING', 'VOIP']\n",
    "show_conf_matrix(model, X_test, y_test, names)"
   ]
  },
  {
   "cell_type": "markdown",
   "metadata": {},
   "source": [
    "Beautiful! We have now demonstrated our capabilities in generating a fancy confusion matrix."
   ]
  }
 ],
 "metadata": {
  "kernelspec": {
   "display_name": "Python 3",
   "language": "python",
   "name": "python3"
  },
  "language_info": {
   "codemirror_mode": {
    "name": "ipython",
    "version": 3
   },
   "file_extension": ".py",
   "mimetype": "text/x-python",
   "name": "python",
   "nbconvert_exporter": "python",
   "pygments_lexer": "ipython3",
   "version": "3.7.6"
  }
 },
 "nbformat": 4,
 "nbformat_minor": 4
}
